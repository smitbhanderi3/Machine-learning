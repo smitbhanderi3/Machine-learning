{
 "cells": [
  {
   "cell_type": "markdown",
   "metadata": {
    "slideshow": {
     "slide_type": "-"
    }
   },
   "source": [
    "# Lecture 8: Hyperparameter Optimization and Optimization Bias\n",
    "\n"
   ]
  },
  {
   "cell_type": "markdown",
   "metadata": {
    "slideshow": {
     "slide_type": "skip"
    }
   },
   "source": [
    "## Imports"
   ]
  },
  {
   "cell_type": "code",
   "execution_count": 2,
   "metadata": {
    "slideshow": {
     "slide_type": "skip"
    }
   },
   "outputs": [],
   "source": [
    "import os\n",
    "import sys\n",
    "\n",
    "sys.path.append(\"code/.\")\n",
    "\n",
    "import IPython\n",
    "import ipywidgets as widgets\n",
    "import matplotlib.pyplot as plt\n",
    "#import mglearn\n",
    "import numpy as np\n",
    "import pandas as pd\n",
    "from IPython.display import HTML, display\n",
    "from ipywidgets import interact, interactive\n",
    "#from plotting_functions import *\n",
    "from sklearn.dummy import DummyClassifier\n",
    "from sklearn.feature_extraction.text import CountVectorizer, TfidfVectorizer\n",
    "from sklearn.impute import SimpleImputer\n",
    "from sklearn.model_selection import cross_val_score, cross_validate, train_test_split\n",
    "from sklearn.pipeline import Pipeline, make_pipeline\n",
    "from sklearn.preprocessing import OneHotEncoder, StandardScaler\n",
    "from sklearn.svm import SVC\n",
    "from sklearn.tree import DecisionTreeClassifier\n",
    "#from utils import *\n",
    "\n",
    "%matplotlib inline\n",
    "pd.set_option(\"display.max_colwidth\", 200)"
   ]
  },
  {
   "cell_type": "markdown",
   "metadata": {
    "slideshow": {
     "slide_type": "slide"
    }
   },
   "source": [
    "## Lecture plan for today\n",
    "\n",
    "- Announcements (~2 mins)\n",
    "- Watch hyperparameter optimization video on your own: https://youtu.be/lMWdHZSZMk8 \n",
    "- Live lecturing on `GridSearchCV` and `RandomizedSearchCV`.\n",
    "- Q&A and exercises \n",
    "- Break\n",
    "- Watch optimization bias video on your own: https://youtu.be/Z9a9XZ0vQv0 \n",
    "- Q&A and exercises "
   ]
  },
  {
   "cell_type": "markdown",
   "metadata": {
    "slideshow": {
     "slide_type": "skip"
    }
   },
   "source": [
    "<br><br>"
   ]
  },
  {
   "cell_type": "markdown",
   "metadata": {
    "slideshow": {
     "slide_type": "slide"
    }
   },
   "source": [
    "### Learning outcomes \n",
    "\n",
    "From this lecture, you will be able to \n",
    "\n",
    "- explain the need for hyperparameter optimization  \n",
    "- carry out hyperparameter optimization using `sklearn`'s `GridSearchCV` and `RandomizedSearchCV` \n",
    "- explain different hyperparameters of `GridSearchCV`\n",
    "- explain the importance of selecting a good range for the values. \n",
    "- explain optimization bias\n",
    "- identify and reason when to trust and not trust reported accuracies "
   ]
  },
  {
   "cell_type": "markdown",
   "metadata": {
    "slideshow": {
     "slide_type": "skip"
    }
   },
   "source": [
    "<br><br><br><br>"
   ]
  },
  {
   "cell_type": "markdown",
   "metadata": {
    "slideshow": {
     "slide_type": "slide"
    }
   },
   "source": [
    "## Hyperparameter optimization motivation "
   ]
  },
  {
   "cell_type": "markdown",
   "metadata": {
    "slideshow": {
     "slide_type": "slide"
    }
   },
   "source": [
    "### Motivation\n",
    "\n",
    "- Remember that the fundamental goal of supervised machine learning is to generalize beyond what we see in the training examples. \n",
    "- We have been using data splitting and cross-validation to provide a framework to approximate generalization error.  \n",
    "- With this framework, we can improve the model's generalization performance by tuning model hyperparameters using cross-validation on the training set. "
   ]
  },
  {
   "cell_type": "markdown",
   "metadata": {
    "slideshow": {
     "slide_type": "slide"
    }
   },
   "source": [
    "### Hyperparameters: the problem\n",
    "\n",
    "- In order to improve the generalization performance, finding the best values for the important hyperparameters of a model is necessary for almost all models and datasets. \n",
    "- Picking good hyperparameters is important because if we don't do it, we might end up with an underfit or overfit model. "
   ]
  },
  {
   "cell_type": "markdown",
   "metadata": {
    "slideshow": {
     "slide_type": "slide"
    }
   },
   "source": [
    "### Some ways to pick hyperparameters:\n",
    "- Manual or expert knowledge or heuristics based optimization \n",
    "- Data-driven or automated optimization"
   ]
  },
  {
   "cell_type": "markdown",
   "metadata": {
    "slideshow": {
     "slide_type": "slide"
    }
   },
   "source": [
    "#### Manual hyperparameter optimization\n",
    "\n",
    "- Advantage: we may have some intuition about what might work.\n",
    "  - E.g. if I'm massively overfitting, try decreasing `max_depth` or `C`.\n",
    "- Disadvantages\n",
    "    - it takes a lot of work\n",
    "    - not reproducible\n",
    "    - in very complicated cases, our intuition might be worse than a data-driven approach"
   ]
  },
  {
   "cell_type": "markdown",
   "metadata": {
    "slideshow": {
     "slide_type": "slide"
    }
   },
   "source": [
    "### Automated hyperparameter optimization \n",
    "\n",
    "- Formulate the hyperparamter optimization as a one big search problem. \n",
    "- Often we have many hyperparameters of different types: Categorical, integer, and continuous.\n",
    "- Often, the search space is quite big and systematic search for optimal values is infeasible. "
   ]
  },
  {
   "cell_type": "markdown",
   "metadata": {
    "slideshow": {
     "slide_type": "slide"
    }
   },
   "source": [
    "In homework assignments, we have been carrying out hyperparameter search by exhaustively trying different possible combinations of the hyperparameters of interest. "
   ]
  },
  {
   "cell_type": "code",
   "execution_count": 7,
   "metadata": {},
   "outputs": [
    {
     "name": "stdout",
     "output_type": "stream",
     "text": [
      "Requirement already satisfied: mglearn in c:\\users\\smit\\anaconda3\\lib\\site-packages (0.1.9)\n",
      "Requirement already satisfied: cycler in c:\\users\\smit\\anaconda3\\lib\\site-packages (from mglearn) (0.11.0)\n",
      "Requirement already satisfied: pandas in c:\\users\\smit\\anaconda3\\lib\\site-packages (from mglearn) (1.4.2)\n",
      "Requirement already satisfied: matplotlib in c:\\users\\smit\\anaconda3\\lib\\site-packages (from mglearn) (3.5.1)\n",
      "Requirement already satisfied: joblib in c:\\users\\smit\\anaconda3\\lib\\site-packages (from mglearn) (1.2.0)\n",
      "Requirement already satisfied: pillow in c:\\users\\smit\\anaconda3\\lib\\site-packages (from mglearn) (9.0.1)\n",
      "Requirement already satisfied: numpy in c:\\users\\smit\\anaconda3\\lib\\site-packages (from mglearn) (1.21.5)\n",
      "Requirement already satisfied: scikit-learn in c:\\users\\smit\\anaconda3\\lib\\site-packages (from mglearn) (1.2.1)\n",
      "Requirement already satisfied: imageio in c:\\users\\smit\\anaconda3\\lib\\site-packages (from mglearn) (2.9.0)\n",
      "Note: you may need to restart the kernel to use updated packages.Requirement already satisfied: packaging>=20.0 in c:\\users\\smit\\anaconda3\\lib\\site-packages (from matplotlib->mglearn) (21.3)\n",
      "Requirement already satisfied: kiwisolver>=1.0.1 in c:\\users\\smit\\anaconda3\\lib\\site-packages (from matplotlib->mglearn) (1.3.2)\n",
      "Requirement already satisfied: fonttools>=4.22.0 in c:\\users\\smit\\anaconda3\\lib\\site-packages (from matplotlib->mglearn) (4.25.0)\n",
      "Requirement already satisfied: python-dateutil>=2.7 in c:\\users\\smit\\anaconda3\\lib\\site-packages (from matplotlib->mglearn) (2.8.2)\n",
      "Requirement already satisfied: pyparsing>=2.2.1 in c:\\users\\smit\\anaconda3\\lib\\site-packages (from matplotlib->mglearn) (3.0.4)\n",
      "Requirement already satisfied: six>=1.5 in c:\\users\\smit\\anaconda3\\lib\\site-packages (from python-dateutil>=2.7->matplotlib->mglearn) (1.16.0)\n",
      "Requirement already satisfied: pytz>=2020.1 in c:\\users\\smit\\anaconda3\\lib\\site-packages (from pandas->mglearn) (2021.3)\n",
      "Requirement already satisfied: scipy>=1.3.2 in c:\\users\\smit\\anaconda3\\lib\\site-packages (from scikit-learn->mglearn) (1.7.3)\n",
      "Requirement already satisfied: threadpoolctl>=2.0.0 in c:\\users\\smit\\anaconda3\\lib\\site-packages (from scikit-learn->mglearn) (2.2.0)\n",
      "\n"
     ]
    }
   ],
   "source": [
    "pip install mglearn"
   ]
  },
  {
   "cell_type": "code",
   "execution_count": 4,
   "metadata": {},
   "outputs": [],
   "source": [
    "#mglearn.plots.plot_grid_search_overview()"
   ]
  },
  {
   "cell_type": "markdown",
   "metadata": {
    "slideshow": {
     "slide_type": "slide"
    }
   },
   "source": [
    "Let's look at an example of tuning `max_depth` of the `DecisionTreeClassifier` on the Spotify dataset. "
   ]
  },
  {
   "cell_type": "code",
   "execution_count": 5,
   "metadata": {
    "slideshow": {
     "slide_type": "-"
    }
   },
   "outputs": [
    {
     "data": {
      "text/html": [
       "<div>\n",
       "<style scoped>\n",
       "    .dataframe tbody tr th:only-of-type {\n",
       "        vertical-align: middle;\n",
       "    }\n",
       "\n",
       "    .dataframe tbody tr th {\n",
       "        vertical-align: top;\n",
       "    }\n",
       "\n",
       "    .dataframe thead th {\n",
       "        text-align: right;\n",
       "    }\n",
       "</style>\n",
       "<table border=\"1\" class=\"dataframe\">\n",
       "  <thead>\n",
       "    <tr style=\"text-align: right;\">\n",
       "      <th></th>\n",
       "      <th>acousticness</th>\n",
       "      <th>danceability</th>\n",
       "      <th>duration_ms</th>\n",
       "      <th>energy</th>\n",
       "      <th>instrumentalness</th>\n",
       "      <th>key</th>\n",
       "      <th>liveness</th>\n",
       "      <th>loudness</th>\n",
       "      <th>mode</th>\n",
       "      <th>speechiness</th>\n",
       "      <th>tempo</th>\n",
       "      <th>time_signature</th>\n",
       "      <th>valence</th>\n",
       "    </tr>\n",
       "  </thead>\n",
       "  <tbody>\n",
       "    <tr>\n",
       "      <th>0</th>\n",
       "      <td>0.0102</td>\n",
       "      <td>0.833</td>\n",
       "      <td>204600</td>\n",
       "      <td>0.434</td>\n",
       "      <td>0.021900</td>\n",
       "      <td>2</td>\n",
       "      <td>0.1650</td>\n",
       "      <td>-8.795</td>\n",
       "      <td>1</td>\n",
       "      <td>0.4310</td>\n",
       "      <td>150.062</td>\n",
       "      <td>4.0</td>\n",
       "      <td>0.286</td>\n",
       "    </tr>\n",
       "    <tr>\n",
       "      <th>1</th>\n",
       "      <td>0.1990</td>\n",
       "      <td>0.743</td>\n",
       "      <td>326933</td>\n",
       "      <td>0.359</td>\n",
       "      <td>0.006110</td>\n",
       "      <td>1</td>\n",
       "      <td>0.1370</td>\n",
       "      <td>-10.401</td>\n",
       "      <td>1</td>\n",
       "      <td>0.0794</td>\n",
       "      <td>160.083</td>\n",
       "      <td>4.0</td>\n",
       "      <td>0.588</td>\n",
       "    </tr>\n",
       "    <tr>\n",
       "      <th>2</th>\n",
       "      <td>0.0344</td>\n",
       "      <td>0.838</td>\n",
       "      <td>185707</td>\n",
       "      <td>0.412</td>\n",
       "      <td>0.000234</td>\n",
       "      <td>2</td>\n",
       "      <td>0.1590</td>\n",
       "      <td>-7.148</td>\n",
       "      <td>1</td>\n",
       "      <td>0.2890</td>\n",
       "      <td>75.044</td>\n",
       "      <td>4.0</td>\n",
       "      <td>0.173</td>\n",
       "    </tr>\n",
       "    <tr>\n",
       "      <th>3</th>\n",
       "      <td>0.6040</td>\n",
       "      <td>0.494</td>\n",
       "      <td>199413</td>\n",
       "      <td>0.338</td>\n",
       "      <td>0.510000</td>\n",
       "      <td>5</td>\n",
       "      <td>0.0922</td>\n",
       "      <td>-15.236</td>\n",
       "      <td>1</td>\n",
       "      <td>0.0261</td>\n",
       "      <td>86.468</td>\n",
       "      <td>4.0</td>\n",
       "      <td>0.230</td>\n",
       "    </tr>\n",
       "    <tr>\n",
       "      <th>4</th>\n",
       "      <td>0.1800</td>\n",
       "      <td>0.678</td>\n",
       "      <td>392893</td>\n",
       "      <td>0.561</td>\n",
       "      <td>0.512000</td>\n",
       "      <td>5</td>\n",
       "      <td>0.4390</td>\n",
       "      <td>-11.648</td>\n",
       "      <td>0</td>\n",
       "      <td>0.0694</td>\n",
       "      <td>174.004</td>\n",
       "      <td>4.0</td>\n",
       "      <td>0.904</td>\n",
       "    </tr>\n",
       "  </tbody>\n",
       "</table>\n",
       "</div>"
      ],
      "text/plain": [
       "   acousticness  danceability  duration_ms  energy  instrumentalness  key  \\\n",
       "0        0.0102         0.833       204600   0.434          0.021900    2   \n",
       "1        0.1990         0.743       326933   0.359          0.006110    1   \n",
       "2        0.0344         0.838       185707   0.412          0.000234    2   \n",
       "3        0.6040         0.494       199413   0.338          0.510000    5   \n",
       "4        0.1800         0.678       392893   0.561          0.512000    5   \n",
       "\n",
       "   liveness  loudness  mode  speechiness    tempo  time_signature  valence  \n",
       "0    0.1650    -8.795     1       0.4310  150.062             4.0    0.286  \n",
       "1    0.1370   -10.401     1       0.0794  160.083             4.0    0.588  \n",
       "2    0.1590    -7.148     1       0.2890   75.044             4.0    0.173  \n",
       "3    0.0922   -15.236     1       0.0261   86.468             4.0    0.230  \n",
       "4    0.4390   -11.648     0       0.0694  174.004             4.0    0.904  "
      ]
     },
     "execution_count": 5,
     "metadata": {},
     "output_type": "execute_result"
    }
   ],
   "source": [
    "spotify_df = pd.read_csv(\"data/spotify.csv\", index_col=0)\n",
    "X_spotify = spotify_df.drop(columns=[\"target\", \"song_title\", \"artist\"])\n",
    "y_spotify = spotify_df[\"target\"]\n",
    "X_spotify.head()"
   ]
  },
  {
   "cell_type": "code",
   "execution_count": 6,
   "metadata": {
    "slideshow": {
     "slide_type": "slide"
    }
   },
   "outputs": [],
   "source": [
    "X_train, X_test, y_train, y_test = train_test_split(\n",
    "    X_spotify, y_spotify, test_size=0.2, random_state=123\n",
    ")"
   ]
  },
  {
   "cell_type": "code",
   "execution_count": 7,
   "metadata": {
    "slideshow": {
     "slide_type": "slide"
    }
   },
   "outputs": [],
   "source": [
    "best_score = 0\n",
    "\n",
    "param_grid = {\"max_depth\": np.arange(1, 20, 2)}\n",
    "\n",
    "results_dict = {\"max_depth\": [], \"mean_cv_score\": []}\n",
    "\n",
    "for depth in param_grid[\n",
    "    \"max_depth\"\n",
    "]:  # for each combination of parameters, train an SVC\n",
    "    dt = DecisionTreeClassifier(max_depth=depth)\n",
    "    scores = cross_val_score(dt, X_train, y_train)  # perform cross-validation\n",
    "    mean_score = np.mean(scores)  # compute mean cross-validation accuracy\n",
    "    if (\n",
    "        mean_score > best_score\n",
    "    ):  # if we got a better score, store the score and parameters\n",
    "        best_score = mean_score\n",
    "        best_params = {\"max_depth\": depth}\n",
    "    results_dict[\"max_depth\"].append(depth)\n",
    "    results_dict[\"mean_cv_score\"].append(mean_score)"
   ]
  },
  {
   "cell_type": "code",
   "execution_count": 14,
   "metadata": {
    "slideshow": {
     "slide_type": "slide"
    }
   },
   "outputs": [
    {
     "data": {
      "text/plain": [
       "{'max_depth': 5}"
      ]
     },
     "execution_count": 14,
     "metadata": {},
     "output_type": "execute_result"
    }
   ],
   "source": [
    "best_params"
   ]
  },
  {
   "cell_type": "code",
   "execution_count": 15,
   "metadata": {},
   "outputs": [
    {
     "data": {
      "text/plain": [
       "0.71792204295906"
      ]
     },
     "execution_count": 15,
     "metadata": {},
     "output_type": "execute_result"
    }
   ],
   "source": [
    "best_score"
   ]
  },
  {
   "cell_type": "markdown",
   "metadata": {
    "slideshow": {
     "slide_type": "slide"
    }
   },
   "source": [
    "Let's try SVM RBF and tuning `C` and `gamma` on the same dataset. "
   ]
  },
  {
   "cell_type": "code",
   "execution_count": 16,
   "metadata": {
    "slideshow": {
     "slide_type": "-"
    }
   },
   "outputs": [
    {
     "data": {
      "text/html": [
       "<style>#sk-container-id-1 {color: black;background-color: white;}#sk-container-id-1 pre{padding: 0;}#sk-container-id-1 div.sk-toggleable {background-color: white;}#sk-container-id-1 label.sk-toggleable__label {cursor: pointer;display: block;width: 100%;margin-bottom: 0;padding: 0.3em;box-sizing: border-box;text-align: center;}#sk-container-id-1 label.sk-toggleable__label-arrow:before {content: \"▸\";float: left;margin-right: 0.25em;color: #696969;}#sk-container-id-1 label.sk-toggleable__label-arrow:hover:before {color: black;}#sk-container-id-1 div.sk-estimator:hover label.sk-toggleable__label-arrow:before {color: black;}#sk-container-id-1 div.sk-toggleable__content {max-height: 0;max-width: 0;overflow: hidden;text-align: left;background-color: #f0f8ff;}#sk-container-id-1 div.sk-toggleable__content pre {margin: 0.2em;color: black;border-radius: 0.25em;background-color: #f0f8ff;}#sk-container-id-1 input.sk-toggleable__control:checked~div.sk-toggleable__content {max-height: 200px;max-width: 100%;overflow: auto;}#sk-container-id-1 input.sk-toggleable__control:checked~label.sk-toggleable__label-arrow:before {content: \"▾\";}#sk-container-id-1 div.sk-estimator input.sk-toggleable__control:checked~label.sk-toggleable__label {background-color: #d4ebff;}#sk-container-id-1 div.sk-label input.sk-toggleable__control:checked~label.sk-toggleable__label {background-color: #d4ebff;}#sk-container-id-1 input.sk-hidden--visually {border: 0;clip: rect(1px 1px 1px 1px);clip: rect(1px, 1px, 1px, 1px);height: 1px;margin: -1px;overflow: hidden;padding: 0;position: absolute;width: 1px;}#sk-container-id-1 div.sk-estimator {font-family: monospace;background-color: #f0f8ff;border: 1px dotted black;border-radius: 0.25em;box-sizing: border-box;margin-bottom: 0.5em;}#sk-container-id-1 div.sk-estimator:hover {background-color: #d4ebff;}#sk-container-id-1 div.sk-parallel-item::after {content: \"\";width: 100%;border-bottom: 1px solid gray;flex-grow: 1;}#sk-container-id-1 div.sk-label:hover label.sk-toggleable__label {background-color: #d4ebff;}#sk-container-id-1 div.sk-serial::before {content: \"\";position: absolute;border-left: 1px solid gray;box-sizing: border-box;top: 0;bottom: 0;left: 50%;z-index: 0;}#sk-container-id-1 div.sk-serial {display: flex;flex-direction: column;align-items: center;background-color: white;padding-right: 0.2em;padding-left: 0.2em;position: relative;}#sk-container-id-1 div.sk-item {position: relative;z-index: 1;}#sk-container-id-1 div.sk-parallel {display: flex;align-items: stretch;justify-content: center;background-color: white;position: relative;}#sk-container-id-1 div.sk-item::before, #sk-container-id-1 div.sk-parallel-item::before {content: \"\";position: absolute;border-left: 1px solid gray;box-sizing: border-box;top: 0;bottom: 0;left: 50%;z-index: -1;}#sk-container-id-1 div.sk-parallel-item {display: flex;flex-direction: column;z-index: 1;position: relative;background-color: white;}#sk-container-id-1 div.sk-parallel-item:first-child::after {align-self: flex-end;width: 50%;}#sk-container-id-1 div.sk-parallel-item:last-child::after {align-self: flex-start;width: 50%;}#sk-container-id-1 div.sk-parallel-item:only-child::after {width: 0;}#sk-container-id-1 div.sk-dashed-wrapped {border: 1px dashed gray;margin: 0 0.4em 0.5em 0.4em;box-sizing: border-box;padding-bottom: 0.4em;background-color: white;}#sk-container-id-1 div.sk-label label {font-family: monospace;font-weight: bold;display: inline-block;line-height: 1.2em;}#sk-container-id-1 div.sk-label-container {text-align: center;}#sk-container-id-1 div.sk-container {/* jupyter's `normalize.less` sets `[hidden] { display: none; }` but bootstrap.min.css set `[hidden] { display: none !important; }` so we also need the `!important` here to be able to override the default hidden behavior on the sphinx rendered scikit-learn.org. See: https://github.com/scikit-learn/scikit-learn/issues/21755 */display: inline-block !important;position: relative;}#sk-container-id-1 div.sk-text-repr-fallback {display: none;}</style><div id=\"sk-container-id-1\" class=\"sk-top-container\"><div class=\"sk-text-repr-fallback\"><pre>Pipeline(steps=[(&#x27;standardscaler&#x27;, StandardScaler()), (&#x27;svc&#x27;, SVC())])</pre><b>In a Jupyter environment, please rerun this cell to show the HTML representation or trust the notebook. <br />On GitHub, the HTML representation is unable to render, please try loading this page with nbviewer.org.</b></div><div class=\"sk-container\" hidden><div class=\"sk-item sk-dashed-wrapped\"><div class=\"sk-label-container\"><div class=\"sk-label sk-toggleable\"><input class=\"sk-toggleable__control sk-hidden--visually\" id=\"sk-estimator-id-1\" type=\"checkbox\" ><label for=\"sk-estimator-id-1\" class=\"sk-toggleable__label sk-toggleable__label-arrow\">Pipeline</label><div class=\"sk-toggleable__content\"><pre>Pipeline(steps=[(&#x27;standardscaler&#x27;, StandardScaler()), (&#x27;svc&#x27;, SVC())])</pre></div></div></div><div class=\"sk-serial\"><div class=\"sk-item\"><div class=\"sk-estimator sk-toggleable\"><input class=\"sk-toggleable__control sk-hidden--visually\" id=\"sk-estimator-id-2\" type=\"checkbox\" ><label for=\"sk-estimator-id-2\" class=\"sk-toggleable__label sk-toggleable__label-arrow\">StandardScaler</label><div class=\"sk-toggleable__content\"><pre>StandardScaler()</pre></div></div></div><div class=\"sk-item\"><div class=\"sk-estimator sk-toggleable\"><input class=\"sk-toggleable__control sk-hidden--visually\" id=\"sk-estimator-id-3\" type=\"checkbox\" ><label for=\"sk-estimator-id-3\" class=\"sk-toggleable__label sk-toggleable__label-arrow\">SVC</label><div class=\"sk-toggleable__content\"><pre>SVC()</pre></div></div></div></div></div></div></div>"
      ],
      "text/plain": [
       "Pipeline(steps=[('standardscaler', StandardScaler()), ('svc', SVC())])"
      ]
     },
     "execution_count": 16,
     "metadata": {},
     "output_type": "execute_result"
    }
   ],
   "source": [
    "pipe_svm = make_pipeline(StandardScaler(), SVC())  # We need scaling for SVM RBF\n",
    "pipe_svm.fit(X_train, y_train)"
   ]
  },
  {
   "cell_type": "markdown",
   "metadata": {
    "slideshow": {
     "slide_type": "slide"
    }
   },
   "source": [
    "Let's try cross-validation with default hyperparameters of SVC. "
   ]
  },
  {
   "cell_type": "code",
   "execution_count": 17,
   "metadata": {},
   "outputs": [
    {
     "data": {
      "text/plain": [
       "fit_time       0.098870\n",
       "score_time     0.041867\n",
       "test_score     0.738998\n",
       "train_score    0.814011\n",
       "dtype: float64"
      ]
     },
     "execution_count": 17,
     "metadata": {},
     "output_type": "execute_result"
    }
   ],
   "source": [
    "scores = cross_validate(pipe_svm, X_train, y_train, return_train_score=True)\n",
    "pd.DataFrame(scores).mean()"
   ]
  },
  {
   "cell_type": "markdown",
   "metadata": {
    "slideshow": {
     "slide_type": "skip"
    }
   },
   "source": [
    "Now let's try exhaustive hyperparameter search using for loops. \n",
    "\n",
    "This is what we have been doing for this:\n",
    "\n",
    "```\n",
    "for gamma in [0.01, 1, 10, 100]: # for some values of gamma\n",
    "    for C in [0.01, 1, 10, 100]: # for some values of C\n",
    "        for fold in folds:\n",
    "            fit in training portion with the given C\n",
    "            score on validation portion\n",
    "        compute average score\n",
    "        \n",
    "pick hyperparameter values which yield with best average score\n",
    "```"
   ]
  },
  {
   "cell_type": "code",
   "execution_count": 18,
   "metadata": {
    "slideshow": {
     "slide_type": "slide"
    }
   },
   "outputs": [],
   "source": [
    "best_score = 0\n",
    "\n",
    "param_grid = {\n",
    "    \"C\": [0.001, 0.01, 0.1, 1, 10, 100],\n",
    "    \"gamma\": [0.001, 0.01, 0.1, 1, 10, 100],\n",
    "}\n",
    "\n",
    "results_dict = {\"C\": [], \"gamma\": [], \"mean_cv_score\": []}\n",
    "\n",
    "for gamma in param_grid[\"gamma\"]:\n",
    "    for C in param_grid[\"C\"]:  # for each combination of parameters, train an SVC\n",
    "        pipe_svm = make_pipeline(StandardScaler(), SVC(gamma=gamma, C=C))\n",
    "        scores = cross_val_score(pipe_svm, X_train, y_train)  # perform cross-validation\n",
    "        mean_score = np.mean(scores)  # compute mean cross-validation accuracy\n",
    "        if (\n",
    "            mean_score > best_score\n",
    "        ):  # if we got a better score, store the score and parameters\n",
    "            best_score = mean_score\n",
    "            best_parameters = {\"C\": C, \"gamma\": gamma}\n",
    "        results_dict[\"C\"].append(C)\n",
    "        results_dict[\"gamma\"].append(gamma)\n",
    "        results_dict[\"mean_cv_score\"].append(mean_score)"
   ]
  },
  {
   "cell_type": "code",
   "execution_count": 19,
   "metadata": {
    "slideshow": {
     "slide_type": "slide"
    }
   },
   "outputs": [
    {
     "data": {
      "text/plain": [
       "{'C': 1, 'gamma': 0.1}"
      ]
     },
     "execution_count": 19,
     "metadata": {},
     "output_type": "execute_result"
    }
   ],
   "source": [
    "best_parameters"
   ]
  },
  {
   "cell_type": "code",
   "execution_count": 12,
   "metadata": {},
   "outputs": [
    {
     "data": {
      "text/plain": [
       "0.7439609253312309"
      ]
     },
     "execution_count": 12,
     "metadata": {},
     "output_type": "execute_result"
    }
   ],
   "source": [
    "best_score"
   ]
  },
  {
   "cell_type": "code",
   "execution_count": 13,
   "metadata": {},
   "outputs": [],
   "source": [
    "df = pd.DataFrame(results_dict)"
   ]
  },
  {
   "cell_type": "code",
   "execution_count": 14,
   "metadata": {
    "slideshow": {
     "slide_type": "-"
    }
   },
   "outputs": [
    {
     "data": {
      "text/html": [
       "<div>\n",
       "<style scoped>\n",
       "    .dataframe tbody tr th:only-of-type {\n",
       "        vertical-align: middle;\n",
       "    }\n",
       "\n",
       "    .dataframe tbody tr th {\n",
       "        vertical-align: top;\n",
       "    }\n",
       "\n",
       "    .dataframe thead th {\n",
       "        text-align: right;\n",
       "    }\n",
       "</style>\n",
       "<table border=\"1\" class=\"dataframe\">\n",
       "  <thead>\n",
       "    <tr style=\"text-align: right;\">\n",
       "      <th></th>\n",
       "      <th>C</th>\n",
       "      <th>gamma</th>\n",
       "      <th>mean_cv_score</th>\n",
       "    </tr>\n",
       "  </thead>\n",
       "  <tbody>\n",
       "    <tr>\n",
       "      <th>15</th>\n",
       "      <td>1.0</td>\n",
       "      <td>0.100</td>\n",
       "      <td>0.743961</td>\n",
       "    </tr>\n",
       "    <tr>\n",
       "      <th>11</th>\n",
       "      <td>100.0</td>\n",
       "      <td>0.010</td>\n",
       "      <td>0.732792</td>\n",
       "    </tr>\n",
       "    <tr>\n",
       "      <th>16</th>\n",
       "      <td>10.0</td>\n",
       "      <td>0.100</td>\n",
       "      <td>0.729091</td>\n",
       "    </tr>\n",
       "    <tr>\n",
       "      <th>10</th>\n",
       "      <td>10.0</td>\n",
       "      <td>0.010</td>\n",
       "      <td>0.720391</td>\n",
       "    </tr>\n",
       "    <tr>\n",
       "      <th>17</th>\n",
       "      <td>100.0</td>\n",
       "      <td>0.100</td>\n",
       "      <td>0.711715</td>\n",
       "    </tr>\n",
       "    <tr>\n",
       "      <th>5</th>\n",
       "      <td>100.0</td>\n",
       "      <td>0.001</td>\n",
       "      <td>0.704284</td>\n",
       "    </tr>\n",
       "    <tr>\n",
       "      <th>14</th>\n",
       "      <td>0.1</td>\n",
       "      <td>0.100</td>\n",
       "      <td>0.703034</td>\n",
       "    </tr>\n",
       "    <tr>\n",
       "      <th>9</th>\n",
       "      <td>1.0</td>\n",
       "      <td>0.010</td>\n",
       "      <td>0.697473</td>\n",
       "    </tr>\n",
       "    <tr>\n",
       "      <th>8</th>\n",
       "      <td>0.1</td>\n",
       "      <td>0.010</td>\n",
       "      <td>0.678851</td>\n",
       "    </tr>\n",
       "    <tr>\n",
       "      <th>4</th>\n",
       "      <td>10.0</td>\n",
       "      <td>0.001</td>\n",
       "      <td>0.678244</td>\n",
       "    </tr>\n",
       "  </tbody>\n",
       "</table>\n",
       "</div>"
      ],
      "text/plain": [
       "        C  gamma  mean_cv_score\n",
       "15    1.0  0.100       0.743961\n",
       "11  100.0  0.010       0.732792\n",
       "16   10.0  0.100       0.729091\n",
       "10   10.0  0.010       0.720391\n",
       "17  100.0  0.100       0.711715\n",
       "5   100.0  0.001       0.704284\n",
       "14    0.1  0.100       0.703034\n",
       "9     1.0  0.010       0.697473\n",
       "8     0.1  0.010       0.678851\n",
       "4    10.0  0.001       0.678244"
      ]
     },
     "execution_count": 14,
     "metadata": {},
     "output_type": "execute_result"
    }
   ],
   "source": [
    "df.sort_values(by=\"mean_cv_score\", ascending=False).head(10)"
   ]
  },
  {
   "cell_type": "code",
   "execution_count": 15,
   "metadata": {
    "slideshow": {
     "slide_type": "slide"
    }
   },
   "outputs": [
    {
     "data": {
      "text/plain": [
       "<matplotlib.collections.PolyCollection at 0x296104e6cd0>"
      ]
     },
     "execution_count": 15,
     "metadata": {},
     "output_type": "execute_result"
    },
    {
     "data": {
      "image/png": "[encoded data removed]",
      "text/plain": [
       "<Figure size 640x480 with 1 Axes>"
      ]
     },
     "metadata": {},
     "output_type": "display_data"
    }
   ],
   "source": [
    "scores = np.array(df.mean_cv_score).reshape(6, 6)\n",
    "\n",
    "mglearn.tools.heatmap(\n",
    "    scores,\n",
    "    xlabel=\"C\",\n",
    "    xticklabels=param_grid[\"C\"],\n",
    "    ylabel=\"gamma\",\n",
    "    yticklabels=param_grid[\"gamma\"],\n",
    "    cmap=\"viridis\",\n",
    ")\n",
    "# plot the mean cross-validation scores"
   ]
  },
  {
   "cell_type": "markdown",
   "metadata": {
    "slideshow": {
     "slide_type": "slide"
    }
   },
   "source": [
    "- We have 6 possible values for `C` and 6 possible values for `gamma`. \n",
    "- In 5-fold cross-validation, for each combination of parameter values, five accuracies are computed.\n",
    "- So to evaluate the accuracy of the SVM using 6 values of `C` and 6 values of `gamma` using five-fold cross-validation, we need to train 36 * 5 = 180 models! "
   ]
  },
  {
   "cell_type": "code",
   "execution_count": 16,
   "metadata": {},
   "outputs": [
    {
     "data": {
      "text/plain": [
       "36"
      ]
     },
     "execution_count": 16,
     "metadata": {},
     "output_type": "execute_result"
    }
   ],
   "source": [
    "np.prod(list(map(len, param_grid.values())))"
   ]
  },
  {
   "cell_type": "markdown",
   "metadata": {
    "slideshow": {
     "slide_type": "slide"
    }
   },
   "source": [
    "Once we have optimized hyperparameters, we retrain a model on the full training set with these optimized hyperparameters. "
   ]
  },
  {
   "cell_type": "code",
   "execution_count": 20,
   "metadata": {},
   "outputs": [
    {
     "data": {
      "text/html": [
       "<style>#sk-container-id-2 {color: black;background-color: white;}#sk-container-id-2 pre{padding: 0;}#sk-container-id-2 div.sk-toggleable {background-color: white;}#sk-container-id-2 label.sk-toggleable__label {cursor: pointer;display: block;width: 100%;margin-bottom: 0;padding: 0.3em;box-sizing: border-box;text-align: center;}#sk-container-id-2 label.sk-toggleable__label-arrow:before {content: \"▸\";float: left;margin-right: 0.25em;color: #696969;}#sk-container-id-2 label.sk-toggleable__label-arrow:hover:before {color: black;}#sk-container-id-2 div.sk-estimator:hover label.sk-toggleable__label-arrow:before {color: black;}#sk-container-id-2 div.sk-toggleable__content {max-height: 0;max-width: 0;overflow: hidden;text-align: left;background-color: #f0f8ff;}#sk-container-id-2 div.sk-toggleable__content pre {margin: 0.2em;color: black;border-radius: 0.25em;background-color: #f0f8ff;}#sk-container-id-2 input.sk-toggleable__control:checked~div.sk-toggleable__content {max-height: 200px;max-width: 100%;overflow: auto;}#sk-container-id-2 input.sk-toggleable__control:checked~label.sk-toggleable__label-arrow:before {content: \"▾\";}#sk-container-id-2 div.sk-estimator input.sk-toggleable__control:checked~label.sk-toggleable__label {background-color: #d4ebff;}#sk-container-id-2 div.sk-label input.sk-toggleable__control:checked~label.sk-toggleable__label {background-color: #d4ebff;}#sk-container-id-2 input.sk-hidden--visually {border: 0;clip: rect(1px 1px 1px 1px);clip: rect(1px, 1px, 1px, 1px);height: 1px;margin: -1px;overflow: hidden;padding: 0;position: absolute;width: 1px;}#sk-container-id-2 div.sk-estimator {font-family: monospace;background-color: #f0f8ff;border: 1px dotted black;border-radius: 0.25em;box-sizing: border-box;margin-bottom: 0.5em;}#sk-container-id-2 div.sk-estimator:hover {background-color: #d4ebff;}#sk-container-id-2 div.sk-parallel-item::after {content: \"\";width: 100%;border-bottom: 1px solid gray;flex-grow: 1;}#sk-container-id-2 div.sk-label:hover label.sk-toggleable__label {background-color: #d4ebff;}#sk-container-id-2 div.sk-serial::before {content: \"\";position: absolute;border-left: 1px solid gray;box-sizing: border-box;top: 0;bottom: 0;left: 50%;z-index: 0;}#sk-container-id-2 div.sk-serial {display: flex;flex-direction: column;align-items: center;background-color: white;padding-right: 0.2em;padding-left: 0.2em;position: relative;}#sk-container-id-2 div.sk-item {position: relative;z-index: 1;}#sk-container-id-2 div.sk-parallel {display: flex;align-items: stretch;justify-content: center;background-color: white;position: relative;}#sk-container-id-2 div.sk-item::before, #sk-container-id-2 div.sk-parallel-item::before {content: \"\";position: absolute;border-left: 1px solid gray;box-sizing: border-box;top: 0;bottom: 0;left: 50%;z-index: -1;}#sk-container-id-2 div.sk-parallel-item {display: flex;flex-direction: column;z-index: 1;position: relative;background-color: white;}#sk-container-id-2 div.sk-parallel-item:first-child::after {align-self: flex-end;width: 50%;}#sk-container-id-2 div.sk-parallel-item:last-child::after {align-self: flex-start;width: 50%;}#sk-container-id-2 div.sk-parallel-item:only-child::after {width: 0;}#sk-container-id-2 div.sk-dashed-wrapped {border: 1px dashed gray;margin: 0 0.4em 0.5em 0.4em;box-sizing: border-box;padding-bottom: 0.4em;background-color: white;}#sk-container-id-2 div.sk-label label {font-family: monospace;font-weight: bold;display: inline-block;line-height: 1.2em;}#sk-container-id-2 div.sk-label-container {text-align: center;}#sk-container-id-2 div.sk-container {/* jupyter's `normalize.less` sets `[hidden] { display: none; }` but bootstrap.min.css set `[hidden] { display: none !important; }` so we also need the `!important` here to be able to override the default hidden behavior on the sphinx rendered scikit-learn.org. See: https://github.com/scikit-learn/scikit-learn/issues/21755 */display: inline-block !important;position: relative;}#sk-container-id-2 div.sk-text-repr-fallback {display: none;}</style><div id=\"sk-container-id-2\" class=\"sk-top-container\"><div class=\"sk-text-repr-fallback\"><pre>Pipeline(steps=[(&#x27;standardscaler&#x27;, StandardScaler()),\n",
       "                (&#x27;svc&#x27;, SVC(C=1, gamma=0.1))])</pre><b>In a Jupyter environment, please rerun this cell to show the HTML representation or trust the notebook. <br />On GitHub, the HTML representation is unable to render, please try loading this page with nbviewer.org.</b></div><div class=\"sk-container\" hidden><div class=\"sk-item sk-dashed-wrapped\"><div class=\"sk-label-container\"><div class=\"sk-label sk-toggleable\"><input class=\"sk-toggleable__control sk-hidden--visually\" id=\"sk-estimator-id-4\" type=\"checkbox\" ><label for=\"sk-estimator-id-4\" class=\"sk-toggleable__label sk-toggleable__label-arrow\">Pipeline</label><div class=\"sk-toggleable__content\"><pre>Pipeline(steps=[(&#x27;standardscaler&#x27;, StandardScaler()),\n",
       "                (&#x27;svc&#x27;, SVC(C=1, gamma=0.1))])</pre></div></div></div><div class=\"sk-serial\"><div class=\"sk-item\"><div class=\"sk-estimator sk-toggleable\"><input class=\"sk-toggleable__control sk-hidden--visually\" id=\"sk-estimator-id-5\" type=\"checkbox\" ><label for=\"sk-estimator-id-5\" class=\"sk-toggleable__label sk-toggleable__label-arrow\">StandardScaler</label><div class=\"sk-toggleable__content\"><pre>StandardScaler()</pre></div></div></div><div class=\"sk-item\"><div class=\"sk-estimator sk-toggleable\"><input class=\"sk-toggleable__control sk-hidden--visually\" id=\"sk-estimator-id-6\" type=\"checkbox\" ><label for=\"sk-estimator-id-6\" class=\"sk-toggleable__label sk-toggleable__label-arrow\">SVC</label><div class=\"sk-toggleable__content\"><pre>SVC(C=1, gamma=0.1)</pre></div></div></div></div></div></div></div>"
      ],
      "text/plain": [
       "Pipeline(steps=[('standardscaler', StandardScaler()),\n",
       "                ('svc', SVC(C=1, gamma=0.1))])"
      ]
     },
     "execution_count": 20,
     "metadata": {},
     "output_type": "execute_result"
    }
   ],
   "source": [
    "pipe_svm = make_pipeline(StandardScaler(), SVC(**best_parameters))\n",
    "pipe_svm.fit(\n",
    "    X_train, y_train\n",
    ")  # Retrain a model with optimized hyperparameters on the combined training and validation set"
   ]
  },
  {
   "cell_type": "markdown",
   "metadata": {},
   "source": [
    "And finally evaluate the performance of this model on the test set. "
   ]
  },
  {
   "cell_type": "code",
   "execution_count": 21,
   "metadata": {},
   "outputs": [
    {
     "data": {
      "text/plain": [
       "0.7376237623762376"
      ]
     },
     "execution_count": 21,
     "metadata": {},
     "output_type": "execute_result"
    }
   ],
   "source": [
    "pipe_svm.score(X_test, y_test)  # Final evaluation on the test data"
   ]
  },
  {
   "cell_type": "markdown",
   "metadata": {
    "slideshow": {
     "slide_type": "slide"
    }
   },
   "source": [
    "This process is so common that there are some standard methods in `scikit-learn` where we can carry out all of this in a more compact way. "
   ]
  },
  {
   "cell_type": "code",
   "execution_count": 19,
   "metadata": {},
   "outputs": [
    {
     "data": {
      "image/png": "[encoded data removed]",
      "text/plain": [
       "<Figure size 700x210 with 1 Axes>"
      ]
     },
     "metadata": {},
     "output_type": "display_data"
    }
   ],
   "source": [
    "mglearn.plots.plot_grid_search_overview()"
   ]
  },
  {
   "cell_type": "markdown",
   "metadata": {
    "slideshow": {
     "slide_type": "slide"
    }
   },
   "source": [
    "In this lecture we are going to talk about two such most commonly used automated optimizations methods from `scikit-learn`. \n",
    "\n",
    "- Exhaustive grid search: [`sklearn.model_selection.GridSearchCV`](http://scikit-learn.org/stable/modules/generated/sklearn.model_selection.GridSearchCV.html)\n",
    "- Randomized search: [`sklearn.model_selection.RandomizedSearchCV`](https://scikit-learn.org/stable/modules/generated/sklearn.model_selection.RandomizedSearchCV.html)\n",
    "\n",
    "The \"CV\" stands for cross-validation; these methods have built-in cross-validation."
   ]
  },
  {
   "cell_type": "markdown",
   "metadata": {
    "slideshow": {
     "slide_type": "skip"
    }
   },
   "source": [
    "<br><br><br><br>"
   ]
  },
  {
   "cell_type": "markdown",
   "metadata": {
    "slideshow": {
     "slide_type": "slide"
    }
   },
   "source": [
    "## Exhaustive grid search: [`sklearn.model_selection.GridSearchCV`](http://scikit-learn.org/stable/modules/generated/sklearn.model_selection.GridSearchCV.html)"
   ]
  },
  {
   "cell_type": "markdown",
   "metadata": {
    "slideshow": {
     "slide_type": "slide"
    }
   },
   "source": [
    "- For `GridSearchCV` we need\n",
    "    - an instantiated model or a pipeline\n",
    "    - a parameter grid: A user specifies a set of values for each hyperparameter. \n",
    "    - other optional arguments \n",
    "\n",
    "The method considers product of the sets and then evaluates each combination one by one.    "
   ]
  },
  {
   "cell_type": "code",
   "execution_count": 22,
   "metadata": {
    "slideshow": {
     "slide_type": "slide"
    }
   },
   "outputs": [],
   "source": [
    "from sklearn.model_selection import GridSearchCV\n",
    "\n",
    "pipe_svm = make_pipeline(StandardScaler(), SVC())\n",
    "\n",
    "param_grid = {\n",
    "    \"svc__gamma\": [0.001, 0.01, 0.1, 1.0, 10, 100],\n",
    "    \"svc__C\": [0.001, 0.01, 0.1, 1.0, 10, 100],\n",
    "}\n",
    "\n",
    "grid_search = GridSearchCV(\n",
    "    pipe_svm, param_grid, cv=5, n_jobs=-1, return_train_score=True\n",
    ")"
   ]
  },
  {
   "cell_type": "code",
   "execution_count": 23,
   "metadata": {
    "slideshow": {
     "slide_type": "slide"
    }
   },
   "outputs": [],
   "source": [
    "from sklearn import set_config\n",
    "\n",
    "\n",
    "set_config(display=\"diagram\")"
   ]
  },
  {
   "cell_type": "markdown",
   "metadata": {
    "slideshow": {
     "slide_type": "-"
    }
   },
   "source": [
    "The `GridSearchCV` object above behaves like a classifier. We can call `fit`, `predict` or `score` on it. "
   ]
  },
  {
   "cell_type": "code",
   "execution_count": 25,
   "metadata": {
    "slideshow": {
     "slide_type": "-"
    }
   },
   "outputs": [
    {
     "data": {
      "text/html": [
       "<style>#sk-container-id-4 {color: black;background-color: white;}#sk-container-id-4 pre{padding: 0;}#sk-container-id-4 div.sk-toggleable {background-color: white;}#sk-container-id-4 label.sk-toggleable__label {cursor: pointer;display: block;width: 100%;margin-bottom: 0;padding: 0.3em;box-sizing: border-box;text-align: center;}#sk-container-id-4 label.sk-toggleable__label-arrow:before {content: \"▸\";float: left;margin-right: 0.25em;color: #696969;}#sk-container-id-4 label.sk-toggleable__label-arrow:hover:before {color: black;}#sk-container-id-4 div.sk-estimator:hover label.sk-toggleable__label-arrow:before {color: black;}#sk-container-id-4 div.sk-toggleable__content {max-height: 0;max-width: 0;overflow: hidden;text-align: left;background-color: #f0f8ff;}#sk-container-id-4 div.sk-toggleable__content pre {margin: 0.2em;color: black;border-radius: 0.25em;background-color: #f0f8ff;}#sk-container-id-4 input.sk-toggleable__control:checked~div.sk-toggleable__content {max-height: 200px;max-width: 100%;overflow: auto;}#sk-container-id-4 input.sk-toggleable__control:checked~label.sk-toggleable__label-arrow:before {content: \"▾\";}#sk-container-id-4 div.sk-estimator input.sk-toggleable__control:checked~label.sk-toggleable__label {background-color: #d4ebff;}#sk-container-id-4 div.sk-label input.sk-toggleable__control:checked~label.sk-toggleable__label {background-color: #d4ebff;}#sk-container-id-4 input.sk-hidden--visually {border: 0;clip: rect(1px 1px 1px 1px);clip: rect(1px, 1px, 1px, 1px);height: 1px;margin: -1px;overflow: hidden;padding: 0;position: absolute;width: 1px;}#sk-container-id-4 div.sk-estimator {font-family: monospace;background-color: #f0f8ff;border: 1px dotted black;border-radius: 0.25em;box-sizing: border-box;margin-bottom: 0.5em;}#sk-container-id-4 div.sk-estimator:hover {background-color: #d4ebff;}#sk-container-id-4 div.sk-parallel-item::after {content: \"\";width: 100%;border-bottom: 1px solid gray;flex-grow: 1;}#sk-container-id-4 div.sk-label:hover label.sk-toggleable__label {background-color: #d4ebff;}#sk-container-id-4 div.sk-serial::before {content: \"\";position: absolute;border-left: 1px solid gray;box-sizing: border-box;top: 0;bottom: 0;left: 50%;z-index: 0;}#sk-container-id-4 div.sk-serial {display: flex;flex-direction: column;align-items: center;background-color: white;padding-right: 0.2em;padding-left: 0.2em;position: relative;}#sk-container-id-4 div.sk-item {position: relative;z-index: 1;}#sk-container-id-4 div.sk-parallel {display: flex;align-items: stretch;justify-content: center;background-color: white;position: relative;}#sk-container-id-4 div.sk-item::before, #sk-container-id-4 div.sk-parallel-item::before {content: \"\";position: absolute;border-left: 1px solid gray;box-sizing: border-box;top: 0;bottom: 0;left: 50%;z-index: -1;}#sk-container-id-4 div.sk-parallel-item {display: flex;flex-direction: column;z-index: 1;position: relative;background-color: white;}#sk-container-id-4 div.sk-parallel-item:first-child::after {align-self: flex-end;width: 50%;}#sk-container-id-4 div.sk-parallel-item:last-child::after {align-self: flex-start;width: 50%;}#sk-container-id-4 div.sk-parallel-item:only-child::after {width: 0;}#sk-container-id-4 div.sk-dashed-wrapped {border: 1px dashed gray;margin: 0 0.4em 0.5em 0.4em;box-sizing: border-box;padding-bottom: 0.4em;background-color: white;}#sk-container-id-4 div.sk-label label {font-family: monospace;font-weight: bold;display: inline-block;line-height: 1.2em;}#sk-container-id-4 div.sk-label-container {text-align: center;}#sk-container-id-4 div.sk-container {/* jupyter's `normalize.less` sets `[hidden] { display: none; }` but bootstrap.min.css set `[hidden] { display: none !important; }` so we also need the `!important` here to be able to override the default hidden behavior on the sphinx rendered scikit-learn.org. See: https://github.com/scikit-learn/scikit-learn/issues/21755 */display: inline-block !important;position: relative;}#sk-container-id-4 div.sk-text-repr-fallback {display: none;}</style><div id=\"sk-container-id-4\" class=\"sk-top-container\"><div class=\"sk-text-repr-fallback\"><pre>GridSearchCV(cv=5,\n",
       "             estimator=Pipeline(steps=[(&#x27;standardscaler&#x27;, StandardScaler()),\n",
       "                                       (&#x27;svc&#x27;, SVC())]),\n",
       "             n_jobs=-1,\n",
       "             param_grid={&#x27;svc__C&#x27;: [0.001, 0.01, 0.1, 1.0, 10, 100],\n",
       "                         &#x27;svc__gamma&#x27;: [0.001, 0.01, 0.1, 1.0, 10, 100]},\n",
       "             return_train_score=True)</pre><b>In a Jupyter environment, please rerun this cell to show the HTML representation or trust the notebook. <br />On GitHub, the HTML representation is unable to render, please try loading this page with nbviewer.org.</b></div><div class=\"sk-container\" hidden><div class=\"sk-item sk-dashed-wrapped\"><div class=\"sk-label-container\"><div class=\"sk-label sk-toggleable\"><input class=\"sk-toggleable__control sk-hidden--visually\" id=\"sk-estimator-id-11\" type=\"checkbox\" ><label for=\"sk-estimator-id-11\" class=\"sk-toggleable__label sk-toggleable__label-arrow\">GridSearchCV</label><div class=\"sk-toggleable__content\"><pre>GridSearchCV(cv=5,\n",
       "             estimator=Pipeline(steps=[(&#x27;standardscaler&#x27;, StandardScaler()),\n",
       "                                       (&#x27;svc&#x27;, SVC())]),\n",
       "             n_jobs=-1,\n",
       "             param_grid={&#x27;svc__C&#x27;: [0.001, 0.01, 0.1, 1.0, 10, 100],\n",
       "                         &#x27;svc__gamma&#x27;: [0.001, 0.01, 0.1, 1.0, 10, 100]},\n",
       "             return_train_score=True)</pre></div></div></div><div class=\"sk-parallel\"><div class=\"sk-parallel-item\"><div class=\"sk-item\"><div class=\"sk-label-container\"><div class=\"sk-label sk-toggleable\"><input class=\"sk-toggleable__control sk-hidden--visually\" id=\"sk-estimator-id-12\" type=\"checkbox\" ><label for=\"sk-estimator-id-12\" class=\"sk-toggleable__label sk-toggleable__label-arrow\">estimator: Pipeline</label><div class=\"sk-toggleable__content\"><pre>Pipeline(steps=[(&#x27;standardscaler&#x27;, StandardScaler()), (&#x27;svc&#x27;, SVC())])</pre></div></div></div><div class=\"sk-serial\"><div class=\"sk-item\"><div class=\"sk-serial\"><div class=\"sk-item\"><div class=\"sk-estimator sk-toggleable\"><input class=\"sk-toggleable__control sk-hidden--visually\" id=\"sk-estimator-id-13\" type=\"checkbox\" ><label for=\"sk-estimator-id-13\" class=\"sk-toggleable__label sk-toggleable__label-arrow\">StandardScaler</label><div class=\"sk-toggleable__content\"><pre>StandardScaler()</pre></div></div></div><div class=\"sk-item\"><div class=\"sk-estimator sk-toggleable\"><input class=\"sk-toggleable__control sk-hidden--visually\" id=\"sk-estimator-id-14\" type=\"checkbox\" ><label for=\"sk-estimator-id-14\" class=\"sk-toggleable__label sk-toggleable__label-arrow\">SVC</label><div class=\"sk-toggleable__content\"><pre>SVC()</pre></div></div></div></div></div></div></div></div></div></div></div></div>"
      ],
      "text/plain": [
       "GridSearchCV(cv=5,\n",
       "             estimator=Pipeline(steps=[('standardscaler', StandardScaler()),\n",
       "                                       ('svc', SVC())]),\n",
       "             n_jobs=-1,\n",
       "             param_grid={'svc__C': [0.001, 0.01, 0.1, 1.0, 10, 100],\n",
       "                         'svc__gamma': [0.001, 0.01, 0.1, 1.0, 10, 100]},\n",
       "             return_train_score=True)"
      ]
     },
     "execution_count": 25,
     "metadata": {},
     "output_type": "execute_result"
    }
   ],
   "source": [
    "grid_search.fit(X_train, y_train) # all the work is done here\n",
    "grid_search"
   ]
  },
  {
   "cell_type": "markdown",
   "metadata": {
    "slideshow": {
     "slide_type": "slide"
    }
   },
   "source": [
    "Fitting the `GridSearchCV` object \n",
    "- Searches for the best hyperparameter values\n",
    "- You can access the best score and the best hyperparameters using `best_score_` and `best_params_` attributes, respectively. "
   ]
  },
  {
   "cell_type": "code",
   "execution_count": 26,
   "metadata": {
    "slideshow": {
     "slide_type": "-"
    }
   },
   "outputs": [
    {
     "data": {
      "text/plain": [
       "0.7439609253312309"
      ]
     },
     "execution_count": 26,
     "metadata": {},
     "output_type": "execute_result"
    }
   ],
   "source": [
    "grid_search.best_score_"
   ]
  },
  {
   "cell_type": "code",
   "execution_count": 24,
   "metadata": {
    "slideshow": {
     "slide_type": "-"
    }
   },
   "outputs": [
    {
     "data": {
      "text/plain": [
       "{'svc__C': 1.0, 'svc__gamma': 0.1}"
      ]
     },
     "execution_count": 24,
     "metadata": {},
     "output_type": "execute_result"
    }
   ],
   "source": [
    "grid_search.best_params_"
   ]
  },
  {
   "cell_type": "markdown",
   "metadata": {
    "slideshow": {
     "slide_type": "slide"
    }
   },
   "source": [
    "- It is often helpful to visualize results of all cross-validation experiments. \n",
    "- You can access this information using `cv_results_` attribute of a fitted `GridSearchCV` object.  "
   ]
  },
  {
   "cell_type": "code",
   "execution_count": 25,
   "metadata": {},
   "outputs": [
    {
     "data": {
      "text/html": [
       "<div>\n",
       "<style scoped>\n",
       "    .dataframe tbody tr th:only-of-type {\n",
       "        vertical-align: middle;\n",
       "    }\n",
       "\n",
       "    .dataframe tbody tr th {\n",
       "        vertical-align: top;\n",
       "    }\n",
       "\n",
       "    .dataframe thead th {\n",
       "        text-align: right;\n",
       "    }\n",
       "</style>\n",
       "<table border=\"1\" class=\"dataframe\">\n",
       "  <thead>\n",
       "    <tr style=\"text-align: right;\">\n",
       "      <th></th>\n",
       "      <th>0</th>\n",
       "      <th>1</th>\n",
       "      <th>2</th>\n",
       "      <th>3</th>\n",
       "      <th>4</th>\n",
       "      <th>5</th>\n",
       "      <th>6</th>\n",
       "      <th>7</th>\n",
       "      <th>8</th>\n",
       "      <th>9</th>\n",
       "      <th>...</th>\n",
       "      <th>26</th>\n",
       "      <th>27</th>\n",
       "      <th>28</th>\n",
       "      <th>29</th>\n",
       "      <th>30</th>\n",
       "      <th>31</th>\n",
       "      <th>32</th>\n",
       "      <th>33</th>\n",
       "      <th>34</th>\n",
       "      <th>35</th>\n",
       "    </tr>\n",
       "  </thead>\n",
       "  <tbody>\n",
       "    <tr>\n",
       "      <th>mean_fit_time</th>\n",
       "      <td>0.13943</td>\n",
       "      <td>0.14166</td>\n",
       "      <td>0.119743</td>\n",
       "      <td>0.130371</td>\n",
       "      <td>0.130666</td>\n",
       "      <td>0.160044</td>\n",
       "      <td>0.11509</td>\n",
       "      <td>0.125428</td>\n",
       "      <td>0.116956</td>\n",
       "      <td>0.120291</td>\n",
       "      <td>...</td>\n",
       "      <td>0.114553</td>\n",
       "      <td>0.135875</td>\n",
       "      <td>0.161145</td>\n",
       "      <td>0.18058</td>\n",
       "      <td>0.10131</td>\n",
       "      <td>0.146129</td>\n",
       "      <td>0.217097</td>\n",
       "      <td>0.139478</td>\n",
       "      <td>0.161628</td>\n",
       "      <td>0.18209</td>\n",
       "    </tr>\n",
       "    <tr>\n",
       "      <th>std_fit_time</th>\n",
       "      <td>0.010148</td>\n",
       "      <td>0.02752</td>\n",
       "      <td>0.007343</td>\n",
       "      <td>0.00948</td>\n",
       "      <td>0.008101</td>\n",
       "      <td>0.00434</td>\n",
       "      <td>0.002534</td>\n",
       "      <td>0.0038</td>\n",
       "      <td>0.003003</td>\n",
       "      <td>0.004045</td>\n",
       "      <td>...</td>\n",
       "      <td>0.003308</td>\n",
       "      <td>0.002629</td>\n",
       "      <td>0.005066</td>\n",
       "      <td>0.002163</td>\n",
       "      <td>0.003409</td>\n",
       "      <td>0.006775</td>\n",
       "      <td>0.011122</td>\n",
       "      <td>0.002852</td>\n",
       "      <td>0.005029</td>\n",
       "      <td>0.002767</td>\n",
       "    </tr>\n",
       "    <tr>\n",
       "      <th>mean_score_time</th>\n",
       "      <td>0.064041</td>\n",
       "      <td>0.07051</td>\n",
       "      <td>0.060754</td>\n",
       "      <td>0.063155</td>\n",
       "      <td>0.060292</td>\n",
       "      <td>0.076811</td>\n",
       "      <td>0.061237</td>\n",
       "      <td>0.06466</td>\n",
       "      <td>0.059428</td>\n",
       "      <td>0.06162</td>\n",
       "      <td>...</td>\n",
       "      <td>0.038561</td>\n",
       "      <td>0.056308</td>\n",
       "      <td>0.059325</td>\n",
       "      <td>0.07635</td>\n",
       "      <td>0.043257</td>\n",
       "      <td>0.036967</td>\n",
       "      <td>0.033649</td>\n",
       "      <td>0.053312</td>\n",
       "      <td>0.058501</td>\n",
       "      <td>0.075064</td>\n",
       "    </tr>\n",
       "    <tr>\n",
       "      <th>std_score_time</th>\n",
       "      <td>0.009112</td>\n",
       "      <td>0.01078</td>\n",
       "      <td>0.001779</td>\n",
       "      <td>0.00249</td>\n",
       "      <td>0.002048</td>\n",
       "      <td>0.003599</td>\n",
       "      <td>0.004692</td>\n",
       "      <td>0.004574</td>\n",
       "      <td>0.003847</td>\n",
       "      <td>0.002788</td>\n",
       "      <td>...</td>\n",
       "      <td>0.003213</td>\n",
       "      <td>0.002518</td>\n",
       "      <td>0.000993</td>\n",
       "      <td>0.001139</td>\n",
       "      <td>0.003016</td>\n",
       "      <td>0.003911</td>\n",
       "      <td>0.00251</td>\n",
       "      <td>0.001564</td>\n",
       "      <td>0.001845</td>\n",
       "      <td>0.002605</td>\n",
       "    </tr>\n",
       "    <tr>\n",
       "      <th>param_svc__C</th>\n",
       "      <td>0.001</td>\n",
       "      <td>0.001</td>\n",
       "      <td>0.001</td>\n",
       "      <td>0.001</td>\n",
       "      <td>0.001</td>\n",
       "      <td>0.001</td>\n",
       "      <td>0.01</td>\n",
       "      <td>0.01</td>\n",
       "      <td>0.01</td>\n",
       "      <td>0.01</td>\n",
       "      <td>...</td>\n",
       "      <td>10</td>\n",
       "      <td>10</td>\n",
       "      <td>10</td>\n",
       "      <td>10</td>\n",
       "      <td>100</td>\n",
       "      <td>100</td>\n",
       "      <td>100</td>\n",
       "      <td>100</td>\n",
       "      <td>100</td>\n",
       "      <td>100</td>\n",
       "    </tr>\n",
       "    <tr>\n",
       "      <th>param_svc__gamma</th>\n",
       "      <td>0.001</td>\n",
       "      <td>0.01</td>\n",
       "      <td>0.1</td>\n",
       "      <td>1.0</td>\n",
       "      <td>10</td>\n",
       "      <td>100</td>\n",
       "      <td>0.001</td>\n",
       "      <td>0.01</td>\n",
       "      <td>0.1</td>\n",
       "      <td>1.0</td>\n",
       "      <td>...</td>\n",
       "      <td>0.1</td>\n",
       "      <td>1.0</td>\n",
       "      <td>10</td>\n",
       "      <td>100</td>\n",
       "      <td>0.001</td>\n",
       "      <td>0.01</td>\n",
       "      <td>0.1</td>\n",
       "      <td>1.0</td>\n",
       "      <td>10</td>\n",
       "      <td>100</td>\n",
       "    </tr>\n",
       "    <tr>\n",
       "      <th>params</th>\n",
       "      <td>{'svc__C': 0.001, 'svc__gamma': 0.001}</td>\n",
       "      <td>{'svc__C': 0.001, 'svc__gamma': 0.01}</td>\n",
       "      <td>{'svc__C': 0.001, 'svc__gamma': 0.1}</td>\n",
       "      <td>{'svc__C': 0.001, 'svc__gamma': 1.0}</td>\n",
       "      <td>{'svc__C': 0.001, 'svc__gamma': 10}</td>\n",
       "      <td>{'svc__C': 0.001, 'svc__gamma': 100}</td>\n",
       "      <td>{'svc__C': 0.01, 'svc__gamma': 0.001}</td>\n",
       "      <td>{'svc__C': 0.01, 'svc__gamma': 0.01}</td>\n",
       "      <td>{'svc__C': 0.01, 'svc__gamma': 0.1}</td>\n",
       "      <td>{'svc__C': 0.01, 'svc__gamma': 1.0}</td>\n",
       "      <td>...</td>\n",
       "      <td>{'svc__C': 10, 'svc__gamma': 0.1}</td>\n",
       "      <td>{'svc__C': 10, 'svc__gamma': 1.0}</td>\n",
       "      <td>{'svc__C': 10, 'svc__gamma': 10}</td>\n",
       "      <td>{'svc__C': 10, 'svc__gamma': 100}</td>\n",
       "      <td>{'svc__C': 100, 'svc__gamma': 0.001}</td>\n",
       "      <td>{'svc__C': 100, 'svc__gamma': 0.01}</td>\n",
       "      <td>{'svc__C': 100, 'svc__gamma': 0.1}</td>\n",
       "      <td>{'svc__C': 100, 'svc__gamma': 1.0}</td>\n",
       "      <td>{'svc__C': 100, 'svc__gamma': 10}</td>\n",
       "      <td>{'svc__C': 100, 'svc__gamma': 100}</td>\n",
       "    </tr>\n",
       "    <tr>\n",
       "      <th>split0_test_score</th>\n",
       "      <td>0.50774</td>\n",
       "      <td>0.50774</td>\n",
       "      <td>0.50774</td>\n",
       "      <td>0.50774</td>\n",
       "      <td>0.50774</td>\n",
       "      <td>0.50774</td>\n",
       "      <td>0.50774</td>\n",
       "      <td>0.50774</td>\n",
       "      <td>0.50774</td>\n",
       "      <td>0.50774</td>\n",
       "      <td>...</td>\n",
       "      <td>0.702786</td>\n",
       "      <td>0.671827</td>\n",
       "      <td>0.517028</td>\n",
       "      <td>0.504644</td>\n",
       "      <td>0.73065</td>\n",
       "      <td>0.73065</td>\n",
       "      <td>0.705882</td>\n",
       "      <td>0.671827</td>\n",
       "      <td>0.517028</td>\n",
       "      <td>0.504644</td>\n",
       "    </tr>\n",
       "    <tr>\n",
       "      <th>split1_test_score</th>\n",
       "      <td>0.50774</td>\n",
       "      <td>0.50774</td>\n",
       "      <td>0.50774</td>\n",
       "      <td>0.50774</td>\n",
       "      <td>0.50774</td>\n",
       "      <td>0.50774</td>\n",
       "      <td>0.50774</td>\n",
       "      <td>0.50774</td>\n",
       "      <td>0.50774</td>\n",
       "      <td>0.50774</td>\n",
       "      <td>...</td>\n",
       "      <td>0.767802</td>\n",
       "      <td>0.671827</td>\n",
       "      <td>0.510836</td>\n",
       "      <td>0.510836</td>\n",
       "      <td>0.708978</td>\n",
       "      <td>0.758514</td>\n",
       "      <td>0.76161</td>\n",
       "      <td>0.671827</td>\n",
       "      <td>0.510836</td>\n",
       "      <td>0.510836</td>\n",
       "    </tr>\n",
       "    <tr>\n",
       "      <th>split2_test_score</th>\n",
       "      <td>0.50774</td>\n",
       "      <td>0.50774</td>\n",
       "      <td>0.50774</td>\n",
       "      <td>0.50774</td>\n",
       "      <td>0.50774</td>\n",
       "      <td>0.50774</td>\n",
       "      <td>0.50774</td>\n",
       "      <td>0.50774</td>\n",
       "      <td>0.50774</td>\n",
       "      <td>0.50774</td>\n",
       "      <td>...</td>\n",
       "      <td>0.693498</td>\n",
       "      <td>0.662539</td>\n",
       "      <td>0.517028</td>\n",
       "      <td>0.50774</td>\n",
       "      <td>0.662539</td>\n",
       "      <td>0.71517</td>\n",
       "      <td>0.671827</td>\n",
       "      <td>0.662539</td>\n",
       "      <td>0.517028</td>\n",
       "      <td>0.50774</td>\n",
       "    </tr>\n",
       "    <tr>\n",
       "      <th>split3_test_score</th>\n",
       "      <td>0.506211</td>\n",
       "      <td>0.506211</td>\n",
       "      <td>0.506211</td>\n",
       "      <td>0.506211</td>\n",
       "      <td>0.506211</td>\n",
       "      <td>0.506211</td>\n",
       "      <td>0.506211</td>\n",
       "      <td>0.506211</td>\n",
       "      <td>0.506211</td>\n",
       "      <td>0.506211</td>\n",
       "      <td>...</td>\n",
       "      <td>0.736025</td>\n",
       "      <td>0.667702</td>\n",
       "      <td>0.515528</td>\n",
       "      <td>0.509317</td>\n",
       "      <td>0.723602</td>\n",
       "      <td>0.720497</td>\n",
       "      <td>0.708075</td>\n",
       "      <td>0.667702</td>\n",
       "      <td>0.515528</td>\n",
       "      <td>0.509317</td>\n",
       "    </tr>\n",
       "    <tr>\n",
       "      <th>split4_test_score</th>\n",
       "      <td>0.509317</td>\n",
       "      <td>0.509317</td>\n",
       "      <td>0.509317</td>\n",
       "      <td>0.509317</td>\n",
       "      <td>0.509317</td>\n",
       "      <td>0.509317</td>\n",
       "      <td>0.509317</td>\n",
       "      <td>0.509317</td>\n",
       "      <td>0.509317</td>\n",
       "      <td>0.509317</td>\n",
       "      <td>...</td>\n",
       "      <td>0.745342</td>\n",
       "      <td>0.68323</td>\n",
       "      <td>0.515528</td>\n",
       "      <td>0.509317</td>\n",
       "      <td>0.695652</td>\n",
       "      <td>0.73913</td>\n",
       "      <td>0.71118</td>\n",
       "      <td>0.68323</td>\n",
       "      <td>0.515528</td>\n",
       "      <td>0.509317</td>\n",
       "    </tr>\n",
       "    <tr>\n",
       "      <th>mean_test_score</th>\n",
       "      <td>0.50775</td>\n",
       "      <td>0.50775</td>\n",
       "      <td>0.50775</td>\n",
       "      <td>0.50775</td>\n",
       "      <td>0.50775</td>\n",
       "      <td>0.50775</td>\n",
       "      <td>0.50775</td>\n",
       "      <td>0.50775</td>\n",
       "      <td>0.50775</td>\n",
       "      <td>0.50775</td>\n",
       "      <td>...</td>\n",
       "      <td>0.729091</td>\n",
       "      <td>0.671425</td>\n",
       "      <td>0.51519</td>\n",
       "      <td>0.508371</td>\n",
       "      <td>0.704284</td>\n",
       "      <td>0.732792</td>\n",
       "      <td>0.711715</td>\n",
       "      <td>0.671425</td>\n",
       "      <td>0.51519</td>\n",
       "      <td>0.508371</td>\n",
       "    </tr>\n",
       "    <tr>\n",
       "      <th>std_test_score</th>\n",
       "      <td>0.000982</td>\n",
       "      <td>0.000982</td>\n",
       "      <td>0.000982</td>\n",
       "      <td>0.000982</td>\n",
       "      <td>0.000982</td>\n",
       "      <td>0.000982</td>\n",
       "      <td>0.000982</td>\n",
       "      <td>0.000982</td>\n",
       "      <td>0.000982</td>\n",
       "      <td>0.000982</td>\n",
       "      <td>...</td>\n",
       "      <td>0.027457</td>\n",
       "      <td>0.006819</td>\n",
       "      <td>0.002278</td>\n",
       "      <td>0.002105</td>\n",
       "      <td>0.024115</td>\n",
       "      <td>0.015284</td>\n",
       "      <td>0.028734</td>\n",
       "      <td>0.006819</td>\n",
       "      <td>0.002278</td>\n",
       "      <td>0.002105</td>\n",
       "    </tr>\n",
       "    <tr>\n",
       "      <th>rank_test_score</th>\n",
       "      <td>21</td>\n",
       "      <td>21</td>\n",
       "      <td>21</td>\n",
       "      <td>21</td>\n",
       "      <td>21</td>\n",
       "      <td>21</td>\n",
       "      <td>21</td>\n",
       "      <td>21</td>\n",
       "      <td>21</td>\n",
       "      <td>21</td>\n",
       "      <td>...</td>\n",
       "      <td>3</td>\n",
       "      <td>11</td>\n",
       "      <td>15</td>\n",
       "      <td>18</td>\n",
       "      <td>6</td>\n",
       "      <td>2</td>\n",
       "      <td>5</td>\n",
       "      <td>11</td>\n",
       "      <td>15</td>\n",
       "      <td>18</td>\n",
       "    </tr>\n",
       "    <tr>\n",
       "      <th>split0_train_score</th>\n",
       "      <td>0.507752</td>\n",
       "      <td>0.507752</td>\n",
       "      <td>0.507752</td>\n",
       "      <td>0.507752</td>\n",
       "      <td>0.507752</td>\n",
       "      <td>0.507752</td>\n",
       "      <td>0.507752</td>\n",
       "      <td>0.507752</td>\n",
       "      <td>0.507752</td>\n",
       "      <td>0.507752</td>\n",
       "      <td>...</td>\n",
       "      <td>0.923256</td>\n",
       "      <td>1.0</td>\n",
       "      <td>1.0</td>\n",
       "      <td>1.0</td>\n",
       "      <td>0.703876</td>\n",
       "      <td>0.80155</td>\n",
       "      <td>0.990698</td>\n",
       "      <td>1.0</td>\n",
       "      <td>1.0</td>\n",
       "      <td>1.0</td>\n",
       "    </tr>\n",
       "    <tr>\n",
       "      <th>split1_train_score</th>\n",
       "      <td>0.507752</td>\n",
       "      <td>0.507752</td>\n",
       "      <td>0.507752</td>\n",
       "      <td>0.507752</td>\n",
       "      <td>0.507752</td>\n",
       "      <td>0.507752</td>\n",
       "      <td>0.507752</td>\n",
       "      <td>0.507752</td>\n",
       "      <td>0.507752</td>\n",
       "      <td>0.507752</td>\n",
       "      <td>...</td>\n",
       "      <td>0.91938</td>\n",
       "      <td>1.0</td>\n",
       "      <td>1.0</td>\n",
       "      <td>1.0</td>\n",
       "      <td>0.712403</td>\n",
       "      <td>0.796899</td>\n",
       "      <td>0.987597</td>\n",
       "      <td>1.0</td>\n",
       "      <td>1.0</td>\n",
       "      <td>1.0</td>\n",
       "    </tr>\n",
       "    <tr>\n",
       "      <th>split2_train_score</th>\n",
       "      <td>0.507752</td>\n",
       "      <td>0.507752</td>\n",
       "      <td>0.507752</td>\n",
       "      <td>0.507752</td>\n",
       "      <td>0.507752</td>\n",
       "      <td>0.507752</td>\n",
       "      <td>0.507752</td>\n",
       "      <td>0.507752</td>\n",
       "      <td>0.507752</td>\n",
       "      <td>0.507752</td>\n",
       "      <td>...</td>\n",
       "      <td>0.925581</td>\n",
       "      <td>0.999225</td>\n",
       "      <td>0.999225</td>\n",
       "      <td>0.999225</td>\n",
       "      <td>0.726357</td>\n",
       "      <td>0.813953</td>\n",
       "      <td>0.989147</td>\n",
       "      <td>0.999225</td>\n",
       "      <td>0.999225</td>\n",
       "      <td>0.999225</td>\n",
       "    </tr>\n",
       "    <tr>\n",
       "      <th>split3_train_score</th>\n",
       "      <td>0.508133</td>\n",
       "      <td>0.508133</td>\n",
       "      <td>0.508133</td>\n",
       "      <td>0.508133</td>\n",
       "      <td>0.508133</td>\n",
       "      <td>0.508133</td>\n",
       "      <td>0.508133</td>\n",
       "      <td>0.508133</td>\n",
       "      <td>0.508133</td>\n",
       "      <td>0.508133</td>\n",
       "      <td>...</td>\n",
       "      <td>0.923315</td>\n",
       "      <td>0.999225</td>\n",
       "      <td>0.999225</td>\n",
       "      <td>0.999225</td>\n",
       "      <td>0.710302</td>\n",
       "      <td>0.797831</td>\n",
       "      <td>0.984508</td>\n",
       "      <td>0.999225</td>\n",
       "      <td>0.999225</td>\n",
       "      <td>0.999225</td>\n",
       "    </tr>\n",
       "    <tr>\n",
       "      <th>split4_train_score</th>\n",
       "      <td>0.507359</td>\n",
       "      <td>0.507359</td>\n",
       "      <td>0.507359</td>\n",
       "      <td>0.507359</td>\n",
       "      <td>0.507359</td>\n",
       "      <td>0.507359</td>\n",
       "      <td>0.507359</td>\n",
       "      <td>0.507359</td>\n",
       "      <td>0.507359</td>\n",
       "      <td>0.507359</td>\n",
       "      <td>...</td>\n",
       "      <td>0.915569</td>\n",
       "      <td>0.999225</td>\n",
       "      <td>0.999225</td>\n",
       "      <td>0.999225</td>\n",
       "      <td>0.71495</td>\n",
       "      <td>0.793958</td>\n",
       "      <td>0.986057</td>\n",
       "      <td>0.999225</td>\n",
       "      <td>0.999225</td>\n",
       "      <td>0.999225</td>\n",
       "    </tr>\n",
       "    <tr>\n",
       "      <th>mean_train_score</th>\n",
       "      <td>0.50775</td>\n",
       "      <td>0.50775</td>\n",
       "      <td>0.50775</td>\n",
       "      <td>0.50775</td>\n",
       "      <td>0.50775</td>\n",
       "      <td>0.50775</td>\n",
       "      <td>0.50775</td>\n",
       "      <td>0.50775</td>\n",
       "      <td>0.50775</td>\n",
       "      <td>0.50775</td>\n",
       "      <td>...</td>\n",
       "      <td>0.92142</td>\n",
       "      <td>0.999535</td>\n",
       "      <td>0.999535</td>\n",
       "      <td>0.999535</td>\n",
       "      <td>0.713577</td>\n",
       "      <td>0.800838</td>\n",
       "      <td>0.987601</td>\n",
       "      <td>0.999535</td>\n",
       "      <td>0.999535</td>\n",
       "      <td>0.999535</td>\n",
       "    </tr>\n",
       "    <tr>\n",
       "      <th>std_train_score</th>\n",
       "      <td>0.000245</td>\n",
       "      <td>0.000245</td>\n",
       "      <td>0.000245</td>\n",
       "      <td>0.000245</td>\n",
       "      <td>0.000245</td>\n",
       "      <td>0.000245</td>\n",
       "      <td>0.000245</td>\n",
       "      <td>0.000245</td>\n",
       "      <td>0.000245</td>\n",
       "      <td>0.000245</td>\n",
       "      <td>...</td>\n",
       "      <td>0.00354</td>\n",
       "      <td>0.00038</td>\n",
       "      <td>0.00038</td>\n",
       "      <td>0.00038</td>\n",
       "      <td>0.007368</td>\n",
       "      <td>0.006992</td>\n",
       "      <td>0.002188</td>\n",
       "      <td>0.00038</td>\n",
       "      <td>0.00038</td>\n",
       "      <td>0.00038</td>\n",
       "    </tr>\n",
       "  </tbody>\n",
       "</table>\n",
       "<p>22 rows × 36 columns</p>\n",
       "</div>"
      ],
      "text/plain": [
       "                                                        0   \\\n",
       "mean_fit_time                                      0.13943   \n",
       "std_fit_time                                      0.010148   \n",
       "mean_score_time                                   0.064041   \n",
       "std_score_time                                    0.009112   \n",
       "param_svc__C                                         0.001   \n",
       "param_svc__gamma                                     0.001   \n",
       "params              {'svc__C': 0.001, 'svc__gamma': 0.001}   \n",
       "split0_test_score                                  0.50774   \n",
       "split1_test_score                                  0.50774   \n",
       "split2_test_score                                  0.50774   \n",
       "split3_test_score                                 0.506211   \n",
       "split4_test_score                                 0.509317   \n",
       "mean_test_score                                    0.50775   \n",
       "std_test_score                                    0.000982   \n",
       "rank_test_score                                         21   \n",
       "split0_train_score                                0.507752   \n",
       "split1_train_score                                0.507752   \n",
       "split2_train_score                                0.507752   \n",
       "split3_train_score                                0.508133   \n",
       "split4_train_score                                0.507359   \n",
       "mean_train_score                                   0.50775   \n",
       "std_train_score                                   0.000245   \n",
       "\n",
       "                                                       1   \\\n",
       "mean_fit_time                                     0.14166   \n",
       "std_fit_time                                      0.02752   \n",
       "mean_score_time                                   0.07051   \n",
       "std_score_time                                    0.01078   \n",
       "param_svc__C                                        0.001   \n",
       "param_svc__gamma                                     0.01   \n",
       "params              {'svc__C': 0.001, 'svc__gamma': 0.01}   \n",
       "split0_test_score                                 0.50774   \n",
       "split1_test_score                                 0.50774   \n",
       "split2_test_score                                 0.50774   \n",
       "split3_test_score                                0.506211   \n",
       "split4_test_score                                0.509317   \n",
       "mean_test_score                                   0.50775   \n",
       "std_test_score                                   0.000982   \n",
       "rank_test_score                                        21   \n",
       "split0_train_score                               0.507752   \n",
       "split1_train_score                               0.507752   \n",
       "split2_train_score                               0.507752   \n",
       "split3_train_score                               0.508133   \n",
       "split4_train_score                               0.507359   \n",
       "mean_train_score                                  0.50775   \n",
       "std_train_score                                  0.000245   \n",
       "\n",
       "                                                      2   \\\n",
       "mean_fit_time                                   0.119743   \n",
       "std_fit_time                                    0.007343   \n",
       "mean_score_time                                 0.060754   \n",
       "std_score_time                                  0.001779   \n",
       "param_svc__C                                       0.001   \n",
       "param_svc__gamma                                     0.1   \n",
       "params              {'svc__C': 0.001, 'svc__gamma': 0.1}   \n",
       "split0_test_score                                0.50774   \n",
       "split1_test_score                                0.50774   \n",
       "split2_test_score                                0.50774   \n",
       "split3_test_score                               0.506211   \n",
       "split4_test_score                               0.509317   \n",
       "mean_test_score                                  0.50775   \n",
       "std_test_score                                  0.000982   \n",
       "rank_test_score                                       21   \n",
       "split0_train_score                              0.507752   \n",
       "split1_train_score                              0.507752   \n",
       "split2_train_score                              0.507752   \n",
       "split3_train_score                              0.508133   \n",
       "split4_train_score                              0.507359   \n",
       "mean_train_score                                 0.50775   \n",
       "std_train_score                                 0.000245   \n",
       "\n",
       "                                                      3   \\\n",
       "mean_fit_time                                   0.130371   \n",
       "std_fit_time                                     0.00948   \n",
       "mean_score_time                                 0.063155   \n",
       "std_score_time                                   0.00249   \n",
       "param_svc__C                                       0.001   \n",
       "param_svc__gamma                                     1.0   \n",
       "params              {'svc__C': 0.001, 'svc__gamma': 1.0}   \n",
       "split0_test_score                                0.50774   \n",
       "split1_test_score                                0.50774   \n",
       "split2_test_score                                0.50774   \n",
       "split3_test_score                               0.506211   \n",
       "split4_test_score                               0.509317   \n",
       "mean_test_score                                  0.50775   \n",
       "std_test_score                                  0.000982   \n",
       "rank_test_score                                       21   \n",
       "split0_train_score                              0.507752   \n",
       "split1_train_score                              0.507752   \n",
       "split2_train_score                              0.507752   \n",
       "split3_train_score                              0.508133   \n",
       "split4_train_score                              0.507359   \n",
       "mean_train_score                                 0.50775   \n",
       "std_train_score                                 0.000245   \n",
       "\n",
       "                                                     4   \\\n",
       "mean_fit_time                                  0.130666   \n",
       "std_fit_time                                   0.008101   \n",
       "mean_score_time                                0.060292   \n",
       "std_score_time                                 0.002048   \n",
       "param_svc__C                                      0.001   \n",
       "param_svc__gamma                                     10   \n",
       "params              {'svc__C': 0.001, 'svc__gamma': 10}   \n",
       "split0_test_score                               0.50774   \n",
       "split1_test_score                               0.50774   \n",
       "split2_test_score                               0.50774   \n",
       "split3_test_score                              0.506211   \n",
       "split4_test_score                              0.509317   \n",
       "mean_test_score                                 0.50775   \n",
       "std_test_score                                 0.000982   \n",
       "rank_test_score                                      21   \n",
       "split0_train_score                             0.507752   \n",
       "split1_train_score                             0.507752   \n",
       "split2_train_score                             0.507752   \n",
       "split3_train_score                             0.508133   \n",
       "split4_train_score                             0.507359   \n",
       "mean_train_score                                0.50775   \n",
       "std_train_score                                0.000245   \n",
       "\n",
       "                                                      5   \\\n",
       "mean_fit_time                                   0.160044   \n",
       "std_fit_time                                     0.00434   \n",
       "mean_score_time                                 0.076811   \n",
       "std_score_time                                  0.003599   \n",
       "param_svc__C                                       0.001   \n",
       "param_svc__gamma                                     100   \n",
       "params              {'svc__C': 0.001, 'svc__gamma': 100}   \n",
       "split0_test_score                                0.50774   \n",
       "split1_test_score                                0.50774   \n",
       "split2_test_score                                0.50774   \n",
       "split3_test_score                               0.506211   \n",
       "split4_test_score                               0.509317   \n",
       "mean_test_score                                  0.50775   \n",
       "std_test_score                                  0.000982   \n",
       "rank_test_score                                       21   \n",
       "split0_train_score                              0.507752   \n",
       "split1_train_score                              0.507752   \n",
       "split2_train_score                              0.507752   \n",
       "split3_train_score                              0.508133   \n",
       "split4_train_score                              0.507359   \n",
       "mean_train_score                                 0.50775   \n",
       "std_train_score                                 0.000245   \n",
       "\n",
       "                                                       6   \\\n",
       "mean_fit_time                                     0.11509   \n",
       "std_fit_time                                     0.002534   \n",
       "mean_score_time                                  0.061237   \n",
       "std_score_time                                   0.004692   \n",
       "param_svc__C                                         0.01   \n",
       "param_svc__gamma                                    0.001   \n",
       "params              {'svc__C': 0.01, 'svc__gamma': 0.001}   \n",
       "split0_test_score                                 0.50774   \n",
       "split1_test_score                                 0.50774   \n",
       "split2_test_score                                 0.50774   \n",
       "split3_test_score                                0.506211   \n",
       "split4_test_score                                0.509317   \n",
       "mean_test_score                                   0.50775   \n",
       "std_test_score                                   0.000982   \n",
       "rank_test_score                                        21   \n",
       "split0_train_score                               0.507752   \n",
       "split1_train_score                               0.507752   \n",
       "split2_train_score                               0.507752   \n",
       "split3_train_score                               0.508133   \n",
       "split4_train_score                               0.507359   \n",
       "mean_train_score                                  0.50775   \n",
       "std_train_score                                  0.000245   \n",
       "\n",
       "                                                      7   \\\n",
       "mean_fit_time                                   0.125428   \n",
       "std_fit_time                                      0.0038   \n",
       "mean_score_time                                  0.06466   \n",
       "std_score_time                                  0.004574   \n",
       "param_svc__C                                        0.01   \n",
       "param_svc__gamma                                    0.01   \n",
       "params              {'svc__C': 0.01, 'svc__gamma': 0.01}   \n",
       "split0_test_score                                0.50774   \n",
       "split1_test_score                                0.50774   \n",
       "split2_test_score                                0.50774   \n",
       "split3_test_score                               0.506211   \n",
       "split4_test_score                               0.509317   \n",
       "mean_test_score                                  0.50775   \n",
       "std_test_score                                  0.000982   \n",
       "rank_test_score                                       21   \n",
       "split0_train_score                              0.507752   \n",
       "split1_train_score                              0.507752   \n",
       "split2_train_score                              0.507752   \n",
       "split3_train_score                              0.508133   \n",
       "split4_train_score                              0.507359   \n",
       "mean_train_score                                 0.50775   \n",
       "std_train_score                                 0.000245   \n",
       "\n",
       "                                                     8   \\\n",
       "mean_fit_time                                  0.116956   \n",
       "std_fit_time                                   0.003003   \n",
       "mean_score_time                                0.059428   \n",
       "std_score_time                                 0.003847   \n",
       "param_svc__C                                       0.01   \n",
       "param_svc__gamma                                    0.1   \n",
       "params              {'svc__C': 0.01, 'svc__gamma': 0.1}   \n",
       "split0_test_score                               0.50774   \n",
       "split1_test_score                               0.50774   \n",
       "split2_test_score                               0.50774   \n",
       "split3_test_score                              0.506211   \n",
       "split4_test_score                              0.509317   \n",
       "mean_test_score                                 0.50775   \n",
       "std_test_score                                 0.000982   \n",
       "rank_test_score                                      21   \n",
       "split0_train_score                             0.507752   \n",
       "split1_train_score                             0.507752   \n",
       "split2_train_score                             0.507752   \n",
       "split3_train_score                             0.508133   \n",
       "split4_train_score                             0.507359   \n",
       "mean_train_score                                0.50775   \n",
       "std_train_score                                0.000245   \n",
       "\n",
       "                                                     9   ...  \\\n",
       "mean_fit_time                                  0.120291  ...   \n",
       "std_fit_time                                   0.004045  ...   \n",
       "mean_score_time                                 0.06162  ...   \n",
       "std_score_time                                 0.002788  ...   \n",
       "param_svc__C                                       0.01  ...   \n",
       "param_svc__gamma                                    1.0  ...   \n",
       "params              {'svc__C': 0.01, 'svc__gamma': 1.0}  ...   \n",
       "split0_test_score                               0.50774  ...   \n",
       "split1_test_score                               0.50774  ...   \n",
       "split2_test_score                               0.50774  ...   \n",
       "split3_test_score                              0.506211  ...   \n",
       "split4_test_score                              0.509317  ...   \n",
       "mean_test_score                                 0.50775  ...   \n",
       "std_test_score                                 0.000982  ...   \n",
       "rank_test_score                                      21  ...   \n",
       "split0_train_score                             0.507752  ...   \n",
       "split1_train_score                             0.507752  ...   \n",
       "split2_train_score                             0.507752  ...   \n",
       "split3_train_score                             0.508133  ...   \n",
       "split4_train_score                             0.507359  ...   \n",
       "mean_train_score                                0.50775  ...   \n",
       "std_train_score                                0.000245  ...   \n",
       "\n",
       "                                                   26  \\\n",
       "mean_fit_time                                0.114553   \n",
       "std_fit_time                                 0.003308   \n",
       "mean_score_time                              0.038561   \n",
       "std_score_time                               0.003213   \n",
       "param_svc__C                                       10   \n",
       "param_svc__gamma                                  0.1   \n",
       "params              {'svc__C': 10, 'svc__gamma': 0.1}   \n",
       "split0_test_score                            0.702786   \n",
       "split1_test_score                            0.767802   \n",
       "split2_test_score                            0.693498   \n",
       "split3_test_score                            0.736025   \n",
       "split4_test_score                            0.745342   \n",
       "mean_test_score                              0.729091   \n",
       "std_test_score                               0.027457   \n",
       "rank_test_score                                     3   \n",
       "split0_train_score                           0.923256   \n",
       "split1_train_score                            0.91938   \n",
       "split2_train_score                           0.925581   \n",
       "split3_train_score                           0.923315   \n",
       "split4_train_score                           0.915569   \n",
       "mean_train_score                              0.92142   \n",
       "std_train_score                               0.00354   \n",
       "\n",
       "                                                   27  \\\n",
       "mean_fit_time                                0.135875   \n",
       "std_fit_time                                 0.002629   \n",
       "mean_score_time                              0.056308   \n",
       "std_score_time                               0.002518   \n",
       "param_svc__C                                       10   \n",
       "param_svc__gamma                                  1.0   \n",
       "params              {'svc__C': 10, 'svc__gamma': 1.0}   \n",
       "split0_test_score                            0.671827   \n",
       "split1_test_score                            0.671827   \n",
       "split2_test_score                            0.662539   \n",
       "split3_test_score                            0.667702   \n",
       "split4_test_score                             0.68323   \n",
       "mean_test_score                              0.671425   \n",
       "std_test_score                               0.006819   \n",
       "rank_test_score                                    11   \n",
       "split0_train_score                                1.0   \n",
       "split1_train_score                                1.0   \n",
       "split2_train_score                           0.999225   \n",
       "split3_train_score                           0.999225   \n",
       "split4_train_score                           0.999225   \n",
       "mean_train_score                             0.999535   \n",
       "std_train_score                               0.00038   \n",
       "\n",
       "                                                  28  \\\n",
       "mean_fit_time                               0.161145   \n",
       "std_fit_time                                0.005066   \n",
       "mean_score_time                             0.059325   \n",
       "std_score_time                              0.000993   \n",
       "param_svc__C                                      10   \n",
       "param_svc__gamma                                  10   \n",
       "params              {'svc__C': 10, 'svc__gamma': 10}   \n",
       "split0_test_score                           0.517028   \n",
       "split1_test_score                           0.510836   \n",
       "split2_test_score                           0.517028   \n",
       "split3_test_score                           0.515528   \n",
       "split4_test_score                           0.515528   \n",
       "mean_test_score                              0.51519   \n",
       "std_test_score                              0.002278   \n",
       "rank_test_score                                   15   \n",
       "split0_train_score                               1.0   \n",
       "split1_train_score                               1.0   \n",
       "split2_train_score                          0.999225   \n",
       "split3_train_score                          0.999225   \n",
       "split4_train_score                          0.999225   \n",
       "mean_train_score                            0.999535   \n",
       "std_train_score                              0.00038   \n",
       "\n",
       "                                                   29  \\\n",
       "mean_fit_time                                 0.18058   \n",
       "std_fit_time                                 0.002163   \n",
       "mean_score_time                               0.07635   \n",
       "std_score_time                               0.001139   \n",
       "param_svc__C                                       10   \n",
       "param_svc__gamma                                  100   \n",
       "params              {'svc__C': 10, 'svc__gamma': 100}   \n",
       "split0_test_score                            0.504644   \n",
       "split1_test_score                            0.510836   \n",
       "split2_test_score                             0.50774   \n",
       "split3_test_score                            0.509317   \n",
       "split4_test_score                            0.509317   \n",
       "mean_test_score                              0.508371   \n",
       "std_test_score                               0.002105   \n",
       "rank_test_score                                    18   \n",
       "split0_train_score                                1.0   \n",
       "split1_train_score                                1.0   \n",
       "split2_train_score                           0.999225   \n",
       "split3_train_score                           0.999225   \n",
       "split4_train_score                           0.999225   \n",
       "mean_train_score                             0.999535   \n",
       "std_train_score                               0.00038   \n",
       "\n",
       "                                                      30  \\\n",
       "mean_fit_time                                    0.10131   \n",
       "std_fit_time                                    0.003409   \n",
       "mean_score_time                                 0.043257   \n",
       "std_score_time                                  0.003016   \n",
       "param_svc__C                                         100   \n",
       "param_svc__gamma                                   0.001   \n",
       "params              {'svc__C': 100, 'svc__gamma': 0.001}   \n",
       "split0_test_score                                0.73065   \n",
       "split1_test_score                               0.708978   \n",
       "split2_test_score                               0.662539   \n",
       "split3_test_score                               0.723602   \n",
       "split4_test_score                               0.695652   \n",
       "mean_test_score                                 0.704284   \n",
       "std_test_score                                  0.024115   \n",
       "rank_test_score                                        6   \n",
       "split0_train_score                              0.703876   \n",
       "split1_train_score                              0.712403   \n",
       "split2_train_score                              0.726357   \n",
       "split3_train_score                              0.710302   \n",
       "split4_train_score                               0.71495   \n",
       "mean_train_score                                0.713577   \n",
       "std_train_score                                 0.007368   \n",
       "\n",
       "                                                     31  \\\n",
       "mean_fit_time                                  0.146129   \n",
       "std_fit_time                                   0.006775   \n",
       "mean_score_time                                0.036967   \n",
       "std_score_time                                 0.003911   \n",
       "param_svc__C                                        100   \n",
       "param_svc__gamma                                   0.01   \n",
       "params              {'svc__C': 100, 'svc__gamma': 0.01}   \n",
       "split0_test_score                               0.73065   \n",
       "split1_test_score                              0.758514   \n",
       "split2_test_score                               0.71517   \n",
       "split3_test_score                              0.720497   \n",
       "split4_test_score                               0.73913   \n",
       "mean_test_score                                0.732792   \n",
       "std_test_score                                 0.015284   \n",
       "rank_test_score                                       2   \n",
       "split0_train_score                              0.80155   \n",
       "split1_train_score                             0.796899   \n",
       "split2_train_score                             0.813953   \n",
       "split3_train_score                             0.797831   \n",
       "split4_train_score                             0.793958   \n",
       "mean_train_score                               0.800838   \n",
       "std_train_score                                0.006992   \n",
       "\n",
       "                                                    32  \\\n",
       "mean_fit_time                                 0.217097   \n",
       "std_fit_time                                  0.011122   \n",
       "mean_score_time                               0.033649   \n",
       "std_score_time                                 0.00251   \n",
       "param_svc__C                                       100   \n",
       "param_svc__gamma                                   0.1   \n",
       "params              {'svc__C': 100, 'svc__gamma': 0.1}   \n",
       "split0_test_score                             0.705882   \n",
       "split1_test_score                              0.76161   \n",
       "split2_test_score                             0.671827   \n",
       "split3_test_score                             0.708075   \n",
       "split4_test_score                              0.71118   \n",
       "mean_test_score                               0.711715   \n",
       "std_test_score                                0.028734   \n",
       "rank_test_score                                      5   \n",
       "split0_train_score                            0.990698   \n",
       "split1_train_score                            0.987597   \n",
       "split2_train_score                            0.989147   \n",
       "split3_train_score                            0.984508   \n",
       "split4_train_score                            0.986057   \n",
       "mean_train_score                              0.987601   \n",
       "std_train_score                               0.002188   \n",
       "\n",
       "                                                    33  \\\n",
       "mean_fit_time                                 0.139478   \n",
       "std_fit_time                                  0.002852   \n",
       "mean_score_time                               0.053312   \n",
       "std_score_time                                0.001564   \n",
       "param_svc__C                                       100   \n",
       "param_svc__gamma                                   1.0   \n",
       "params              {'svc__C': 100, 'svc__gamma': 1.0}   \n",
       "split0_test_score                             0.671827   \n",
       "split1_test_score                             0.671827   \n",
       "split2_test_score                             0.662539   \n",
       "split3_test_score                             0.667702   \n",
       "split4_test_score                              0.68323   \n",
       "mean_test_score                               0.671425   \n",
       "std_test_score                                0.006819   \n",
       "rank_test_score                                     11   \n",
       "split0_train_score                                 1.0   \n",
       "split1_train_score                                 1.0   \n",
       "split2_train_score                            0.999225   \n",
       "split3_train_score                            0.999225   \n",
       "split4_train_score                            0.999225   \n",
       "mean_train_score                              0.999535   \n",
       "std_train_score                                0.00038   \n",
       "\n",
       "                                                   34  \\\n",
       "mean_fit_time                                0.161628   \n",
       "std_fit_time                                 0.005029   \n",
       "mean_score_time                              0.058501   \n",
       "std_score_time                               0.001845   \n",
       "param_svc__C                                      100   \n",
       "param_svc__gamma                                   10   \n",
       "params              {'svc__C': 100, 'svc__gamma': 10}   \n",
       "split0_test_score                            0.517028   \n",
       "split1_test_score                            0.510836   \n",
       "split2_test_score                            0.517028   \n",
       "split3_test_score                            0.515528   \n",
       "split4_test_score                            0.515528   \n",
       "mean_test_score                               0.51519   \n",
       "std_test_score                               0.002278   \n",
       "rank_test_score                                    15   \n",
       "split0_train_score                                1.0   \n",
       "split1_train_score                                1.0   \n",
       "split2_train_score                           0.999225   \n",
       "split3_train_score                           0.999225   \n",
       "split4_train_score                           0.999225   \n",
       "mean_train_score                             0.999535   \n",
       "std_train_score                               0.00038   \n",
       "\n",
       "                                                    35  \n",
       "mean_fit_time                                  0.18209  \n",
       "std_fit_time                                  0.002767  \n",
       "mean_score_time                               0.075064  \n",
       "std_score_time                                0.002605  \n",
       "param_svc__C                                       100  \n",
       "param_svc__gamma                                   100  \n",
       "params              {'svc__C': 100, 'svc__gamma': 100}  \n",
       "split0_test_score                             0.504644  \n",
       "split1_test_score                             0.510836  \n",
       "split2_test_score                              0.50774  \n",
       "split3_test_score                             0.509317  \n",
       "split4_test_score                             0.509317  \n",
       "mean_test_score                               0.508371  \n",
       "std_test_score                                0.002105  \n",
       "rank_test_score                                     18  \n",
       "split0_train_score                                 1.0  \n",
       "split1_train_score                                 1.0  \n",
       "split2_train_score                            0.999225  \n",
       "split3_train_score                            0.999225  \n",
       "split4_train_score                            0.999225  \n",
       "mean_train_score                              0.999535  \n",
       "std_train_score                                0.00038  \n",
       "\n",
       "[22 rows x 36 columns]"
      ]
     },
     "execution_count": 25,
     "metadata": {},
     "output_type": "execute_result"
    }
   ],
   "source": [
    "results = pd.DataFrame(grid_search.cv_results_)\n",
    "results.T"
   ]
  },
  {
   "cell_type": "code",
   "execution_count": 27,
   "metadata": {
    "slideshow": {
     "slide_type": "slide"
    }
   },
   "outputs": [
    {
     "data": {
      "text/html": [
       "<div>\n",
       "<style scoped>\n",
       "    .dataframe tbody tr th:only-of-type {\n",
       "        vertical-align: middle;\n",
       "    }\n",
       "\n",
       "    .dataframe tbody tr th {\n",
       "        vertical-align: top;\n",
       "    }\n",
       "\n",
       "    .dataframe thead th {\n",
       "        text-align: right;\n",
       "    }\n",
       "</style>\n",
       "<table border=\"1\" class=\"dataframe\">\n",
       "  <thead>\n",
       "    <tr style=\"text-align: right;\">\n",
       "      <th>rank_test_score</th>\n",
       "      <th>1</th>\n",
       "      <th>2</th>\n",
       "      <th>3</th>\n",
       "      <th>4</th>\n",
       "      <th>5</th>\n",
       "      <th>6</th>\n",
       "      <th>7</th>\n",
       "      <th>8</th>\n",
       "      <th>9</th>\n",
       "      <th>10</th>\n",
       "      <th>...</th>\n",
       "      <th>21</th>\n",
       "      <th>21</th>\n",
       "      <th>21</th>\n",
       "      <th>21</th>\n",
       "      <th>21</th>\n",
       "      <th>21</th>\n",
       "      <th>21</th>\n",
       "      <th>21</th>\n",
       "      <th>21</th>\n",
       "      <th>21</th>\n",
       "    </tr>\n",
       "  </thead>\n",
       "  <tbody>\n",
       "    <tr>\n",
       "      <th>mean_fit_time</th>\n",
       "      <td>0.094825</td>\n",
       "      <td>0.133456</td>\n",
       "      <td>0.121393</td>\n",
       "      <td>0.095622</td>\n",
       "      <td>0.211346</td>\n",
       "      <td>0.108216</td>\n",
       "      <td>0.10074</td>\n",
       "      <td>0.098532</td>\n",
       "      <td>0.104317</td>\n",
       "      <td>0.096421</td>\n",
       "      <td>...</td>\n",
       "      <td>0.113441</td>\n",
       "      <td>0.102102</td>\n",
       "      <td>0.109824</td>\n",
       "      <td>0.172547</td>\n",
       "      <td>0.121088</td>\n",
       "      <td>0.109671</td>\n",
       "      <td>0.10329</td>\n",
       "      <td>0.112161</td>\n",
       "      <td>0.12385</td>\n",
       "      <td>0.178051</td>\n",
       "    </tr>\n",
       "    <tr>\n",
       "      <th>std_fit_time</th>\n",
       "      <td>0.000952</td>\n",
       "      <td>0.007333</td>\n",
       "      <td>0.007621</td>\n",
       "      <td>0.003294</td>\n",
       "      <td>0.010669</td>\n",
       "      <td>0.005861</td>\n",
       "      <td>0.012871</td>\n",
       "      <td>0.007741</td>\n",
       "      <td>0.016059</td>\n",
       "      <td>0.007251</td>\n",
       "      <td>...</td>\n",
       "      <td>0.012196</td>\n",
       "      <td>0.008997</td>\n",
       "      <td>0.013847</td>\n",
       "      <td>0.002005</td>\n",
       "      <td>0.008875</td>\n",
       "      <td>0.008252</td>\n",
       "      <td>0.004473</td>\n",
       "      <td>0.007481</td>\n",
       "      <td>0.008927</td>\n",
       "      <td>0.011051</td>\n",
       "    </tr>\n",
       "    <tr>\n",
       "      <th>mean_score_time</th>\n",
       "      <td>0.044017</td>\n",
       "      <td>0.037013</td>\n",
       "      <td>0.042874</td>\n",
       "      <td>0.040667</td>\n",
       "      <td>0.031961</td>\n",
       "      <td>0.049164</td>\n",
       "      <td>0.058975</td>\n",
       "      <td>0.045757</td>\n",
       "      <td>0.058841</td>\n",
       "      <td>0.04886</td>\n",
       "      <td>...</td>\n",
       "      <td>0.058459</td>\n",
       "      <td>0.06399</td>\n",
       "      <td>0.063547</td>\n",
       "      <td>0.080792</td>\n",
       "      <td>0.066348</td>\n",
       "      <td>0.065043</td>\n",
       "      <td>0.064321</td>\n",
       "      <td>0.057619</td>\n",
       "      <td>0.060244</td>\n",
       "      <td>0.088658</td>\n",
       "    </tr>\n",
       "    <tr>\n",
       "      <th>std_score_time</th>\n",
       "      <td>0.003352</td>\n",
       "      <td>0.002145</td>\n",
       "      <td>0.007442</td>\n",
       "      <td>0.00347</td>\n",
       "      <td>0.001062</td>\n",
       "      <td>0.007112</td>\n",
       "      <td>0.008285</td>\n",
       "      <td>0.004905</td>\n",
       "      <td>0.007998</td>\n",
       "      <td>0.003678</td>\n",
       "      <td>...</td>\n",
       "      <td>0.003889</td>\n",
       "      <td>0.007179</td>\n",
       "      <td>0.006978</td>\n",
       "      <td>0.007045</td>\n",
       "      <td>0.013281</td>\n",
       "      <td>0.00851</td>\n",
       "      <td>0.003591</td>\n",
       "      <td>0.004317</td>\n",
       "      <td>0.005043</td>\n",
       "      <td>0.014676</td>\n",
       "    </tr>\n",
       "    <tr>\n",
       "      <th>param_svc__C</th>\n",
       "      <td>1.0</td>\n",
       "      <td>100</td>\n",
       "      <td>10</td>\n",
       "      <td>10</td>\n",
       "      <td>100</td>\n",
       "      <td>100</td>\n",
       "      <td>0.1</td>\n",
       "      <td>1.0</td>\n",
       "      <td>0.1</td>\n",
       "      <td>10</td>\n",
       "      <td>...</td>\n",
       "      <td>0.01</td>\n",
       "      <td>0.01</td>\n",
       "      <td>0.01</td>\n",
       "      <td>0.001</td>\n",
       "      <td>0.001</td>\n",
       "      <td>0.001</td>\n",
       "      <td>0.001</td>\n",
       "      <td>0.001</td>\n",
       "      <td>0.1</td>\n",
       "      <td>0.1</td>\n",
       "    </tr>\n",
       "    <tr>\n",
       "      <th>param_svc__gamma</th>\n",
       "      <td>0.1</td>\n",
       "      <td>0.01</td>\n",
       "      <td>0.1</td>\n",
       "      <td>0.01</td>\n",
       "      <td>0.1</td>\n",
       "      <td>0.001</td>\n",
       "      <td>0.1</td>\n",
       "      <td>0.01</td>\n",
       "      <td>0.01</td>\n",
       "      <td>0.001</td>\n",
       "      <td>...</td>\n",
       "      <td>0.1</td>\n",
       "      <td>0.01</td>\n",
       "      <td>0.001</td>\n",
       "      <td>100</td>\n",
       "      <td>10</td>\n",
       "      <td>1.0</td>\n",
       "      <td>0.1</td>\n",
       "      <td>0.01</td>\n",
       "      <td>10</td>\n",
       "      <td>100</td>\n",
       "    </tr>\n",
       "    <tr>\n",
       "      <th>params</th>\n",
       "      <td>{'svc__C': 1.0, 'svc__gamma': 0.1}</td>\n",
       "      <td>{'svc__C': 100, 'svc__gamma': 0.01}</td>\n",
       "      <td>{'svc__C': 10, 'svc__gamma': 0.1}</td>\n",
       "      <td>{'svc__C': 10, 'svc__gamma': 0.01}</td>\n",
       "      <td>{'svc__C': 100, 'svc__gamma': 0.1}</td>\n",
       "      <td>{'svc__C': 100, 'svc__gamma': 0.001}</td>\n",
       "      <td>{'svc__C': 0.1, 'svc__gamma': 0.1}</td>\n",
       "      <td>{'svc__C': 1.0, 'svc__gamma': 0.01}</td>\n",
       "      <td>{'svc__C': 0.1, 'svc__gamma': 0.01}</td>\n",
       "      <td>{'svc__C': 10, 'svc__gamma': 0.001}</td>\n",
       "      <td>...</td>\n",
       "      <td>{'svc__C': 0.01, 'svc__gamma': 0.1}</td>\n",
       "      <td>{'svc__C': 0.01, 'svc__gamma': 0.01}</td>\n",
       "      <td>{'svc__C': 0.01, 'svc__gamma': 0.001}</td>\n",
       "      <td>{'svc__C': 0.001, 'svc__gamma': 100}</td>\n",
       "      <td>{'svc__C': 0.001, 'svc__gamma': 10}</td>\n",
       "      <td>{'svc__C': 0.001, 'svc__gamma': 1.0}</td>\n",
       "      <td>{'svc__C': 0.001, 'svc__gamma': 0.1}</td>\n",
       "      <td>{'svc__C': 0.001, 'svc__gamma': 0.01}</td>\n",
       "      <td>{'svc__C': 0.1, 'svc__gamma': 10}</td>\n",
       "      <td>{'svc__C': 0.1, 'svc__gamma': 100}</td>\n",
       "    </tr>\n",
       "    <tr>\n",
       "      <th>split0_test_score</th>\n",
       "      <td>0.755418</td>\n",
       "      <td>0.73065</td>\n",
       "      <td>0.702786</td>\n",
       "      <td>0.739938</td>\n",
       "      <td>0.705882</td>\n",
       "      <td>0.73065</td>\n",
       "      <td>0.705882</td>\n",
       "      <td>0.702786</td>\n",
       "      <td>0.693498</td>\n",
       "      <td>0.69969</td>\n",
       "      <td>...</td>\n",
       "      <td>0.50774</td>\n",
       "      <td>0.50774</td>\n",
       "      <td>0.50774</td>\n",
       "      <td>0.50774</td>\n",
       "      <td>0.50774</td>\n",
       "      <td>0.50774</td>\n",
       "      <td>0.50774</td>\n",
       "      <td>0.50774</td>\n",
       "      <td>0.50774</td>\n",
       "      <td>0.50774</td>\n",
       "    </tr>\n",
       "    <tr>\n",
       "      <th>split1_test_score</th>\n",
       "      <td>0.755418</td>\n",
       "      <td>0.758514</td>\n",
       "      <td>0.767802</td>\n",
       "      <td>0.733746</td>\n",
       "      <td>0.76161</td>\n",
       "      <td>0.708978</td>\n",
       "      <td>0.718266</td>\n",
       "      <td>0.705882</td>\n",
       "      <td>0.702786</td>\n",
       "      <td>0.674923</td>\n",
       "      <td>...</td>\n",
       "      <td>0.50774</td>\n",
       "      <td>0.50774</td>\n",
       "      <td>0.50774</td>\n",
       "      <td>0.50774</td>\n",
       "      <td>0.50774</td>\n",
       "      <td>0.50774</td>\n",
       "      <td>0.50774</td>\n",
       "      <td>0.50774</td>\n",
       "      <td>0.50774</td>\n",
       "      <td>0.50774</td>\n",
       "    </tr>\n",
       "    <tr>\n",
       "      <th>split2_test_score</th>\n",
       "      <td>0.712074</td>\n",
       "      <td>0.71517</td>\n",
       "      <td>0.693498</td>\n",
       "      <td>0.696594</td>\n",
       "      <td>0.671827</td>\n",
       "      <td>0.662539</td>\n",
       "      <td>0.690402</td>\n",
       "      <td>0.659443</td>\n",
       "      <td>0.653251</td>\n",
       "      <td>0.653251</td>\n",
       "      <td>...</td>\n",
       "      <td>0.50774</td>\n",
       "      <td>0.50774</td>\n",
       "      <td>0.50774</td>\n",
       "      <td>0.50774</td>\n",
       "      <td>0.50774</td>\n",
       "      <td>0.50774</td>\n",
       "      <td>0.50774</td>\n",
       "      <td>0.50774</td>\n",
       "      <td>0.50774</td>\n",
       "      <td>0.50774</td>\n",
       "    </tr>\n",
       "    <tr>\n",
       "      <th>split3_test_score</th>\n",
       "      <td>0.754658</td>\n",
       "      <td>0.720497</td>\n",
       "      <td>0.736025</td>\n",
       "      <td>0.720497</td>\n",
       "      <td>0.708075</td>\n",
       "      <td>0.723602</td>\n",
       "      <td>0.692547</td>\n",
       "      <td>0.726708</td>\n",
       "      <td>0.664596</td>\n",
       "      <td>0.680124</td>\n",
       "      <td>...</td>\n",
       "      <td>0.506211</td>\n",
       "      <td>0.506211</td>\n",
       "      <td>0.506211</td>\n",
       "      <td>0.506211</td>\n",
       "      <td>0.506211</td>\n",
       "      <td>0.506211</td>\n",
       "      <td>0.506211</td>\n",
       "      <td>0.506211</td>\n",
       "      <td>0.506211</td>\n",
       "      <td>0.506211</td>\n",
       "    </tr>\n",
       "    <tr>\n",
       "      <th>split4_test_score</th>\n",
       "      <td>0.742236</td>\n",
       "      <td>0.73913</td>\n",
       "      <td>0.745342</td>\n",
       "      <td>0.71118</td>\n",
       "      <td>0.71118</td>\n",
       "      <td>0.695652</td>\n",
       "      <td>0.708075</td>\n",
       "      <td>0.692547</td>\n",
       "      <td>0.680124</td>\n",
       "      <td>0.68323</td>\n",
       "      <td>...</td>\n",
       "      <td>0.509317</td>\n",
       "      <td>0.509317</td>\n",
       "      <td>0.509317</td>\n",
       "      <td>0.509317</td>\n",
       "      <td>0.509317</td>\n",
       "      <td>0.509317</td>\n",
       "      <td>0.509317</td>\n",
       "      <td>0.509317</td>\n",
       "      <td>0.509317</td>\n",
       "      <td>0.509317</td>\n",
       "    </tr>\n",
       "    <tr>\n",
       "      <th>mean_test_score</th>\n",
       "      <td>0.743961</td>\n",
       "      <td>0.732792</td>\n",
       "      <td>0.729091</td>\n",
       "      <td>0.720391</td>\n",
       "      <td>0.711715</td>\n",
       "      <td>0.704284</td>\n",
       "      <td>0.703034</td>\n",
       "      <td>0.697473</td>\n",
       "      <td>0.678851</td>\n",
       "      <td>0.678244</td>\n",
       "      <td>...</td>\n",
       "      <td>0.50775</td>\n",
       "      <td>0.50775</td>\n",
       "      <td>0.50775</td>\n",
       "      <td>0.50775</td>\n",
       "      <td>0.50775</td>\n",
       "      <td>0.50775</td>\n",
       "      <td>0.50775</td>\n",
       "      <td>0.50775</td>\n",
       "      <td>0.50775</td>\n",
       "      <td>0.50775</td>\n",
       "    </tr>\n",
       "    <tr>\n",
       "      <th>std_test_score</th>\n",
       "      <td>0.016713</td>\n",
       "      <td>0.015284</td>\n",
       "      <td>0.027457</td>\n",
       "      <td>0.015566</td>\n",
       "      <td>0.028734</td>\n",
       "      <td>0.024115</td>\n",
       "      <td>0.010345</td>\n",
       "      <td>0.022019</td>\n",
       "      <td>0.018153</td>\n",
       "      <td>0.014994</td>\n",
       "      <td>...</td>\n",
       "      <td>0.000982</td>\n",
       "      <td>0.000982</td>\n",
       "      <td>0.000982</td>\n",
       "      <td>0.000982</td>\n",
       "      <td>0.000982</td>\n",
       "      <td>0.000982</td>\n",
       "      <td>0.000982</td>\n",
       "      <td>0.000982</td>\n",
       "      <td>0.000982</td>\n",
       "      <td>0.000982</td>\n",
       "    </tr>\n",
       "    <tr>\n",
       "      <th>split0_train_score</th>\n",
       "      <td>0.827132</td>\n",
       "      <td>0.80155</td>\n",
       "      <td>0.923256</td>\n",
       "      <td>0.751938</td>\n",
       "      <td>0.990698</td>\n",
       "      <td>0.703876</td>\n",
       "      <td>0.730233</td>\n",
       "      <td>0.708527</td>\n",
       "      <td>0.675194</td>\n",
       "      <td>0.67907</td>\n",
       "      <td>...</td>\n",
       "      <td>0.507752</td>\n",
       "      <td>0.507752</td>\n",
       "      <td>0.507752</td>\n",
       "      <td>0.507752</td>\n",
       "      <td>0.507752</td>\n",
       "      <td>0.507752</td>\n",
       "      <td>0.507752</td>\n",
       "      <td>0.507752</td>\n",
       "      <td>0.507752</td>\n",
       "      <td>0.507752</td>\n",
       "    </tr>\n",
       "    <tr>\n",
       "      <th>split1_train_score</th>\n",
       "      <td>0.829457</td>\n",
       "      <td>0.796899</td>\n",
       "      <td>0.91938</td>\n",
       "      <td>0.757364</td>\n",
       "      <td>0.987597</td>\n",
       "      <td>0.712403</td>\n",
       "      <td>0.724806</td>\n",
       "      <td>0.700775</td>\n",
       "      <td>0.676744</td>\n",
       "      <td>0.682946</td>\n",
       "      <td>...</td>\n",
       "      <td>0.507752</td>\n",
       "      <td>0.507752</td>\n",
       "      <td>0.507752</td>\n",
       "      <td>0.507752</td>\n",
       "      <td>0.507752</td>\n",
       "      <td>0.507752</td>\n",
       "      <td>0.507752</td>\n",
       "      <td>0.507752</td>\n",
       "      <td>0.507752</td>\n",
       "      <td>0.507752</td>\n",
       "    </tr>\n",
       "    <tr>\n",
       "      <th>split2_train_score</th>\n",
       "      <td>0.83876</td>\n",
       "      <td>0.813953</td>\n",
       "      <td>0.925581</td>\n",
       "      <td>0.760465</td>\n",
       "      <td>0.989147</td>\n",
       "      <td>0.726357</td>\n",
       "      <td>0.737984</td>\n",
       "      <td>0.723256</td>\n",
       "      <td>0.683721</td>\n",
       "      <td>0.694574</td>\n",
       "      <td>...</td>\n",
       "      <td>0.507752</td>\n",
       "      <td>0.507752</td>\n",
       "      <td>0.507752</td>\n",
       "      <td>0.507752</td>\n",
       "      <td>0.507752</td>\n",
       "      <td>0.507752</td>\n",
       "      <td>0.507752</td>\n",
       "      <td>0.507752</td>\n",
       "      <td>0.507752</td>\n",
       "      <td>0.507752</td>\n",
       "    </tr>\n",
       "    <tr>\n",
       "      <th>split3_train_score</th>\n",
       "      <td>0.831913</td>\n",
       "      <td>0.797831</td>\n",
       "      <td>0.923315</td>\n",
       "      <td>0.759876</td>\n",
       "      <td>0.984508</td>\n",
       "      <td>0.710302</td>\n",
       "      <td>0.729667</td>\n",
       "      <td>0.701007</td>\n",
       "      <td>0.681642</td>\n",
       "      <td>0.688613</td>\n",
       "      <td>...</td>\n",
       "      <td>0.508133</td>\n",
       "      <td>0.508133</td>\n",
       "      <td>0.508133</td>\n",
       "      <td>0.508133</td>\n",
       "      <td>0.508133</td>\n",
       "      <td>0.508133</td>\n",
       "      <td>0.508133</td>\n",
       "      <td>0.508133</td>\n",
       "      <td>0.508133</td>\n",
       "      <td>0.508133</td>\n",
       "    </tr>\n",
       "    <tr>\n",
       "      <th>split4_train_score</th>\n",
       "      <td>0.832688</td>\n",
       "      <td>0.793958</td>\n",
       "      <td>0.915569</td>\n",
       "      <td>0.75213</td>\n",
       "      <td>0.986057</td>\n",
       "      <td>0.71495</td>\n",
       "      <td>0.725019</td>\n",
       "      <td>0.718048</td>\n",
       "      <td>0.680868</td>\n",
       "      <td>0.687064</td>\n",
       "      <td>...</td>\n",
       "      <td>0.507359</td>\n",
       "      <td>0.507359</td>\n",
       "      <td>0.507359</td>\n",
       "      <td>0.507359</td>\n",
       "      <td>0.507359</td>\n",
       "      <td>0.507359</td>\n",
       "      <td>0.507359</td>\n",
       "      <td>0.507359</td>\n",
       "      <td>0.507359</td>\n",
       "      <td>0.507359</td>\n",
       "    </tr>\n",
       "    <tr>\n",
       "      <th>mean_train_score</th>\n",
       "      <td>0.83199</td>\n",
       "      <td>0.800838</td>\n",
       "      <td>0.92142</td>\n",
       "      <td>0.756355</td>\n",
       "      <td>0.987601</td>\n",
       "      <td>0.713577</td>\n",
       "      <td>0.729542</td>\n",
       "      <td>0.710323</td>\n",
       "      <td>0.679634</td>\n",
       "      <td>0.686453</td>\n",
       "      <td>...</td>\n",
       "      <td>0.50775</td>\n",
       "      <td>0.50775</td>\n",
       "      <td>0.50775</td>\n",
       "      <td>0.50775</td>\n",
       "      <td>0.50775</td>\n",
       "      <td>0.50775</td>\n",
       "      <td>0.50775</td>\n",
       "      <td>0.50775</td>\n",
       "      <td>0.50775</td>\n",
       "      <td>0.50775</td>\n",
       "    </tr>\n",
       "    <tr>\n",
       "      <th>std_train_score</th>\n",
       "      <td>0.003907</td>\n",
       "      <td>0.006992</td>\n",
       "      <td>0.00354</td>\n",
       "      <td>0.003679</td>\n",
       "      <td>0.002188</td>\n",
       "      <td>0.007368</td>\n",
       "      <td>0.004789</td>\n",
       "      <td>0.009034</td>\n",
       "      <td>0.003172</td>\n",
       "      <td>0.00525</td>\n",
       "      <td>...</td>\n",
       "      <td>0.000245</td>\n",
       "      <td>0.000245</td>\n",
       "      <td>0.000245</td>\n",
       "      <td>0.000245</td>\n",
       "      <td>0.000245</td>\n",
       "      <td>0.000245</td>\n",
       "      <td>0.000245</td>\n",
       "      <td>0.000245</td>\n",
       "      <td>0.000245</td>\n",
       "      <td>0.000245</td>\n",
       "    </tr>\n",
       "  </tbody>\n",
       "</table>\n",
       "<p>21 rows × 36 columns</p>\n",
       "</div>"
      ],
      "text/plain": [
       "rank_test_score                                     1   \\\n",
       "mean_fit_time                                 0.094825   \n",
       "std_fit_time                                  0.000952   \n",
       "mean_score_time                               0.044017   \n",
       "std_score_time                                0.003352   \n",
       "param_svc__C                                       1.0   \n",
       "param_svc__gamma                                   0.1   \n",
       "params              {'svc__C': 1.0, 'svc__gamma': 0.1}   \n",
       "split0_test_score                             0.755418   \n",
       "split1_test_score                             0.755418   \n",
       "split2_test_score                             0.712074   \n",
       "split3_test_score                             0.754658   \n",
       "split4_test_score                             0.742236   \n",
       "mean_test_score                               0.743961   \n",
       "std_test_score                                0.016713   \n",
       "split0_train_score                            0.827132   \n",
       "split1_train_score                            0.829457   \n",
       "split2_train_score                             0.83876   \n",
       "split3_train_score                            0.831913   \n",
       "split4_train_score                            0.832688   \n",
       "mean_train_score                               0.83199   \n",
       "std_train_score                               0.003907   \n",
       "\n",
       "rank_test_score                                      2   \\\n",
       "mean_fit_time                                  0.133456   \n",
       "std_fit_time                                   0.007333   \n",
       "mean_score_time                                0.037013   \n",
       "std_score_time                                 0.002145   \n",
       "param_svc__C                                        100   \n",
       "param_svc__gamma                                   0.01   \n",
       "params              {'svc__C': 100, 'svc__gamma': 0.01}   \n",
       "split0_test_score                               0.73065   \n",
       "split1_test_score                              0.758514   \n",
       "split2_test_score                               0.71517   \n",
       "split3_test_score                              0.720497   \n",
       "split4_test_score                               0.73913   \n",
       "mean_test_score                                0.732792   \n",
       "std_test_score                                 0.015284   \n",
       "split0_train_score                              0.80155   \n",
       "split1_train_score                             0.796899   \n",
       "split2_train_score                             0.813953   \n",
       "split3_train_score                             0.797831   \n",
       "split4_train_score                             0.793958   \n",
       "mean_train_score                               0.800838   \n",
       "std_train_score                                0.006992   \n",
       "\n",
       "rank_test_score                                    3   \\\n",
       "mean_fit_time                                0.121393   \n",
       "std_fit_time                                 0.007621   \n",
       "mean_score_time                              0.042874   \n",
       "std_score_time                               0.007442   \n",
       "param_svc__C                                       10   \n",
       "param_svc__gamma                                  0.1   \n",
       "params              {'svc__C': 10, 'svc__gamma': 0.1}   \n",
       "split0_test_score                            0.702786   \n",
       "split1_test_score                            0.767802   \n",
       "split2_test_score                            0.693498   \n",
       "split3_test_score                            0.736025   \n",
       "split4_test_score                            0.745342   \n",
       "mean_test_score                              0.729091   \n",
       "std_test_score                               0.027457   \n",
       "split0_train_score                           0.923256   \n",
       "split1_train_score                            0.91938   \n",
       "split2_train_score                           0.925581   \n",
       "split3_train_score                           0.923315   \n",
       "split4_train_score                           0.915569   \n",
       "mean_train_score                              0.92142   \n",
       "std_train_score                               0.00354   \n",
       "\n",
       "rank_test_score                                     4   \\\n",
       "mean_fit_time                                 0.095622   \n",
       "std_fit_time                                  0.003294   \n",
       "mean_score_time                               0.040667   \n",
       "std_score_time                                 0.00347   \n",
       "param_svc__C                                        10   \n",
       "param_svc__gamma                                  0.01   \n",
       "params              {'svc__C': 10, 'svc__gamma': 0.01}   \n",
       "split0_test_score                             0.739938   \n",
       "split1_test_score                             0.733746   \n",
       "split2_test_score                             0.696594   \n",
       "split3_test_score                             0.720497   \n",
       "split4_test_score                              0.71118   \n",
       "mean_test_score                               0.720391   \n",
       "std_test_score                                0.015566   \n",
       "split0_train_score                            0.751938   \n",
       "split1_train_score                            0.757364   \n",
       "split2_train_score                            0.760465   \n",
       "split3_train_score                            0.759876   \n",
       "split4_train_score                             0.75213   \n",
       "mean_train_score                              0.756355   \n",
       "std_train_score                               0.003679   \n",
       "\n",
       "rank_test_score                                     5   \\\n",
       "mean_fit_time                                 0.211346   \n",
       "std_fit_time                                  0.010669   \n",
       "mean_score_time                               0.031961   \n",
       "std_score_time                                0.001062   \n",
       "param_svc__C                                       100   \n",
       "param_svc__gamma                                   0.1   \n",
       "params              {'svc__C': 100, 'svc__gamma': 0.1}   \n",
       "split0_test_score                             0.705882   \n",
       "split1_test_score                              0.76161   \n",
       "split2_test_score                             0.671827   \n",
       "split3_test_score                             0.708075   \n",
       "split4_test_score                              0.71118   \n",
       "mean_test_score                               0.711715   \n",
       "std_test_score                                0.028734   \n",
       "split0_train_score                            0.990698   \n",
       "split1_train_score                            0.987597   \n",
       "split2_train_score                            0.989147   \n",
       "split3_train_score                            0.984508   \n",
       "split4_train_score                            0.986057   \n",
       "mean_train_score                              0.987601   \n",
       "std_train_score                               0.002188   \n",
       "\n",
       "rank_test_score                                       6   \\\n",
       "mean_fit_time                                   0.108216   \n",
       "std_fit_time                                    0.005861   \n",
       "mean_score_time                                 0.049164   \n",
       "std_score_time                                  0.007112   \n",
       "param_svc__C                                         100   \n",
       "param_svc__gamma                                   0.001   \n",
       "params              {'svc__C': 100, 'svc__gamma': 0.001}   \n",
       "split0_test_score                                0.73065   \n",
       "split1_test_score                               0.708978   \n",
       "split2_test_score                               0.662539   \n",
       "split3_test_score                               0.723602   \n",
       "split4_test_score                               0.695652   \n",
       "mean_test_score                                 0.704284   \n",
       "std_test_score                                  0.024115   \n",
       "split0_train_score                              0.703876   \n",
       "split1_train_score                              0.712403   \n",
       "split2_train_score                              0.726357   \n",
       "split3_train_score                              0.710302   \n",
       "split4_train_score                               0.71495   \n",
       "mean_train_score                                0.713577   \n",
       "std_train_score                                 0.007368   \n",
       "\n",
       "rank_test_score                                     7   \\\n",
       "mean_fit_time                                  0.10074   \n",
       "std_fit_time                                  0.012871   \n",
       "mean_score_time                               0.058975   \n",
       "std_score_time                                0.008285   \n",
       "param_svc__C                                       0.1   \n",
       "param_svc__gamma                                   0.1   \n",
       "params              {'svc__C': 0.1, 'svc__gamma': 0.1}   \n",
       "split0_test_score                             0.705882   \n",
       "split1_test_score                             0.718266   \n",
       "split2_test_score                             0.690402   \n",
       "split3_test_score                             0.692547   \n",
       "split4_test_score                             0.708075   \n",
       "mean_test_score                               0.703034   \n",
       "std_test_score                                0.010345   \n",
       "split0_train_score                            0.730233   \n",
       "split1_train_score                            0.724806   \n",
       "split2_train_score                            0.737984   \n",
       "split3_train_score                            0.729667   \n",
       "split4_train_score                            0.725019   \n",
       "mean_train_score                              0.729542   \n",
       "std_train_score                               0.004789   \n",
       "\n",
       "rank_test_score                                      8   \\\n",
       "mean_fit_time                                  0.098532   \n",
       "std_fit_time                                   0.007741   \n",
       "mean_score_time                                0.045757   \n",
       "std_score_time                                 0.004905   \n",
       "param_svc__C                                        1.0   \n",
       "param_svc__gamma                                   0.01   \n",
       "params              {'svc__C': 1.0, 'svc__gamma': 0.01}   \n",
       "split0_test_score                              0.702786   \n",
       "split1_test_score                              0.705882   \n",
       "split2_test_score                              0.659443   \n",
       "split3_test_score                              0.726708   \n",
       "split4_test_score                              0.692547   \n",
       "mean_test_score                                0.697473   \n",
       "std_test_score                                 0.022019   \n",
       "split0_train_score                             0.708527   \n",
       "split1_train_score                             0.700775   \n",
       "split2_train_score                             0.723256   \n",
       "split3_train_score                             0.701007   \n",
       "split4_train_score                             0.718048   \n",
       "mean_train_score                               0.710323   \n",
       "std_train_score                                0.009034   \n",
       "\n",
       "rank_test_score                                      9   \\\n",
       "mean_fit_time                                  0.104317   \n",
       "std_fit_time                                   0.016059   \n",
       "mean_score_time                                0.058841   \n",
       "std_score_time                                 0.007998   \n",
       "param_svc__C                                        0.1   \n",
       "param_svc__gamma                                   0.01   \n",
       "params              {'svc__C': 0.1, 'svc__gamma': 0.01}   \n",
       "split0_test_score                              0.693498   \n",
       "split1_test_score                              0.702786   \n",
       "split2_test_score                              0.653251   \n",
       "split3_test_score                              0.664596   \n",
       "split4_test_score                              0.680124   \n",
       "mean_test_score                                0.678851   \n",
       "std_test_score                                 0.018153   \n",
       "split0_train_score                             0.675194   \n",
       "split1_train_score                             0.676744   \n",
       "split2_train_score                             0.683721   \n",
       "split3_train_score                             0.681642   \n",
       "split4_train_score                             0.680868   \n",
       "mean_train_score                               0.679634   \n",
       "std_train_score                                0.003172   \n",
       "\n",
       "rank_test_score                                      10  ...  \\\n",
       "mean_fit_time                                  0.096421  ...   \n",
       "std_fit_time                                   0.007251  ...   \n",
       "mean_score_time                                 0.04886  ...   \n",
       "std_score_time                                 0.003678  ...   \n",
       "param_svc__C                                         10  ...   \n",
       "param_svc__gamma                                  0.001  ...   \n",
       "params              {'svc__C': 10, 'svc__gamma': 0.001}  ...   \n",
       "split0_test_score                               0.69969  ...   \n",
       "split1_test_score                              0.674923  ...   \n",
       "split2_test_score                              0.653251  ...   \n",
       "split3_test_score                              0.680124  ...   \n",
       "split4_test_score                               0.68323  ...   \n",
       "mean_test_score                                0.678244  ...   \n",
       "std_test_score                                 0.014994  ...   \n",
       "split0_train_score                              0.67907  ...   \n",
       "split1_train_score                             0.682946  ...   \n",
       "split2_train_score                             0.694574  ...   \n",
       "split3_train_score                             0.688613  ...   \n",
       "split4_train_score                             0.687064  ...   \n",
       "mean_train_score                               0.686453  ...   \n",
       "std_train_score                                 0.00525  ...   \n",
       "\n",
       "rank_test_score                                      21  \\\n",
       "mean_fit_time                                  0.113441   \n",
       "std_fit_time                                   0.012196   \n",
       "mean_score_time                                0.058459   \n",
       "std_score_time                                 0.003889   \n",
       "param_svc__C                                       0.01   \n",
       "param_svc__gamma                                    0.1   \n",
       "params              {'svc__C': 0.01, 'svc__gamma': 0.1}   \n",
       "split0_test_score                               0.50774   \n",
       "split1_test_score                               0.50774   \n",
       "split2_test_score                               0.50774   \n",
       "split3_test_score                              0.506211   \n",
       "split4_test_score                              0.509317   \n",
       "mean_test_score                                 0.50775   \n",
       "std_test_score                                 0.000982   \n",
       "split0_train_score                             0.507752   \n",
       "split1_train_score                             0.507752   \n",
       "split2_train_score                             0.507752   \n",
       "split3_train_score                             0.508133   \n",
       "split4_train_score                             0.507359   \n",
       "mean_train_score                                0.50775   \n",
       "std_train_score                                0.000245   \n",
       "\n",
       "rank_test_score                                       21  \\\n",
       "mean_fit_time                                   0.102102   \n",
       "std_fit_time                                    0.008997   \n",
       "mean_score_time                                  0.06399   \n",
       "std_score_time                                  0.007179   \n",
       "param_svc__C                                        0.01   \n",
       "param_svc__gamma                                    0.01   \n",
       "params              {'svc__C': 0.01, 'svc__gamma': 0.01}   \n",
       "split0_test_score                                0.50774   \n",
       "split1_test_score                                0.50774   \n",
       "split2_test_score                                0.50774   \n",
       "split3_test_score                               0.506211   \n",
       "split4_test_score                               0.509317   \n",
       "mean_test_score                                  0.50775   \n",
       "std_test_score                                  0.000982   \n",
       "split0_train_score                              0.507752   \n",
       "split1_train_score                              0.507752   \n",
       "split2_train_score                              0.507752   \n",
       "split3_train_score                              0.508133   \n",
       "split4_train_score                              0.507359   \n",
       "mean_train_score                                 0.50775   \n",
       "std_train_score                                 0.000245   \n",
       "\n",
       "rank_test_score                                        21  \\\n",
       "mean_fit_time                                    0.109824   \n",
       "std_fit_time                                     0.013847   \n",
       "mean_score_time                                  0.063547   \n",
       "std_score_time                                   0.006978   \n",
       "param_svc__C                                         0.01   \n",
       "param_svc__gamma                                    0.001   \n",
       "params              {'svc__C': 0.01, 'svc__gamma': 0.001}   \n",
       "split0_test_score                                 0.50774   \n",
       "split1_test_score                                 0.50774   \n",
       "split2_test_score                                 0.50774   \n",
       "split3_test_score                                0.506211   \n",
       "split4_test_score                                0.509317   \n",
       "mean_test_score                                   0.50775   \n",
       "std_test_score                                   0.000982   \n",
       "split0_train_score                               0.507752   \n",
       "split1_train_score                               0.507752   \n",
       "split2_train_score                               0.507752   \n",
       "split3_train_score                               0.508133   \n",
       "split4_train_score                               0.507359   \n",
       "mean_train_score                                  0.50775   \n",
       "std_train_score                                  0.000245   \n",
       "\n",
       "rank_test_score                                       21  \\\n",
       "mean_fit_time                                   0.172547   \n",
       "std_fit_time                                    0.002005   \n",
       "mean_score_time                                 0.080792   \n",
       "std_score_time                                  0.007045   \n",
       "param_svc__C                                       0.001   \n",
       "param_svc__gamma                                     100   \n",
       "params              {'svc__C': 0.001, 'svc__gamma': 100}   \n",
       "split0_test_score                                0.50774   \n",
       "split1_test_score                                0.50774   \n",
       "split2_test_score                                0.50774   \n",
       "split3_test_score                               0.506211   \n",
       "split4_test_score                               0.509317   \n",
       "mean_test_score                                  0.50775   \n",
       "std_test_score                                  0.000982   \n",
       "split0_train_score                              0.507752   \n",
       "split1_train_score                              0.507752   \n",
       "split2_train_score                              0.507752   \n",
       "split3_train_score                              0.508133   \n",
       "split4_train_score                              0.507359   \n",
       "mean_train_score                                 0.50775   \n",
       "std_train_score                                 0.000245   \n",
       "\n",
       "rank_test_score                                      21  \\\n",
       "mean_fit_time                                  0.121088   \n",
       "std_fit_time                                   0.008875   \n",
       "mean_score_time                                0.066348   \n",
       "std_score_time                                 0.013281   \n",
       "param_svc__C                                      0.001   \n",
       "param_svc__gamma                                     10   \n",
       "params              {'svc__C': 0.001, 'svc__gamma': 10}   \n",
       "split0_test_score                               0.50774   \n",
       "split1_test_score                               0.50774   \n",
       "split2_test_score                               0.50774   \n",
       "split3_test_score                              0.506211   \n",
       "split4_test_score                              0.509317   \n",
       "mean_test_score                                 0.50775   \n",
       "std_test_score                                 0.000982   \n",
       "split0_train_score                             0.507752   \n",
       "split1_train_score                             0.507752   \n",
       "split2_train_score                             0.507752   \n",
       "split3_train_score                             0.508133   \n",
       "split4_train_score                             0.507359   \n",
       "mean_train_score                                0.50775   \n",
       "std_train_score                                0.000245   \n",
       "\n",
       "rank_test_score                                       21  \\\n",
       "mean_fit_time                                   0.109671   \n",
       "std_fit_time                                    0.008252   \n",
       "mean_score_time                                 0.065043   \n",
       "std_score_time                                   0.00851   \n",
       "param_svc__C                                       0.001   \n",
       "param_svc__gamma                                     1.0   \n",
       "params              {'svc__C': 0.001, 'svc__gamma': 1.0}   \n",
       "split0_test_score                                0.50774   \n",
       "split1_test_score                                0.50774   \n",
       "split2_test_score                                0.50774   \n",
       "split3_test_score                               0.506211   \n",
       "split4_test_score                               0.509317   \n",
       "mean_test_score                                  0.50775   \n",
       "std_test_score                                  0.000982   \n",
       "split0_train_score                              0.507752   \n",
       "split1_train_score                              0.507752   \n",
       "split2_train_score                              0.507752   \n",
       "split3_train_score                              0.508133   \n",
       "split4_train_score                              0.507359   \n",
       "mean_train_score                                 0.50775   \n",
       "std_train_score                                 0.000245   \n",
       "\n",
       "rank_test_score                                       21  \\\n",
       "mean_fit_time                                    0.10329   \n",
       "std_fit_time                                    0.004473   \n",
       "mean_score_time                                 0.064321   \n",
       "std_score_time                                  0.003591   \n",
       "param_svc__C                                       0.001   \n",
       "param_svc__gamma                                     0.1   \n",
       "params              {'svc__C': 0.001, 'svc__gamma': 0.1}   \n",
       "split0_test_score                                0.50774   \n",
       "split1_test_score                                0.50774   \n",
       "split2_test_score                                0.50774   \n",
       "split3_test_score                               0.506211   \n",
       "split4_test_score                               0.509317   \n",
       "mean_test_score                                  0.50775   \n",
       "std_test_score                                  0.000982   \n",
       "split0_train_score                              0.507752   \n",
       "split1_train_score                              0.507752   \n",
       "split2_train_score                              0.507752   \n",
       "split3_train_score                              0.508133   \n",
       "split4_train_score                              0.507359   \n",
       "mean_train_score                                 0.50775   \n",
       "std_train_score                                 0.000245   \n",
       "\n",
       "rank_test_score                                        21  \\\n",
       "mean_fit_time                                    0.112161   \n",
       "std_fit_time                                     0.007481   \n",
       "mean_score_time                                  0.057619   \n",
       "std_score_time                                   0.004317   \n",
       "param_svc__C                                        0.001   \n",
       "param_svc__gamma                                     0.01   \n",
       "params              {'svc__C': 0.001, 'svc__gamma': 0.01}   \n",
       "split0_test_score                                 0.50774   \n",
       "split1_test_score                                 0.50774   \n",
       "split2_test_score                                 0.50774   \n",
       "split3_test_score                                0.506211   \n",
       "split4_test_score                                0.509317   \n",
       "mean_test_score                                   0.50775   \n",
       "std_test_score                                   0.000982   \n",
       "split0_train_score                               0.507752   \n",
       "split1_train_score                               0.507752   \n",
       "split2_train_score                               0.507752   \n",
       "split3_train_score                               0.508133   \n",
       "split4_train_score                               0.507359   \n",
       "mean_train_score                                  0.50775   \n",
       "std_train_score                                  0.000245   \n",
       "\n",
       "rank_test_score                                    21  \\\n",
       "mean_fit_time                                 0.12385   \n",
       "std_fit_time                                 0.008927   \n",
       "mean_score_time                              0.060244   \n",
       "std_score_time                               0.005043   \n",
       "param_svc__C                                      0.1   \n",
       "param_svc__gamma                                   10   \n",
       "params              {'svc__C': 0.1, 'svc__gamma': 10}   \n",
       "split0_test_score                             0.50774   \n",
       "split1_test_score                             0.50774   \n",
       "split2_test_score                             0.50774   \n",
       "split3_test_score                            0.506211   \n",
       "split4_test_score                            0.509317   \n",
       "mean_test_score                               0.50775   \n",
       "std_test_score                               0.000982   \n",
       "split0_train_score                           0.507752   \n",
       "split1_train_score                           0.507752   \n",
       "split2_train_score                           0.507752   \n",
       "split3_train_score                           0.508133   \n",
       "split4_train_score                           0.507359   \n",
       "mean_train_score                              0.50775   \n",
       "std_train_score                              0.000245   \n",
       "\n",
       "rank_test_score                                     21  \n",
       "mean_fit_time                                 0.178051  \n",
       "std_fit_time                                  0.011051  \n",
       "mean_score_time                               0.088658  \n",
       "std_score_time                                0.014676  \n",
       "param_svc__C                                       0.1  \n",
       "param_svc__gamma                                   100  \n",
       "params              {'svc__C': 0.1, 'svc__gamma': 100}  \n",
       "split0_test_score                              0.50774  \n",
       "split1_test_score                              0.50774  \n",
       "split2_test_score                              0.50774  \n",
       "split3_test_score                             0.506211  \n",
       "split4_test_score                             0.509317  \n",
       "mean_test_score                                0.50775  \n",
       "std_test_score                                0.000982  \n",
       "split0_train_score                            0.507752  \n",
       "split1_train_score                            0.507752  \n",
       "split2_train_score                            0.507752  \n",
       "split3_train_score                            0.508133  \n",
       "split4_train_score                            0.507359  \n",
       "mean_train_score                               0.50775  \n",
       "std_train_score                               0.000245  \n",
       "\n",
       "[21 rows x 36 columns]"
      ]
     },
     "metadata": {},
     "output_type": "display_data"
    }
   ],
   "source": [
    "results = (\n",
    "    pd.DataFrame(grid_search.cv_results_).set_index(\"rank_test_score\").sort_index()\n",
    ")\n",
    "display(results.T)"
   ]
  },
  {
   "cell_type": "markdown",
   "metadata": {
    "slideshow": {
     "slide_type": "slide"
    }
   },
   "source": [
    "Let's only look at the most relevant rows. "
   ]
  },
  {
   "cell_type": "code",
   "execution_count": 28,
   "metadata": {},
   "outputs": [
    {
     "data": {
      "text/html": [
       "<div>\n",
       "<style scoped>\n",
       "    .dataframe tbody tr th:only-of-type {\n",
       "        vertical-align: middle;\n",
       "    }\n",
       "\n",
       "    .dataframe tbody tr th {\n",
       "        vertical-align: top;\n",
       "    }\n",
       "\n",
       "    .dataframe thead th {\n",
       "        text-align: right;\n",
       "    }\n",
       "</style>\n",
       "<table border=\"1\" class=\"dataframe\">\n",
       "  <thead>\n",
       "    <tr style=\"text-align: right;\">\n",
       "      <th>rank_test_score</th>\n",
       "      <th>1</th>\n",
       "      <th>2</th>\n",
       "      <th>3</th>\n",
       "      <th>4</th>\n",
       "      <th>5</th>\n",
       "      <th>6</th>\n",
       "      <th>7</th>\n",
       "      <th>8</th>\n",
       "      <th>9</th>\n",
       "      <th>10</th>\n",
       "      <th>...</th>\n",
       "      <th>21</th>\n",
       "      <th>21</th>\n",
       "      <th>21</th>\n",
       "      <th>21</th>\n",
       "      <th>21</th>\n",
       "      <th>21</th>\n",
       "      <th>21</th>\n",
       "      <th>21</th>\n",
       "      <th>21</th>\n",
       "      <th>21</th>\n",
       "    </tr>\n",
       "  </thead>\n",
       "  <tbody>\n",
       "    <tr>\n",
       "      <th>mean_test_score</th>\n",
       "      <td>0.743961</td>\n",
       "      <td>0.732792</td>\n",
       "      <td>0.729091</td>\n",
       "      <td>0.720391</td>\n",
       "      <td>0.711715</td>\n",
       "      <td>0.704284</td>\n",
       "      <td>0.703034</td>\n",
       "      <td>0.697473</td>\n",
       "      <td>0.678851</td>\n",
       "      <td>0.678244</td>\n",
       "      <td>...</td>\n",
       "      <td>0.50775</td>\n",
       "      <td>0.50775</td>\n",
       "      <td>0.50775</td>\n",
       "      <td>0.50775</td>\n",
       "      <td>0.50775</td>\n",
       "      <td>0.50775</td>\n",
       "      <td>0.50775</td>\n",
       "      <td>0.50775</td>\n",
       "      <td>0.50775</td>\n",
       "      <td>0.50775</td>\n",
       "    </tr>\n",
       "    <tr>\n",
       "      <th>param_svc__gamma</th>\n",
       "      <td>0.1</td>\n",
       "      <td>0.01</td>\n",
       "      <td>0.1</td>\n",
       "      <td>0.01</td>\n",
       "      <td>0.1</td>\n",
       "      <td>0.001</td>\n",
       "      <td>0.1</td>\n",
       "      <td>0.01</td>\n",
       "      <td>0.01</td>\n",
       "      <td>0.001</td>\n",
       "      <td>...</td>\n",
       "      <td>0.1</td>\n",
       "      <td>0.01</td>\n",
       "      <td>0.001</td>\n",
       "      <td>100</td>\n",
       "      <td>10</td>\n",
       "      <td>1.0</td>\n",
       "      <td>0.1</td>\n",
       "      <td>0.01</td>\n",
       "      <td>10</td>\n",
       "      <td>100</td>\n",
       "    </tr>\n",
       "    <tr>\n",
       "      <th>param_svc__C</th>\n",
       "      <td>1.0</td>\n",
       "      <td>100</td>\n",
       "      <td>10</td>\n",
       "      <td>10</td>\n",
       "      <td>100</td>\n",
       "      <td>100</td>\n",
       "      <td>0.1</td>\n",
       "      <td>1.0</td>\n",
       "      <td>0.1</td>\n",
       "      <td>10</td>\n",
       "      <td>...</td>\n",
       "      <td>0.01</td>\n",
       "      <td>0.01</td>\n",
       "      <td>0.01</td>\n",
       "      <td>0.001</td>\n",
       "      <td>0.001</td>\n",
       "      <td>0.001</td>\n",
       "      <td>0.001</td>\n",
       "      <td>0.001</td>\n",
       "      <td>0.1</td>\n",
       "      <td>0.1</td>\n",
       "    </tr>\n",
       "    <tr>\n",
       "      <th>mean_fit_time</th>\n",
       "      <td>0.094825</td>\n",
       "      <td>0.133456</td>\n",
       "      <td>0.121393</td>\n",
       "      <td>0.095622</td>\n",
       "      <td>0.211346</td>\n",
       "      <td>0.108216</td>\n",
       "      <td>0.10074</td>\n",
       "      <td>0.098532</td>\n",
       "      <td>0.104317</td>\n",
       "      <td>0.096421</td>\n",
       "      <td>...</td>\n",
       "      <td>0.113441</td>\n",
       "      <td>0.102102</td>\n",
       "      <td>0.109824</td>\n",
       "      <td>0.172547</td>\n",
       "      <td>0.121088</td>\n",
       "      <td>0.109671</td>\n",
       "      <td>0.10329</td>\n",
       "      <td>0.112161</td>\n",
       "      <td>0.12385</td>\n",
       "      <td>0.178051</td>\n",
       "    </tr>\n",
       "  </tbody>\n",
       "</table>\n",
       "<p>4 rows × 36 columns</p>\n",
       "</div>"
      ],
      "text/plain": [
       "rank_test_score         1         2         3         4         5         6   \\\n",
       "mean_test_score   0.743961  0.732792  0.729091  0.720391  0.711715  0.704284   \n",
       "param_svc__gamma       0.1      0.01       0.1      0.01       0.1     0.001   \n",
       "param_svc__C           1.0       100        10        10       100       100   \n",
       "mean_fit_time     0.094825  0.133456  0.121393  0.095622  0.211346  0.108216   \n",
       "\n",
       "rank_test_score         7         8         9         10  ...        21  \\\n",
       "mean_test_score   0.703034  0.697473  0.678851  0.678244  ...   0.50775   \n",
       "param_svc__gamma       0.1      0.01      0.01     0.001  ...       0.1   \n",
       "param_svc__C           0.1       1.0       0.1        10  ...      0.01   \n",
       "mean_fit_time      0.10074  0.098532  0.104317  0.096421  ...  0.113441   \n",
       "\n",
       "rank_test_score         21        21        21        21        21       21  \\\n",
       "mean_test_score    0.50775   0.50775   0.50775   0.50775   0.50775  0.50775   \n",
       "param_svc__gamma      0.01     0.001       100        10       1.0      0.1   \n",
       "param_svc__C          0.01      0.01     0.001     0.001     0.001    0.001   \n",
       "mean_fit_time     0.102102  0.109824  0.172547  0.121088  0.109671  0.10329   \n",
       "\n",
       "rank_test_score         21       21        21  \n",
       "mean_test_score    0.50775  0.50775   0.50775  \n",
       "param_svc__gamma      0.01       10       100  \n",
       "param_svc__C         0.001      0.1       0.1  \n",
       "mean_fit_time     0.112161  0.12385  0.178051  \n",
       "\n",
       "[4 rows x 36 columns]"
      ]
     },
     "execution_count": 28,
     "metadata": {},
     "output_type": "execute_result"
    }
   ],
   "source": [
    "pd.DataFrame(grid_search.cv_results_)[\n",
    "    [\n",
    "        \"mean_test_score\",\n",
    "        \"param_svc__gamma\",\n",
    "        \"param_svc__C\",\n",
    "        \"mean_fit_time\",\n",
    "        \"rank_test_score\",\n",
    "    ]\n",
    "].set_index(\"rank_test_score\").sort_index().T"
   ]
  },
  {
   "cell_type": "markdown",
   "metadata": {
    "slideshow": {
     "slide_type": "slide"
    }
   },
   "source": [
    "- Other than searching for best hyperparameter values, `GridSearchCV` also fits a new model on the whole training set with the parameters that yielded the best results. \n",
    "- So we can conveniently call `score` on the test set with a fitted `GridSearchCV` object. "
   ]
  },
  {
   "cell_type": "code",
   "execution_count": 28,
   "metadata": {},
   "outputs": [
    {
     "data": {
      "text/plain": [
       "0.7376237623762376"
      ]
     },
     "execution_count": 28,
     "metadata": {},
     "output_type": "execute_result"
    }
   ],
   "source": [
    "grid_search.score(X_test, y_test)"
   ]
  },
  {
   "cell_type": "markdown",
   "metadata": {},
   "source": [
    "Why `best_score_` and the score above are different? "
   ]
  },
  {
   "cell_type": "markdown",
   "metadata": {
    "slideshow": {
     "slide_type": "slide"
    }
   },
   "source": [
    "### `n_jobs=-1`\n",
    "- Note the `n_jobs=-1` above.\n",
    "- Hyperparameter optimization can be done _in parallel_ for each of the configurations.\n",
    "- This is very useful when scaling up to large numbers of machines in the cloud."
   ]
  },
  {
   "cell_type": "markdown",
   "metadata": {
    "slideshow": {
     "slide_type": "slide"
    }
   },
   "source": [
    "### The `__` syntax \n",
    "\n",
    "- Above: we have a nesting of transformers.\n",
    "- We can access the parameters of the \"inner\" objects by using __ to go \"deeper\":\n",
    "- `svc__gamma`: the `gamma` of the `svc` of the pipeline\n",
    "- `svc__C`: the `C` of the `svc` of the pipeline"
   ]
  },
  {
   "cell_type": "code",
   "execution_count": 29,
   "metadata": {
    "slideshow": {
     "slide_type": "slide"
    }
   },
   "outputs": [],
   "source": [
    "from sklearn.model_selection import GridSearchCV\n",
    "\n",
    "pipe_svm = make_pipeline(StandardScaler(), SVC())\n",
    "\n",
    "param_grid = {\n",
    "    \"svc__gamma\": [0.001, 0.01, 0.1, 1.0, 10, 100],\n",
    "    \"svc__C\": [0.001, 0.01, 0.1, 1.0, 10, 100],\n",
    "}\n",
    "\n",
    "grid_search = GridSearchCV(\n",
    "    pipe_svm, param_grid, cv=5, n_jobs=-1, return_train_score=True\n",
    ")\n"
   ]
  },
  {
   "cell_type": "code",
   "execution_count": 30,
   "metadata": {
    "slideshow": {
     "slide_type": "slide"
    }
   },
   "outputs": [
    {
     "data": {
      "text/html": [
       "<style>#sk-container-id-5 {color: black;background-color: white;}#sk-container-id-5 pre{padding: 0;}#sk-container-id-5 div.sk-toggleable {background-color: white;}#sk-container-id-5 label.sk-toggleable__label {cursor: pointer;display: block;width: 100%;margin-bottom: 0;padding: 0.3em;box-sizing: border-box;text-align: center;}#sk-container-id-5 label.sk-toggleable__label-arrow:before {content: \"▸\";float: left;margin-right: 0.25em;color: #696969;}#sk-container-id-5 label.sk-toggleable__label-arrow:hover:before {color: black;}#sk-container-id-5 div.sk-estimator:hover label.sk-toggleable__label-arrow:before {color: black;}#sk-container-id-5 div.sk-toggleable__content {max-height: 0;max-width: 0;overflow: hidden;text-align: left;background-color: #f0f8ff;}#sk-container-id-5 div.sk-toggleable__content pre {margin: 0.2em;color: black;border-radius: 0.25em;background-color: #f0f8ff;}#sk-container-id-5 input.sk-toggleable__control:checked~div.sk-toggleable__content {max-height: 200px;max-width: 100%;overflow: auto;}#sk-container-id-5 input.sk-toggleable__control:checked~label.sk-toggleable__label-arrow:before {content: \"▾\";}#sk-container-id-5 div.sk-estimator input.sk-toggleable__control:checked~label.sk-toggleable__label {background-color: #d4ebff;}#sk-container-id-5 div.sk-label input.sk-toggleable__control:checked~label.sk-toggleable__label {background-color: #d4ebff;}#sk-container-id-5 input.sk-hidden--visually {border: 0;clip: rect(1px 1px 1px 1px);clip: rect(1px, 1px, 1px, 1px);height: 1px;margin: -1px;overflow: hidden;padding: 0;position: absolute;width: 1px;}#sk-container-id-5 div.sk-estimator {font-family: monospace;background-color: #f0f8ff;border: 1px dotted black;border-radius: 0.25em;box-sizing: border-box;margin-bottom: 0.5em;}#sk-container-id-5 div.sk-estimator:hover {background-color: #d4ebff;}#sk-container-id-5 div.sk-parallel-item::after {content: \"\";width: 100%;border-bottom: 1px solid gray;flex-grow: 1;}#sk-container-id-5 div.sk-label:hover label.sk-toggleable__label {background-color: #d4ebff;}#sk-container-id-5 div.sk-serial::before {content: \"\";position: absolute;border-left: 1px solid gray;box-sizing: border-box;top: 0;bottom: 0;left: 50%;z-index: 0;}#sk-container-id-5 div.sk-serial {display: flex;flex-direction: column;align-items: center;background-color: white;padding-right: 0.2em;padding-left: 0.2em;position: relative;}#sk-container-id-5 div.sk-item {position: relative;z-index: 1;}#sk-container-id-5 div.sk-parallel {display: flex;align-items: stretch;justify-content: center;background-color: white;position: relative;}#sk-container-id-5 div.sk-item::before, #sk-container-id-5 div.sk-parallel-item::before {content: \"\";position: absolute;border-left: 1px solid gray;box-sizing: border-box;top: 0;bottom: 0;left: 50%;z-index: -1;}#sk-container-id-5 div.sk-parallel-item {display: flex;flex-direction: column;z-index: 1;position: relative;background-color: white;}#sk-container-id-5 div.sk-parallel-item:first-child::after {align-self: flex-end;width: 50%;}#sk-container-id-5 div.sk-parallel-item:last-child::after {align-self: flex-start;width: 50%;}#sk-container-id-5 div.sk-parallel-item:only-child::after {width: 0;}#sk-container-id-5 div.sk-dashed-wrapped {border: 1px dashed gray;margin: 0 0.4em 0.5em 0.4em;box-sizing: border-box;padding-bottom: 0.4em;background-color: white;}#sk-container-id-5 div.sk-label label {font-family: monospace;font-weight: bold;display: inline-block;line-height: 1.2em;}#sk-container-id-5 div.sk-label-container {text-align: center;}#sk-container-id-5 div.sk-container {/* jupyter's `normalize.less` sets `[hidden] { display: none; }` but bootstrap.min.css set `[hidden] { display: none !important; }` so we also need the `!important` here to be able to override the default hidden behavior on the sphinx rendered scikit-learn.org. See: https://github.com/scikit-learn/scikit-learn/issues/21755 */display: inline-block !important;position: relative;}#sk-container-id-5 div.sk-text-repr-fallback {display: none;}</style><div id=\"sk-container-id-5\" class=\"sk-top-container\"><div class=\"sk-text-repr-fallback\"><pre>GridSearchCV(cv=5,\n",
       "             estimator=Pipeline(steps=[(&#x27;standardscaler&#x27;, StandardScaler()),\n",
       "                                       (&#x27;svc&#x27;, SVC())]),\n",
       "             n_jobs=-1,\n",
       "             param_grid={&#x27;svc__C&#x27;: [0.001, 0.01, 0.1, 1.0, 10, 100],\n",
       "                         &#x27;svc__gamma&#x27;: [0.001, 0.01, 0.1, 1.0, 10, 100]},\n",
       "             return_train_score=True)</pre><b>In a Jupyter environment, please rerun this cell to show the HTML representation or trust the notebook. <br />On GitHub, the HTML representation is unable to render, please try loading this page with nbviewer.org.</b></div><div class=\"sk-container\" hidden><div class=\"sk-item sk-dashed-wrapped\"><div class=\"sk-label-container\"><div class=\"sk-label sk-toggleable\"><input class=\"sk-toggleable__control sk-hidden--visually\" id=\"sk-estimator-id-15\" type=\"checkbox\" ><label for=\"sk-estimator-id-15\" class=\"sk-toggleable__label sk-toggleable__label-arrow\">GridSearchCV</label><div class=\"sk-toggleable__content\"><pre>GridSearchCV(cv=5,\n",
       "             estimator=Pipeline(steps=[(&#x27;standardscaler&#x27;, StandardScaler()),\n",
       "                                       (&#x27;svc&#x27;, SVC())]),\n",
       "             n_jobs=-1,\n",
       "             param_grid={&#x27;svc__C&#x27;: [0.001, 0.01, 0.1, 1.0, 10, 100],\n",
       "                         &#x27;svc__gamma&#x27;: [0.001, 0.01, 0.1, 1.0, 10, 100]},\n",
       "             return_train_score=True)</pre></div></div></div><div class=\"sk-parallel\"><div class=\"sk-parallel-item\"><div class=\"sk-item\"><div class=\"sk-label-container\"><div class=\"sk-label sk-toggleable\"><input class=\"sk-toggleable__control sk-hidden--visually\" id=\"sk-estimator-id-16\" type=\"checkbox\" ><label for=\"sk-estimator-id-16\" class=\"sk-toggleable__label sk-toggleable__label-arrow\">estimator: Pipeline</label><div class=\"sk-toggleable__content\"><pre>Pipeline(steps=[(&#x27;standardscaler&#x27;, StandardScaler()), (&#x27;svc&#x27;, SVC())])</pre></div></div></div><div class=\"sk-serial\"><div class=\"sk-item\"><div class=\"sk-serial\"><div class=\"sk-item\"><div class=\"sk-estimator sk-toggleable\"><input class=\"sk-toggleable__control sk-hidden--visually\" id=\"sk-estimator-id-17\" type=\"checkbox\" ><label for=\"sk-estimator-id-17\" class=\"sk-toggleable__label sk-toggleable__label-arrow\">StandardScaler</label><div class=\"sk-toggleable__content\"><pre>StandardScaler()</pre></div></div></div><div class=\"sk-item\"><div class=\"sk-estimator sk-toggleable\"><input class=\"sk-toggleable__control sk-hidden--visually\" id=\"sk-estimator-id-18\" type=\"checkbox\" ><label for=\"sk-estimator-id-18\" class=\"sk-toggleable__label sk-toggleable__label-arrow\">SVC</label><div class=\"sk-toggleable__content\"><pre>SVC()</pre></div></div></div></div></div></div></div></div></div></div></div></div>"
      ],
      "text/plain": [
       "GridSearchCV(cv=5,\n",
       "             estimator=Pipeline(steps=[('standardscaler', StandardScaler()),\n",
       "                                       ('svc', SVC())]),\n",
       "             n_jobs=-1,\n",
       "             param_grid={'svc__C': [0.001, 0.01, 0.1, 1.0, 10, 100],\n",
       "                         'svc__gamma': [0.001, 0.01, 0.1, 1.0, 10, 100]},\n",
       "             return_train_score=True)"
      ]
     },
     "execution_count": 30,
     "metadata": {},
     "output_type": "execute_result"
    }
   ],
   "source": [
    "grid_search.fit(X_train, y_train)"
   ]
  },
  {
   "cell_type": "markdown",
   "metadata": {
    "slideshow": {
     "slide_type": "slide"
    }
   },
   "source": [
    "### Visualizing the parameter grid as a heatmap "
   ]
  },
  {
   "cell_type": "code",
   "execution_count": 31,
   "metadata": {},
   "outputs": [
    {
     "data": {
      "text/plain": [
       "{'svc__gamma': [0.001, 0.01, 0.1, 1.0, 10, 100],\n",
       " 'svc__C': [0.001, 0.01, 0.1, 1.0, 10, 100]}"
      ]
     },
     "execution_count": 31,
     "metadata": {},
     "output_type": "execute_result"
    }
   ],
   "source": [
    "param_grid"
   ]
  },
  {
   "cell_type": "code",
   "execution_count": 32,
   "metadata": {},
   "outputs": [
    {
     "data": {
      "text/plain": [
       "{'svc__C': 1.0, 'svc__gamma': 0.1}"
      ]
     },
     "execution_count": 32,
     "metadata": {},
     "output_type": "execute_result"
    }
   ],
   "source": [
    "grid_search.best_params_"
   ]
  },
  {
   "cell_type": "code",
   "execution_count": 33,
   "metadata": {},
   "outputs": [],
   "source": [
    "results = pd.DataFrame(grid_search.cv_results_)[['mean_test_score', 'params']]"
   ]
  },
  {
   "cell_type": "code",
   "execution_count": 34,
   "metadata": {},
   "outputs": [
    {
     "data": {
      "image/png": "[encoded data removed]",
      "text/plain": [
       "<Figure size 640x480 with 1 Axes>"
      ]
     },
     "metadata": {},
     "output_type": "display_data"
    }
   ],
   "source": [
    "scores = np.array(results.mean_test_score).reshape(6, 6)\n",
    "\n",
    "# plot the mean cross-validation scores\n",
    "mglearn.tools.heatmap(\n",
    "    scores,\n",
    "    xlabel=\"gamma\",\n",
    "    xticklabels=param_grid[\"svc__gamma\"],\n",
    "    ylabel=\"C\",\n",
    "    yticklabels=param_grid[\"svc__C\"],\n",
    "    cmap=\"viridis\",\n",
    ");"
   ]
  },
  {
   "cell_type": "markdown",
   "metadata": {
    "slideshow": {
     "slide_type": "slide"
    }
   },
   "source": [
    "- Each point in the heat map corresponds to one run of cross-validation, with a particular setting\n",
    "- Colour encodes cross-validation accuracy. \n",
    "    - Lighter colour means high accuracy\n",
    "    - Darker colour means low accuracy\n",
    "- SVC is quite sensitive to hyperparameter settings.\n",
    "- Adjusting hyperparameters can change the accuracy from 0.51 to 0.74! "
   ]
  },
  {
   "cell_type": "markdown",
   "metadata": {
    "slideshow": {
     "slide_type": "slide"
    }
   },
   "source": [
    "- Note that the range we pick for the parameters play an important role in hyperparameter optimization. \n",
    "- For example, consider the following grid and the corresponding results.  "
   ]
  },
  {
   "cell_type": "code",
   "execution_count": 35,
   "metadata": {},
   "outputs": [],
   "source": [
    "def display_heatmap(param_grid, pipe, X_train, y_train, reshape_dim=[6, 6]):\n",
    "    grid_search = GridSearchCV(\n",
    "        pipe, param_grid, cv=5, n_jobs=-1, return_train_score=True\n",
    "    )\n",
    "    grid_search.fit(X_train, y_train)\n",
    "    results = pd.DataFrame(grid_search.cv_results_)\n",
    "    scores = np.array(results.mean_test_score).reshape(reshape_dim[0], reshape_dim[1])\n",
    "\n",
    "    # plot the mean cross-validation scores\n",
    "    mglearn.tools.heatmap(\n",
    "        scores,\n",
    "        xlabel=\"gamma\",\n",
    "        xticklabels=param_grid[\"svc__gamma\"],\n",
    "        ylabel=\"C\",\n",
    "        yticklabels=param_grid[\"svc__C\"],\n",
    "        cmap=\"viridis\",\n",
    "    );"
   ]
  },
  {
   "cell_type": "markdown",
   "metadata": {
    "slideshow": {
     "slide_type": "slide"
    }
   },
   "source": [
    "### Bad range for hyperparameters "
   ]
  },
  {
   "cell_type": "code",
   "execution_count": 36,
   "metadata": {},
   "outputs": [
    {
     "data": {
      "image/png": "[encoded data removed]",
      "text/plain": [
       "<Figure size 640x480 with 1 Axes>"
      ]
     },
     "metadata": {},
     "output_type": "display_data"
    }
   ],
   "source": [
    "param_grid2 = {\"svc__gamma\": np.logspace(1, 2, 6), \"svc__C\": np.linspace(1, 2, 6)}\n",
    "display_heatmap(param_grid2, pipe_svm, X_train, y_train)"
   ]
  },
  {
   "cell_type": "markdown",
   "metadata": {
    "slideshow": {
     "slide_type": "slide"
    }
   },
   "source": [
    "### Different range for hyperparameters yields better results! "
   ]
  },
  {
   "cell_type": "code",
   "execution_count": 37,
   "metadata": {},
   "outputs": [
    {
     "data": {
      "image/png": "[encoded data removed]",
      "text/plain": [
       "<Figure size 640x480 with 1 Axes>"
      ]
     },
     "metadata": {},
     "output_type": "display_data"
    }
   ],
   "source": [
    "param_grid3 = {\"svc__gamma\": np.logspace(-3, 2, 6), \"svc__C\": np.linspace(1, 2, 6)}\n",
    "\n",
    "display_heatmap(param_grid3, pipe_svm, X_train, y_train)"
   ]
  },
  {
   "cell_type": "markdown",
   "metadata": {
    "slideshow": {
     "slide_type": "slide"
    }
   },
   "source": [
    "It seems like we are getting even better cross-validation results with `C` = 2.0 and `gamma` = 0.1 \n",
    "\n",
    "How about exploring different values of `C` close to 2.0? "
   ]
  },
  {
   "cell_type": "code",
   "execution_count": 38,
   "metadata": {},
   "outputs": [
    {
     "data": {
      "image/png": "[encoded data removed]",
      "text/plain": [
       "<Figure size 640x480 with 1 Axes>"
      ]
     },
     "metadata": {},
     "output_type": "display_data"
    }
   ],
   "source": [
    "param_grid4 = {\"svc__gamma\": np.logspace(-3, 2, 6), \"svc__C\": np.linspace(2, 3, 12)}\n",
    "\n",
    "display_heatmap(param_grid4, pipe_svm, X_train, y_train, reshape_dim=[12, 6])"
   ]
  },
  {
   "cell_type": "markdown",
   "metadata": {
    "slideshow": {
     "slide_type": "slide"
    }
   },
   "source": [
    "That's good! We are finding some more options for `C` where the accuracy is 0.75. \n",
    "The tricky part is we do not know in advance what range of hyperparameters might work the best for the given problem, model, and the dataset.    "
   ]
  },
  {
   "cell_type": "markdown",
   "metadata": {
    "slideshow": {
     "slide_type": "slide"
    }
   },
   "source": [
    "### True/False \n",
    "\n",
    "- If you get optimal results at the edges of your parameter grid, it might be a good idea to adjust the range of values in your parameter grid.   \n",
    "- Grid search is guaranteed to find best hyperparameters values. "
   ]
  },
  {
   "cell_type": "markdown",
   "metadata": {
    "slideshow": {
     "slide_type": "slide"
    }
   },
   "source": [
    "```{note}\n",
    "`GridSearchCV` allows the param_grid to be a list of dictionaries. Sometimes some hyperparameters are applicable only for certain models. \n",
    "For example, in the context of `SVC`, `C` and `gamma` are applicable when the kernel is `rbf` whereas only `C` is applicable for `kernel=\"linear\"`.    \n",
    "```"
   ]
  },
  {
   "cell_type": "markdown",
   "metadata": {
    "slideshow": {
     "slide_type": "slide"
    }
   },
   "source": [
    "### Problems with exhaustive grid search \n",
    "\n",
    "- Required number of models to evaluate grows exponentially with the dimensionally of the configuration space. \n",
    "- Example: Suppose you have\n",
    "    - 5 hyperparameters \n",
    "    - 10 different values for each hyperparameter\n",
    "    - You'll be evaluating $10^5=100,000$ models! That is you'll be calling `cross_validate` 100,000 times!\n",
    "- Exhaustive search may become infeasible fairly quickly. \n",
    "- Other options? "
   ]
  },
  {
   "cell_type": "markdown",
   "metadata": {
    "slideshow": {
     "slide_type": "skip"
    }
   },
   "source": [
    "<br><br><br><br>"
   ]
  },
  {
   "cell_type": "markdown",
   "metadata": {
    "slideshow": {
     "slide_type": "slide"
    }
   },
   "source": [
    "## Randomized hyperparameter search\n",
    "\n",
    "- Randomized hyperparameter optimization \n",
    "    - [`sklearn.model_selection.RandomizedSearchCV`](https://scikit-learn.org/stable/modules/generated/sklearn.model_selection.RandomizedSearchCV.html)\n",
    "- Samples configurations at random until certain budget (e.g., time) is exhausted "
   ]
  },
  {
   "cell_type": "code",
   "execution_count": 34,
   "metadata": {
    "slideshow": {
     "slide_type": "slide"
    }
   },
   "outputs": [
    {
     "name": "stdout",
     "output_type": "stream",
     "text": [
      "Grid size: 36\n"
     ]
    },
    {
     "data": {
      "text/plain": [
       "{'svc__gamma': [0.001, 0.01, 0.1, 1.0, 10, 100],\n",
       " 'svc__C': [0.001, 0.01, 0.1, 1.0, 10, 100]}"
      ]
     },
     "execution_count": 34,
     "metadata": {},
     "output_type": "execute_result"
    }
   ],
   "source": [
    "from sklearn.model_selection import RandomizedSearchCV\n",
    "\n",
    "\n",
    "param_grid = {\n",
    "    \"svc__gamma\": [0.001, 0.01, 0.1, 1.0, 10, 100],\n",
    "    \"svc__C\": [0.001, 0.01, 0.1, 1.0, 10, 100],\n",
    "}\n",
    "\n",
    "print(\"Grid size: %d\" % (np.prod(list(map(len, param_grid.values())))))\n",
    "param_grid"
   ]
  },
  {
   "cell_type": "code",
   "execution_count": 35,
   "metadata": {},
   "outputs": [],
   "source": [
    "random_search = RandomizedSearchCV(\n",
    "    pipe_svm, param_distributions=param_grid, n_jobs=-1, n_iter=10, cv=5, random_state=123\n",
    ")\n",
    "random_search.fit(X_train, y_train);"
   ]
  },
  {
   "cell_type": "code",
   "execution_count": 41,
   "metadata": {
    "slideshow": {
     "slide_type": "slide"
    }
   },
   "outputs": [
    {
     "data": {
      "text/html": [
       "<div>\n",
       "<style scoped>\n",
       "    .dataframe tbody tr th:only-of-type {\n",
       "        vertical-align: middle;\n",
       "    }\n",
       "\n",
       "    .dataframe tbody tr th {\n",
       "        vertical-align: top;\n",
       "    }\n",
       "\n",
       "    .dataframe thead th {\n",
       "        text-align: right;\n",
       "    }\n",
       "</style>\n",
       "<table border=\"1\" class=\"dataframe\">\n",
       "  <thead>\n",
       "    <tr style=\"text-align: right;\">\n",
       "      <th>rank_test_score</th>\n",
       "      <th>1</th>\n",
       "      <th>2</th>\n",
       "      <th>3</th>\n",
       "      <th>4</th>\n",
       "      <th>5</th>\n",
       "      <th>6</th>\n",
       "      <th>6</th>\n",
       "      <th>6</th>\n",
       "      <th>6</th>\n",
       "      <th>6</th>\n",
       "    </tr>\n",
       "  </thead>\n",
       "  <tbody>\n",
       "    <tr>\n",
       "      <th>mean_test_score</th>\n",
       "      <td>0.732792</td>\n",
       "      <td>0.711715</td>\n",
       "      <td>0.678851</td>\n",
       "      <td>0.652824</td>\n",
       "      <td>0.508371</td>\n",
       "      <td>0.50775</td>\n",
       "      <td>0.50775</td>\n",
       "      <td>0.50775</td>\n",
       "      <td>0.50775</td>\n",
       "      <td>0.50775</td>\n",
       "    </tr>\n",
       "    <tr>\n",
       "      <th>param_svc__gamma</th>\n",
       "      <td>0.01</td>\n",
       "      <td>0.1</td>\n",
       "      <td>0.01</td>\n",
       "      <td>0.001</td>\n",
       "      <td>100</td>\n",
       "      <td>0.001</td>\n",
       "      <td>0.1</td>\n",
       "      <td>100</td>\n",
       "      <td>100</td>\n",
       "      <td>0.001</td>\n",
       "    </tr>\n",
       "    <tr>\n",
       "      <th>param_svc__C</th>\n",
       "      <td>100</td>\n",
       "      <td>100</td>\n",
       "      <td>0.1</td>\n",
       "      <td>1.0</td>\n",
       "      <td>1.0</td>\n",
       "      <td>0.01</td>\n",
       "      <td>0.01</td>\n",
       "      <td>0.01</td>\n",
       "      <td>0.001</td>\n",
       "      <td>0.1</td>\n",
       "    </tr>\n",
       "    <tr>\n",
       "      <th>mean_fit_time</th>\n",
       "      <td>0.149129</td>\n",
       "      <td>0.215943</td>\n",
       "      <td>0.106496</td>\n",
       "      <td>0.129469</td>\n",
       "      <td>0.185889</td>\n",
       "      <td>0.128541</td>\n",
       "      <td>0.112739</td>\n",
       "      <td>0.164209</td>\n",
       "      <td>0.162505</td>\n",
       "      <td>0.117312</td>\n",
       "    </tr>\n",
       "  </tbody>\n",
       "</table>\n",
       "</div>"
      ],
      "text/plain": [
       "rank_test_score          1         2         3         4         5         6  \\\n",
       "mean_test_score   0.732792  0.711715  0.678851  0.652824  0.508371   0.50775   \n",
       "param_svc__gamma      0.01       0.1      0.01     0.001       100     0.001   \n",
       "param_svc__C           100       100       0.1       1.0       1.0      0.01   \n",
       "mean_fit_time     0.149129  0.215943  0.106496  0.129469  0.185889  0.128541   \n",
       "\n",
       "rank_test_score          6         6         6         6  \n",
       "mean_test_score    0.50775   0.50775   0.50775   0.50775  \n",
       "param_svc__gamma       0.1       100       100     0.001  \n",
       "param_svc__C          0.01      0.01     0.001       0.1  \n",
       "mean_fit_time     0.112739  0.164209  0.162505  0.117312  "
      ]
     },
     "execution_count": 41,
     "metadata": {},
     "output_type": "execute_result"
    }
   ],
   "source": [
    "pd.DataFrame(random_search.cv_results_)[\n",
    "    [\n",
    "        \"mean_test_score\",\n",
    "        \"param_svc__gamma\",\n",
    "        \"param_svc__C\",\n",
    "        \"mean_fit_time\",\n",
    "        \"rank_test_score\",\n",
    "    ]\n",
    "].set_index(\"rank_test_score\").sort_index().T"
   ]
  },
  {
   "cell_type": "markdown",
   "metadata": {
    "slideshow": {
     "slide_type": "slide"
    }
   },
   "source": [
    "### `n_iter`\n",
    "\n",
    "- Note the `n_iter`, we didn't need this for `GridSearchCV`.\n",
    "- Larger `n_iter` will take longer but it'll do more searching.\n",
    "  - Remember you still need to multiply by number of folds!\n",
    "- I have also set `random_state` but you don't have to do it."
   ]
  },
  {
   "cell_type": "markdown",
   "metadata": {
    "slideshow": {
     "slide_type": "skip"
    }
   },
   "source": [
    "### Range of `C`\n",
    "\n",
    "- Note the exponential range for `C`. This is quite common.\n",
    "- There is no point trying $C=\\{1,2,3\\ldots,100\\}$ because $C=1,2,3$ are too similar to each other.\n",
    "- Often we're trying to find an order of magnitude, e.g. $C=\\{0.01,0.1,1,10,100\\}$. \n",
    "- We can also write that as $C=\\{10^{-2},10^{-1},10^0,10^1,10^2\\}$. \n",
    "- Or, in other words, $C$ values to try are $10^n$ for $n=-2,-1,0,1,2$ which is basically what we have above."
   ]
  },
  {
   "cell_type": "markdown",
   "metadata": {
    "slideshow": {
     "slide_type": "slide"
    }
   },
   "source": [
    "(Optional) Another thing we can do is give probability distributions to draw from:"
   ]
  },
  {
   "cell_type": "code",
   "execution_count": 36,
   "metadata": {},
   "outputs": [],
   "source": [
    "from scipy.stats import expon, lognorm, loguniform, randint, uniform"
   ]
  },
  {
   "cell_type": "code",
   "execution_count": 37,
   "metadata": {},
   "outputs": [],
   "source": [
    "param_dist = {\n",
    "    \"svc__C\": uniform(0.1, 1e4),  # loguniform(1e-3, 1e3),\n",
    "    \"svc__gamma\": loguniform(1e-5, 1e3),\n",
    "}"
   ]
  },
  {
   "cell_type": "code",
   "execution_count": 38,
   "metadata": {
    "slideshow": {
     "slide_type": "slide"
    }
   },
   "outputs": [],
   "source": [
    "random_search = RandomizedSearchCV(\n",
    "    pipe_svm, param_dist, n_iter=100, verbose=1, n_jobs=-1, random_state=123\n",
    ")"
   ]
  },
  {
   "cell_type": "code",
   "execution_count": 39,
   "metadata": {
    "slideshow": {
     "slide_type": "slide"
    }
   },
   "outputs": [
    {
     "name": "stdout",
     "output_type": "stream",
     "text": [
      "Fitting 5 folds for each of 100 candidates, totalling 500 fits\n"
     ]
    },
    {
     "data": {
      "text/html": [
       "<style>#sk-container-id-6 {color: black;background-color: white;}#sk-container-id-6 pre{padding: 0;}#sk-container-id-6 div.sk-toggleable {background-color: white;}#sk-container-id-6 label.sk-toggleable__label {cursor: pointer;display: block;width: 100%;margin-bottom: 0;padding: 0.3em;box-sizing: border-box;text-align: center;}#sk-container-id-6 label.sk-toggleable__label-arrow:before {content: \"▸\";float: left;margin-right: 0.25em;color: #696969;}#sk-container-id-6 label.sk-toggleable__label-arrow:hover:before {color: black;}#sk-container-id-6 div.sk-estimator:hover label.sk-toggleable__label-arrow:before {color: black;}#sk-container-id-6 div.sk-toggleable__content {max-height: 0;max-width: 0;overflow: hidden;text-align: left;background-color: #f0f8ff;}#sk-container-id-6 div.sk-toggleable__content pre {margin: 0.2em;color: black;border-radius: 0.25em;background-color: #f0f8ff;}#sk-container-id-6 input.sk-toggleable__control:checked~div.sk-toggleable__content {max-height: 200px;max-width: 100%;overflow: auto;}#sk-container-id-6 input.sk-toggleable__control:checked~label.sk-toggleable__label-arrow:before {content: \"▾\";}#sk-container-id-6 div.sk-estimator input.sk-toggleable__control:checked~label.sk-toggleable__label {background-color: #d4ebff;}#sk-container-id-6 div.sk-label input.sk-toggleable__control:checked~label.sk-toggleable__label {background-color: #d4ebff;}#sk-container-id-6 input.sk-hidden--visually {border: 0;clip: rect(1px 1px 1px 1px);clip: rect(1px, 1px, 1px, 1px);height: 1px;margin: -1px;overflow: hidden;padding: 0;position: absolute;width: 1px;}#sk-container-id-6 div.sk-estimator {font-family: monospace;background-color: #f0f8ff;border: 1px dotted black;border-radius: 0.25em;box-sizing: border-box;margin-bottom: 0.5em;}#sk-container-id-6 div.sk-estimator:hover {background-color: #d4ebff;}#sk-container-id-6 div.sk-parallel-item::after {content: \"\";width: 100%;border-bottom: 1px solid gray;flex-grow: 1;}#sk-container-id-6 div.sk-label:hover label.sk-toggleable__label {background-color: #d4ebff;}#sk-container-id-6 div.sk-serial::before {content: \"\";position: absolute;border-left: 1px solid gray;box-sizing: border-box;top: 0;bottom: 0;left: 50%;z-index: 0;}#sk-container-id-6 div.sk-serial {display: flex;flex-direction: column;align-items: center;background-color: white;padding-right: 0.2em;padding-left: 0.2em;position: relative;}#sk-container-id-6 div.sk-item {position: relative;z-index: 1;}#sk-container-id-6 div.sk-parallel {display: flex;align-items: stretch;justify-content: center;background-color: white;position: relative;}#sk-container-id-6 div.sk-item::before, #sk-container-id-6 div.sk-parallel-item::before {content: \"\";position: absolute;border-left: 1px solid gray;box-sizing: border-box;top: 0;bottom: 0;left: 50%;z-index: -1;}#sk-container-id-6 div.sk-parallel-item {display: flex;flex-direction: column;z-index: 1;position: relative;background-color: white;}#sk-container-id-6 div.sk-parallel-item:first-child::after {align-self: flex-end;width: 50%;}#sk-container-id-6 div.sk-parallel-item:last-child::after {align-self: flex-start;width: 50%;}#sk-container-id-6 div.sk-parallel-item:only-child::after {width: 0;}#sk-container-id-6 div.sk-dashed-wrapped {border: 1px dashed gray;margin: 0 0.4em 0.5em 0.4em;box-sizing: border-box;padding-bottom: 0.4em;background-color: white;}#sk-container-id-6 div.sk-label label {font-family: monospace;font-weight: bold;display: inline-block;line-height: 1.2em;}#sk-container-id-6 div.sk-label-container {text-align: center;}#sk-container-id-6 div.sk-container {/* jupyter's `normalize.less` sets `[hidden] { display: none; }` but bootstrap.min.css set `[hidden] { display: none !important; }` so we also need the `!important` here to be able to override the default hidden behavior on the sphinx rendered scikit-learn.org. See: https://github.com/scikit-learn/scikit-learn/issues/21755 */display: inline-block !important;position: relative;}#sk-container-id-6 div.sk-text-repr-fallback {display: none;}</style><div id=\"sk-container-id-6\" class=\"sk-top-container\"><div class=\"sk-text-repr-fallback\"><pre>RandomizedSearchCV(estimator=Pipeline(steps=[(&#x27;standardscaler&#x27;,\n",
       "                                              StandardScaler()),\n",
       "                                             (&#x27;svc&#x27;, SVC())]),\n",
       "                   n_iter=100, n_jobs=-1,\n",
       "                   param_distributions={&#x27;svc__C&#x27;: &lt;scipy.stats._distn_infrastructure.rv_frozen object at 0x000001E414BACDF0&gt;,\n",
       "                                        &#x27;svc__gamma&#x27;: &lt;scipy.stats._distn_infrastructure.rv_frozen object at 0x000001E414B89520&gt;},\n",
       "                   random_state=123, verbose=1)</pre><b>In a Jupyter environment, please rerun this cell to show the HTML representation or trust the notebook. <br />On GitHub, the HTML representation is unable to render, please try loading this page with nbviewer.org.</b></div><div class=\"sk-container\" hidden><div class=\"sk-item sk-dashed-wrapped\"><div class=\"sk-label-container\"><div class=\"sk-label sk-toggleable\"><input class=\"sk-toggleable__control sk-hidden--visually\" id=\"sk-estimator-id-19\" type=\"checkbox\" ><label for=\"sk-estimator-id-19\" class=\"sk-toggleable__label sk-toggleable__label-arrow\">RandomizedSearchCV</label><div class=\"sk-toggleable__content\"><pre>RandomizedSearchCV(estimator=Pipeline(steps=[(&#x27;standardscaler&#x27;,\n",
       "                                              StandardScaler()),\n",
       "                                             (&#x27;svc&#x27;, SVC())]),\n",
       "                   n_iter=100, n_jobs=-1,\n",
       "                   param_distributions={&#x27;svc__C&#x27;: &lt;scipy.stats._distn_infrastructure.rv_frozen object at 0x000001E414BACDF0&gt;,\n",
       "                                        &#x27;svc__gamma&#x27;: &lt;scipy.stats._distn_infrastructure.rv_frozen object at 0x000001E414B89520&gt;},\n",
       "                   random_state=123, verbose=1)</pre></div></div></div><div class=\"sk-parallel\"><div class=\"sk-parallel-item\"><div class=\"sk-item\"><div class=\"sk-label-container\"><div class=\"sk-label sk-toggleable\"><input class=\"sk-toggleable__control sk-hidden--visually\" id=\"sk-estimator-id-20\" type=\"checkbox\" ><label for=\"sk-estimator-id-20\" class=\"sk-toggleable__label sk-toggleable__label-arrow\">estimator: Pipeline</label><div class=\"sk-toggleable__content\"><pre>Pipeline(steps=[(&#x27;standardscaler&#x27;, StandardScaler()), (&#x27;svc&#x27;, SVC())])</pre></div></div></div><div class=\"sk-serial\"><div class=\"sk-item\"><div class=\"sk-serial\"><div class=\"sk-item\"><div class=\"sk-estimator sk-toggleable\"><input class=\"sk-toggleable__control sk-hidden--visually\" id=\"sk-estimator-id-21\" type=\"checkbox\" ><label for=\"sk-estimator-id-21\" class=\"sk-toggleable__label sk-toggleable__label-arrow\">StandardScaler</label><div class=\"sk-toggleable__content\"><pre>StandardScaler()</pre></div></div></div><div class=\"sk-item\"><div class=\"sk-estimator sk-toggleable\"><input class=\"sk-toggleable__control sk-hidden--visually\" id=\"sk-estimator-id-22\" type=\"checkbox\" ><label for=\"sk-estimator-id-22\" class=\"sk-toggleable__label sk-toggleable__label-arrow\">SVC</label><div class=\"sk-toggleable__content\"><pre>SVC()</pre></div></div></div></div></div></div></div></div></div></div></div></div>"
      ],
      "text/plain": [
       "RandomizedSearchCV(estimator=Pipeline(steps=[('standardscaler',\n",
       "                                              StandardScaler()),\n",
       "                                             ('svc', SVC())]),\n",
       "                   n_iter=100, n_jobs=-1,\n",
       "                   param_distributions={'svc__C': <scipy.stats._distn_infrastructure.rv_frozen object at 0x000001E414BACDF0>,\n",
       "                                        'svc__gamma': <scipy.stats._distn_infrastructure.rv_frozen object at 0x000001E414B89520>},\n",
       "                   random_state=123, verbose=1)"
      ]
     },
     "execution_count": 39,
     "metadata": {},
     "output_type": "execute_result"
    }
   ],
   "source": [
    "random_search.fit(X_train, y_train)"
   ]
  },
  {
   "cell_type": "code",
   "execution_count": 40,
   "metadata": {
    "slideshow": {
     "slide_type": "-"
    }
   },
   "outputs": [
    {
     "data": {
      "text/plain": [
       "0.7383804780493433"
      ]
     },
     "execution_count": 40,
     "metadata": {},
     "output_type": "execute_result"
    }
   ],
   "source": [
    "random_search.best_score_"
   ]
  },
  {
   "cell_type": "code",
   "execution_count": 41,
   "metadata": {
    "slideshow": {
     "slide_type": "slide"
    }
   },
   "outputs": [
    {
     "data": {
      "text/html": [
       "<div>\n",
       "<style scoped>\n",
       "    .dataframe tbody tr th:only-of-type {\n",
       "        vertical-align: middle;\n",
       "    }\n",
       "\n",
       "    .dataframe tbody tr th {\n",
       "        vertical-align: top;\n",
       "    }\n",
       "\n",
       "    .dataframe thead th {\n",
       "        text-align: right;\n",
       "    }\n",
       "</style>\n",
       "<table border=\"1\" class=\"dataframe\">\n",
       "  <thead>\n",
       "    <tr style=\"text-align: right;\">\n",
       "      <th>rank_test_score</th>\n",
       "      <th>1</th>\n",
       "      <th>2</th>\n",
       "      <th>3</th>\n",
       "      <th>4</th>\n",
       "      <th>5</th>\n",
       "      <th>6</th>\n",
       "      <th>7</th>\n",
       "      <th>8</th>\n",
       "      <th>9</th>\n",
       "      <th>9</th>\n",
       "      <th>...</th>\n",
       "      <th>82</th>\n",
       "      <th>82</th>\n",
       "      <th>82</th>\n",
       "      <th>82</th>\n",
       "      <th>82</th>\n",
       "      <th>96</th>\n",
       "      <th>96</th>\n",
       "      <th>96</th>\n",
       "      <th>96</th>\n",
       "      <th>96</th>\n",
       "    </tr>\n",
       "  </thead>\n",
       "  <tbody>\n",
       "    <tr>\n",
       "      <th>mean_test_score</th>\n",
       "      <td>0.73838</td>\n",
       "      <td>0.7359</td>\n",
       "      <td>0.735277</td>\n",
       "      <td>0.733415</td>\n",
       "      <td>0.731556</td>\n",
       "      <td>0.729716</td>\n",
       "      <td>0.729068</td>\n",
       "      <td>0.728454</td>\n",
       "      <td>0.72845</td>\n",
       "      <td>0.72845</td>\n",
       "      <td>...</td>\n",
       "      <td>0.508371</td>\n",
       "      <td>0.508371</td>\n",
       "      <td>0.508371</td>\n",
       "      <td>0.508371</td>\n",
       "      <td>0.508371</td>\n",
       "      <td>0.50713</td>\n",
       "      <td>0.50713</td>\n",
       "      <td>0.50713</td>\n",
       "      <td>0.50713</td>\n",
       "      <td>0.50713</td>\n",
       "    </tr>\n",
       "    <tr>\n",
       "      <th>param_svc__gamma</th>\n",
       "      <td>0.00271</td>\n",
       "      <td>0.001946</td>\n",
       "      <td>0.00283</td>\n",
       "      <td>0.003148</td>\n",
       "      <td>0.003834</td>\n",
       "      <td>0.015524</td>\n",
       "      <td>0.00067</td>\n",
       "      <td>0.005593</td>\n",
       "      <td>0.00089</td>\n",
       "      <td>0.000458</td>\n",
       "      <td>...</td>\n",
       "      <td>33.017913</td>\n",
       "      <td>51.754341</td>\n",
       "      <td>126.722678</td>\n",
       "      <td>84.511472</td>\n",
       "      <td>120.952433</td>\n",
       "      <td>766.440217</td>\n",
       "      <td>739.685456</td>\n",
       "      <td>918.053216</td>\n",
       "      <td>263.398099</td>\n",
       "      <td>806.79529</td>\n",
       "    </tr>\n",
       "    <tr>\n",
       "      <th>param_svc__C</th>\n",
       "      <td>3427.738338</td>\n",
       "      <td>6964.791856</td>\n",
       "      <td>2865.466167</td>\n",
       "      <td>4258.402903</td>\n",
       "      <td>7224.533826</td>\n",
       "      <td>1511.374523</td>\n",
       "      <td>3617.986556</td>\n",
       "      <td>2408.658977</td>\n",
       "      <td>7636.928414</td>\n",
       "      <td>9053.515757</td>\n",
       "      <td>...</td>\n",
       "      <td>5826.810879</td>\n",
       "      <td>7087.073954</td>\n",
       "      <td>6648.824488</td>\n",
       "      <td>6007.085678</td>\n",
       "      <td>957.225166</td>\n",
       "      <td>4830.442643</td>\n",
       "      <td>9019.213727</td>\n",
       "      <td>7049.688305</td>\n",
       "      <td>3370.763834</td>\n",
       "      <td>26.980646</td>\n",
       "    </tr>\n",
       "    <tr>\n",
       "      <th>mean_fit_time</th>\n",
       "      <td>0.57044</td>\n",
       "      <td>0.737531</td>\n",
       "      <td>0.541015</td>\n",
       "      <td>0.752276</td>\n",
       "      <td>1.360414</td>\n",
       "      <td>0.966709</td>\n",
       "      <td>0.255346</td>\n",
       "      <td>0.682694</td>\n",
       "      <td>0.483506</td>\n",
       "      <td>0.367679</td>\n",
       "      <td>...</td>\n",
       "      <td>0.189366</td>\n",
       "      <td>0.202987</td>\n",
       "      <td>0.202163</td>\n",
       "      <td>0.200529</td>\n",
       "      <td>0.193613</td>\n",
       "      <td>0.204117</td>\n",
       "      <td>0.190431</td>\n",
       "      <td>0.198137</td>\n",
       "      <td>0.199533</td>\n",
       "      <td>0.193065</td>\n",
       "    </tr>\n",
       "  </tbody>\n",
       "</table>\n",
       "<p>4 rows × 100 columns</p>\n",
       "</div>"
      ],
      "text/plain": [
       "rank_test_score            1            2            3            4   \\\n",
       "mean_test_score       0.73838       0.7359     0.735277     0.733415   \n",
       "param_svc__gamma      0.00271     0.001946      0.00283     0.003148   \n",
       "param_svc__C      3427.738338  6964.791856  2865.466167  4258.402903   \n",
       "mean_fit_time         0.57044     0.737531     0.541015     0.752276   \n",
       "\n",
       "rank_test_score            5            6            7            8   \\\n",
       "mean_test_score      0.731556     0.729716     0.729068     0.728454   \n",
       "param_svc__gamma     0.003834     0.015524      0.00067     0.005593   \n",
       "param_svc__C      7224.533826  1511.374523  3617.986556  2408.658977   \n",
       "mean_fit_time        1.360414     0.966709     0.255346     0.682694   \n",
       "\n",
       "rank_test_score            9            9   ...           82           82  \\\n",
       "mean_test_score       0.72845      0.72845  ...     0.508371     0.508371   \n",
       "param_svc__gamma      0.00089     0.000458  ...    33.017913    51.754341   \n",
       "param_svc__C      7636.928414  9053.515757  ...  5826.810879  7087.073954   \n",
       "mean_fit_time        0.483506     0.367679  ...     0.189366     0.202987   \n",
       "\n",
       "rank_test_score            82           82          82           96  \\\n",
       "mean_test_score      0.508371     0.508371    0.508371      0.50713   \n",
       "param_svc__gamma   126.722678    84.511472  120.952433   766.440217   \n",
       "param_svc__C      6648.824488  6007.085678  957.225166  4830.442643   \n",
       "mean_fit_time        0.202163     0.200529    0.193613     0.204117   \n",
       "\n",
       "rank_test_score            96           96           96         96  \n",
       "mean_test_score       0.50713      0.50713      0.50713    0.50713  \n",
       "param_svc__gamma   739.685456   918.053216   263.398099  806.79529  \n",
       "param_svc__C      9019.213727  7049.688305  3370.763834  26.980646  \n",
       "mean_fit_time        0.190431     0.198137     0.199533   0.193065  \n",
       "\n",
       "[4 rows x 100 columns]"
      ]
     },
     "execution_count": 41,
     "metadata": {},
     "output_type": "execute_result"
    }
   ],
   "source": [
    "pd.DataFrame(random_search.cv_results_)[\n",
    "    [\n",
    "        \"mean_test_score\",\n",
    "        \"param_svc__gamma\",\n",
    "        \"param_svc__C\",\n",
    "        \"mean_fit_time\",\n",
    "        \"rank_test_score\",\n",
    "    ]\n",
    "].set_index(\"rank_test_score\").sort_index().T"
   ]
  },
  {
   "cell_type": "markdown",
   "metadata": {
    "slideshow": {
     "slide_type": "slide"
    }
   },
   "source": [
    "- This is a bit fancy. What's nice is that you can have it concentrate more on certain values by setting the distribution. "
   ]
  },
  {
   "cell_type": "markdown",
   "metadata": {
    "slideshow": {
     "slide_type": "slide"
    }
   },
   "source": [
    "\n",
    "### Advantages of `RandomizedSearchCV`\n",
    "\n",
    "- Faster compared to `GridSearchCV`.\n",
    "- Adding parameters that do not influence the performance does not affect efficiency.\n",
    "- Works better when some parameters are more important than others. \n",
    "- In general, I recommend using `RandomizedSearchCV` rather than `GridSearchCV`.    "
   ]
  },
  {
   "cell_type": "markdown",
   "metadata": {
    "slideshow": {
     "slide_type": "slide"
    }
   },
   "source": [
    "### Advantages of `RandomizedSearchCV`\n",
    "\n",
    "![](img/randomsearch_bergstra.png)\n",
    "    \n",
    "Source: [Bergstra and Bengio, Random Search for Hyper-Parameter Optimization, JMLR 2012](http://www.jmlr.org/papers/volume13/bergstra12a/bergstra12a.pdf)."
   ]
  },
  {
   "cell_type": "markdown",
   "metadata": {
    "slideshow": {
     "slide_type": "slide"
    }
   },
   "source": [
    "- The yellow on the left shows how your scores are going to change when you vary the unimportant hyperparameter.\n",
    "- The green on the top shows how your scores are  going to change when you vary the important hyperparameter.\n",
    "- You don't know in advance which hyperparameters are important for your problem.\n",
    "- In the left figure, 6 of the 9 searches are useless because they are only varying the unimportant parameter.\n",
    "- In the right figure, all 9 searches are useful."
   ]
  },
  {
   "cell_type": "markdown",
   "metadata": {
    "slideshow": {
     "slide_type": "slide"
    }
   },
   "source": [
    "## Fancier methods (optional)\n",
    "- Both `GridSearchCV` and `RandomizedSearchCV` do each trial independently.\n",
    "- What if you could learn from your experience, e.g. learn that `max_depth=3` is bad?\n",
    "  - That could save time because you wouldn't try combinations involving `max_depth=3` in the future.\n",
    "- We can do this with `scikit-optimize`, which is a completely different package from `scikit-learn`\n",
    "- It uses a technique called \"model-based optimization\" and we'll specifically use \"Bayesian optimization\".\n",
    "  - In short, it uses machine learning to predict what hyperparameters will be good.\n",
    "  - Machine learning on machine learning!"
   ]
  },
  {
   "cell_type": "markdown",
   "metadata": {
    "slideshow": {
     "slide_type": "slide"
    }
   },
   "source": [
    "- This is an active research area and there are sophisticated packages for this.\n",
    "\n",
    "Here are some examples \n",
    "- [hyperopt-sklearn](https://github.com/hyperopt/hyperopt-sklearn)\n",
    "- [auto-sklearn](https://github.com/automl/auto-sklearn)\n",
    "- [SigOptSearchCV](https://sigopt.com/docs/overview/scikit_learn)\n",
    "- [TPOT](https://github.com/rhiever/tpot)\n",
    "- [hyperopt](https://github.com/hyperopt/hyperopt)\n",
    "- [hyperband](https://github.com/zygmuntz/hyperband)\n",
    "- [SMAC](http://www.cs.ubc.ca/labs/beta/Projects/SMAC/)\n",
    "- [MOE](https://github.com/Yelp/MOE)\n",
    "- [pybo](https://github.com/mwhoffman/pybo)\n",
    "- [spearmint](https://github.com/HIPS/Spearmint)\n",
    "- [BayesOpt](https://github.com/rmcantin/bayesopt)"
   ]
  },
  {
   "cell_type": "code",
   "execution_count": null,
   "metadata": {
    "slideshow": {
     "slide_type": "skip"
    }
   },
   "outputs": [],
   "source": []
  },
  {
   "cell_type": "markdown",
   "metadata": {
    "slideshow": {
     "slide_type": "slide"
    }
   },
   "source": [
    "### Questions for class discussion (hyperparameter optimization)\n",
    "\n",
    "- Suppose you have 10 hyperparameters, each with 4 possible values. If you run `GridSearchCV` with this parameter grid, how many cross-validation experiments it would carry out? \n",
    "- `GridSearchCV` exhaustively searches the grid and so it's guaranteed to give you the optimal hyperparameters for the given problem. \n",
    "- It is possible to get different hyperparameters in different runs of `RandomizedSearchCV`.\n",
    "- Suppose you have 10 hyperparameters and each takes 4 values. If you run `RandomizedSearchCV` with this parameter grid, how many cross-validation experiments it would carry out? \n"
   ]
  },
  {
   "cell_type": "markdown",
   "metadata": {},
   "source": [
    "<br><br><br><br>"
   ]
  },
  {
   "cell_type": "markdown",
   "metadata": {
    "slideshow": {
     "slide_type": "slide"
    }
   },
   "source": [
    "## Optimization bias/Overfitting of the validation set"
   ]
  },
  {
   "cell_type": "markdown",
   "metadata": {
    "slideshow": {
     "slide_type": "slide"
    }
   },
   "source": [
    "### Overfitting of the validation error \n",
    "\n",
    "- Why do we need to evaluate the model on the test set in the end?\n",
    "- Why not just use cross-validation on the whole dataset? \n",
    "- While carrying out hyperparameter optimization, we usually try over many possibilities.  \n",
    "- If our dataset is small and if your validation set is hit too many times, we suffer from **optimization bias** or **overfitting the validation set**. "
   ]
  },
  {
   "cell_type": "markdown",
   "metadata": {
    "slideshow": {
     "slide_type": "slide"
    }
   },
   "source": [
    "### Optimization bias of parameter learning\n",
    "- Overfitting of the training error:\n",
    "   - as chack train data but accully showl in cross velldate data.\n",
    "- An example: \n",
    "    - During training, we could search over tons of different decision trees.\n",
    "    - So we can get \"lucky\" and find one with low training error by chance.\n",
    "\n",
    "    "
   ]
  },
  {
   "cell_type": "markdown",
   "metadata": {
    "slideshow": {
     "slide_type": "slide"
    }
   },
   "source": [
    "### Optimization bias of hyper-parameter learning\n",
    "\n",
    "- Overfitting of the validation error\n",
    "- An example: \n",
    "    - Here, we might optimize the validation error over 1000 values of `max_depth`.\n",
    "    - One of the 1000 trees might have low validation error by chance."
   ]
  },
  {
   "cell_type": "markdown",
   "metadata": {
    "slideshow": {
     "slide_type": "skip"
    }
   },
   "source": [
    "### Example 1: Optimization bias (optional)\n",
    "\n",
    "Consider a multiple-choice (a,b,c,d) \"test\" with 10 questions:\n",
    "- If you choose answers randomly, expected grade is 25% (no bias).\n",
    "- If you fill out two tests randomly and pick the best, expected grade is 33%.\n",
    "    - Optimization bias of ~8%.\n",
    "- If you take the best among 10 random tests, expected grade is ~47%.\n",
    "- If you take the best among 100, expected grade is ~62%.\n",
    "- If you take the best among 1000, expected grade is ~73%.\n",
    "- If you take the best among 10000, expected grade is ~82%.\n",
    "    - You have so many \"chances\" that you expect to do well.\n",
    "    \n",
    "**But on new questions the \"random choice\" accuracy is still 25%.**"
   ]
  },
  {
   "cell_type": "code",
   "execution_count": 3,
   "metadata": {
    "slideshow": {
     "slide_type": "skip"
    }
   },
   "outputs": [
    {
     "name": "stdout",
     "output_type": "stream",
     "text": [
      "The expected grade among the best of 1 tests is : 0.25\n",
      "The expected grade among the best of 2 tests is : 0.32\n",
      "The expected grade among the best of 10 tests is : 0.47\n",
      "The expected grade among the best of 100 tests is : 0.62\n",
      "The expected grade among the best of 1000 tests is : 0.73\n",
      "The expected grade among the best of 10000 tests is : 0.82\n"
     ]
    }
   ],
   "source": [
    "# (optional) Code attribution: Rodolfo Lourenzutti\n",
    "number_tests = [1, 2, 10, 100, 1000, 10000]\n",
    "for ntests in number_tests:\n",
    "    y = np.zeros(10000)\n",
    "    for i in range(10000):\n",
    "        y[i] = np.max(np.random.binomial(10.0, 0.25, ntests))\n",
    "    print(\n",
    "        \"The expected grade among the best of %d tests is : %0.2f\"\n",
    "        % (ntests, np.mean(y) / 10.0)\n",
    "    )"
   ]
  },
  {
   "cell_type": "markdown",
   "metadata": {
    "slideshow": {
     "slide_type": "skip"
    }
   },
   "source": [
    "### Example 2: Optimization bias (optional)\n",
    "\n",
    "- If we instead used a 100-question test then:\n",
    "    - Expected grade from best over 1 randomly-filled test is 25%.\n",
    "    - Expected grade from best over 2 randomly-filled test is ~27%.\n",
    "    - Expected grade from best over 10 randomly-filled test is ~32%.\n",
    "    - Expected grade from best over 100 randomly-filled test is ~36%.\n",
    "    - Expected grade from best over 1000 randomly-filled test is ~40%.\n",
    "    - Expected grade from best over 10000 randomly-filled test is ~43%.\n",
    "\n",
    "- The optimization bias **grows with the number of things we try**.\n",
    "    - “Complexity” of the set of models we search over.\n",
    "- But, optimization bias **shrinks quickly with the number of examples**.\n",
    "    - But it’s still non-zero and growing if you over-use your validation set!    "
   ]
  },
  {
   "cell_type": "code",
   "execution_count": null,
   "metadata": {
    "slideshow": {
     "slide_type": "skip"
    }
   },
   "outputs": [],
   "source": [
    "# (optional) Code attribution: Rodolfo Lourenzutti\n",
    "number_tests = [1, 2, 10, 100, 1000, 10000]\n",
    "for ntests in number_tests:\n",
    "    y = np.zeros(10000)\n",
    "    for i in range(10000):\n",
    "        y[i] = np.max(np.random.binomial(100.0, 0.25, ntests))\n",
    "    print(\n",
    "        \"The expected grade among the best of %d tests is : %0.2f\"\n",
    "        % (ntests, np.mean(y) / 100.0)\n",
    "    )"
   ]
  },
  {
   "cell_type": "markdown",
   "metadata": {
    "slideshow": {
     "slide_type": "slide"
    }
   },
   "source": [
    "### Optimization bias on the Spotify dataset"
   ]
  },
  {
   "cell_type": "code",
   "execution_count": 8,
   "metadata": {},
   "outputs": [],
   "source": [
    "X_train_tiny, X_test_big, y_train_tiny, y_test_big = train_test_split(\n",
    "    X_spotify, y_spotify, test_size=0.99, random_state=42\n",
    ")"
   ]
  },
  {
   "cell_type": "code",
   "execution_count": 9,
   "metadata": {},
   "outputs": [
    {
     "data": {
      "text/plain": [
       "(20, 13)"
      ]
     },
     "execution_count": 9,
     "metadata": {},
     "output_type": "execute_result"
    }
   ],
   "source": [
    "X_train_tiny.shape"
   ]
  },
  {
   "cell_type": "code",
   "execution_count": 10,
   "metadata": {},
   "outputs": [
    {
     "data": {
      "text/html": [
       "<div>\n",
       "<style scoped>\n",
       "    .dataframe tbody tr th:only-of-type {\n",
       "        vertical-align: middle;\n",
       "    }\n",
       "\n",
       "    .dataframe tbody tr th {\n",
       "        vertical-align: top;\n",
       "    }\n",
       "\n",
       "    .dataframe thead th {\n",
       "        text-align: right;\n",
       "    }\n",
       "</style>\n",
       "<table border=\"1\" class=\"dataframe\">\n",
       "  <thead>\n",
       "    <tr style=\"text-align: right;\">\n",
       "      <th></th>\n",
       "      <th>acousticness</th>\n",
       "      <th>danceability</th>\n",
       "      <th>duration_ms</th>\n",
       "      <th>energy</th>\n",
       "      <th>instrumentalness</th>\n",
       "      <th>key</th>\n",
       "      <th>liveness</th>\n",
       "      <th>loudness</th>\n",
       "      <th>mode</th>\n",
       "      <th>speechiness</th>\n",
       "      <th>tempo</th>\n",
       "      <th>time_signature</th>\n",
       "      <th>valence</th>\n",
       "    </tr>\n",
       "  </thead>\n",
       "  <tbody>\n",
       "    <tr>\n",
       "      <th>130</th>\n",
       "      <td>0.055100</td>\n",
       "      <td>0.547</td>\n",
       "      <td>251093</td>\n",
       "      <td>0.643</td>\n",
       "      <td>0.000000</td>\n",
       "      <td>1</td>\n",
       "      <td>0.2670</td>\n",
       "      <td>-8.904</td>\n",
       "      <td>1</td>\n",
       "      <td>0.2270</td>\n",
       "      <td>143.064</td>\n",
       "      <td>4.0</td>\n",
       "      <td>0.1870</td>\n",
       "    </tr>\n",
       "    <tr>\n",
       "      <th>1687</th>\n",
       "      <td>0.000353</td>\n",
       "      <td>0.420</td>\n",
       "      <td>210240</td>\n",
       "      <td>0.929</td>\n",
       "      <td>0.000747</td>\n",
       "      <td>7</td>\n",
       "      <td>0.1220</td>\n",
       "      <td>-3.899</td>\n",
       "      <td>0</td>\n",
       "      <td>0.1210</td>\n",
       "      <td>127.204</td>\n",
       "      <td>4.0</td>\n",
       "      <td>0.3180</td>\n",
       "    </tr>\n",
       "    <tr>\n",
       "      <th>871</th>\n",
       "      <td>0.314000</td>\n",
       "      <td>0.430</td>\n",
       "      <td>193427</td>\n",
       "      <td>0.734</td>\n",
       "      <td>0.000286</td>\n",
       "      <td>9</td>\n",
       "      <td>0.0808</td>\n",
       "      <td>-10.043</td>\n",
       "      <td>0</td>\n",
       "      <td>0.1020</td>\n",
       "      <td>133.992</td>\n",
       "      <td>4.0</td>\n",
       "      <td>0.0537</td>\n",
       "    </tr>\n",
       "    <tr>\n",
       "      <th>1123</th>\n",
       "      <td>0.082100</td>\n",
       "      <td>0.725</td>\n",
       "      <td>246653</td>\n",
       "      <td>0.711</td>\n",
       "      <td>0.000000</td>\n",
       "      <td>10</td>\n",
       "      <td>0.0931</td>\n",
       "      <td>-4.544</td>\n",
       "      <td>1</td>\n",
       "      <td>0.0335</td>\n",
       "      <td>93.003</td>\n",
       "      <td>4.0</td>\n",
       "      <td>0.4760</td>\n",
       "    </tr>\n",
       "    <tr>\n",
       "      <th>1396</th>\n",
       "      <td>0.286000</td>\n",
       "      <td>0.616</td>\n",
       "      <td>236960</td>\n",
       "      <td>0.387</td>\n",
       "      <td>0.000000</td>\n",
       "      <td>9</td>\n",
       "      <td>0.2770</td>\n",
       "      <td>-6.079</td>\n",
       "      <td>0</td>\n",
       "      <td>0.0335</td>\n",
       "      <td>81.856</td>\n",
       "      <td>4.0</td>\n",
       "      <td>0.4700</td>\n",
       "    </tr>\n",
       "  </tbody>\n",
       "</table>\n",
       "</div>"
      ],
      "text/plain": [
       "      acousticness  danceability  duration_ms  energy  instrumentalness  key  \\\n",
       "130       0.055100         0.547       251093   0.643          0.000000    1   \n",
       "1687      0.000353         0.420       210240   0.929          0.000747    7   \n",
       "871       0.314000         0.430       193427   0.734          0.000286    9   \n",
       "1123      0.082100         0.725       246653   0.711          0.000000   10   \n",
       "1396      0.286000         0.616       236960   0.387          0.000000    9   \n",
       "\n",
       "      liveness  loudness  mode  speechiness    tempo  time_signature  valence  \n",
       "130     0.2670    -8.904     1       0.2270  143.064             4.0   0.1870  \n",
       "1687    0.1220    -3.899     0       0.1210  127.204             4.0   0.3180  \n",
       "871     0.0808   -10.043     0       0.1020  133.992             4.0   0.0537  \n",
       "1123    0.0931    -4.544     1       0.0335   93.003             4.0   0.4760  \n",
       "1396    0.2770    -6.079     0       0.0335   81.856             4.0   0.4700  "
      ]
     },
     "execution_count": 10,
     "metadata": {},
     "output_type": "execute_result"
    }
   ],
   "source": [
    "X_train_tiny.head()"
   ]
  },
  {
   "cell_type": "code",
   "execution_count": 11,
   "metadata": {},
   "outputs": [],
   "source": [
    "pipe = make_pipeline(StandardScaler(), SVC())"
   ]
  },
  {
   "cell_type": "code",
   "execution_count": 12,
   "metadata": {
    "slideshow": {
     "slide_type": "slide"
    }
   },
   "outputs": [
    {
     "name": "stdout",
     "output_type": "stream",
     "text": [
      "Grid size: 900\n"
     ]
    },
    {
     "data": {
      "text/plain": [
       "{'svc__gamma': array([1.e-20, 1.e-19, 1.e-18, 1.e-17, 1.e-16, 1.e-15, 1.e-14, 1.e-13,\n",
       "        1.e-12, 1.e-11, 1.e-10, 1.e-09, 1.e-08, 1.e-07, 1.e-06, 1.e-05,\n",
       "        1.e-04, 1.e-03, 1.e-02, 1.e-01, 1.e+00, 1.e+01, 1.e+02, 1.e+03,\n",
       "        1.e+04, 1.e+05, 1.e+06, 1.e+07, 1.e+08, 1.e+09]),\n",
       " 'svc__C': array([1.e-20, 1.e-19, 1.e-18, 1.e-17, 1.e-16, 1.e-15, 1.e-14, 1.e-13,\n",
       "        1.e-12, 1.e-11, 1.e-10, 1.e-09, 1.e-08, 1.e-07, 1.e-06, 1.e-05,\n",
       "        1.e-04, 1.e-03, 1.e-02, 1.e-01, 1.e+00, 1.e+01, 1.e+02, 1.e+03,\n",
       "        1.e+04, 1.e+05, 1.e+06, 1.e+07, 1.e+08, 1.e+09])}"
      ]
     },
     "execution_count": 12,
     "metadata": {},
     "output_type": "execute_result"
    }
   ],
   "source": [
    "from sklearn.model_selection import RandomizedSearchCV\n",
    "\n",
    "param_grid = {\n",
    "    \"svc__gamma\": 10.0 ** np.arange(-20, 10),\n",
    "    \"svc__C\": 10.0 ** np.arange(-20, 10),\n",
    "}\n",
    "print(\"Grid size: %d\" % (np.prod(list(map(len, param_grid.values())))))\n",
    "param_grid"
   ]
  },
  {
   "cell_type": "code",
   "execution_count": 19,
   "metadata": {},
   "outputs": [],
   "source": [
    "random_search = RandomizedSearchCV(\n",
    "    pipe, param_distributions=param_grid, n_jobs=-1, n_iter=900, cv=5, random_state=123\n",
    ")\n",
    "random_search.fit(X_train_tiny, y_train_tiny);"
   ]
  },
  {
   "cell_type": "code",
   "execution_count": 20,
   "metadata": {
    "slideshow": {
     "slide_type": "slide"
    }
   },
   "outputs": [
    {
     "data": {
      "text/html": [
       "<div>\n",
       "<style scoped>\n",
       "    .dataframe tbody tr th:only-of-type {\n",
       "        vertical-align: middle;\n",
       "    }\n",
       "\n",
       "    .dataframe tbody tr th {\n",
       "        vertical-align: top;\n",
       "    }\n",
       "\n",
       "    .dataframe thead th {\n",
       "        text-align: right;\n",
       "    }\n",
       "</style>\n",
       "<table border=\"1\" class=\"dataframe\">\n",
       "  <thead>\n",
       "    <tr style=\"text-align: right;\">\n",
       "      <th>rank_test_score</th>\n",
       "      <th>1</th>\n",
       "      <th>1</th>\n",
       "      <th>3</th>\n",
       "      <th>3</th>\n",
       "      <th>3</th>\n",
       "      <th>3</th>\n",
       "      <th>3</th>\n",
       "      <th>3</th>\n",
       "      <th>3</th>\n",
       "      <th>3</th>\n",
       "      <th>...</th>\n",
       "      <th>20</th>\n",
       "      <th>20</th>\n",
       "      <th>20</th>\n",
       "      <th>20</th>\n",
       "      <th>20</th>\n",
       "      <th>20</th>\n",
       "      <th>20</th>\n",
       "      <th>20</th>\n",
       "      <th>20</th>\n",
       "      <th>900</th>\n",
       "    </tr>\n",
       "  </thead>\n",
       "  <tbody>\n",
       "    <tr>\n",
       "      <th>mean_test_score</th>\n",
       "      <td>0.8</td>\n",
       "      <td>0.8</td>\n",
       "      <td>0.75</td>\n",
       "      <td>0.75</td>\n",
       "      <td>0.75</td>\n",
       "      <td>0.75</td>\n",
       "      <td>0.75</td>\n",
       "      <td>0.75</td>\n",
       "      <td>0.75</td>\n",
       "      <td>0.75</td>\n",
       "      <td>...</td>\n",
       "      <td>0.65</td>\n",
       "      <td>0.65</td>\n",
       "      <td>0.65</td>\n",
       "      <td>0.65</td>\n",
       "      <td>0.65</td>\n",
       "      <td>0.65</td>\n",
       "      <td>0.65</td>\n",
       "      <td>0.65</td>\n",
       "      <td>0.65</td>\n",
       "      <td>0.55</td>\n",
       "    </tr>\n",
       "    <tr>\n",
       "      <th>param_svc__gamma</th>\n",
       "      <td>0.0</td>\n",
       "      <td>0.0</td>\n",
       "      <td>0.001</td>\n",
       "      <td>0.001</td>\n",
       "      <td>0.001</td>\n",
       "      <td>0.0</td>\n",
       "      <td>0.001</td>\n",
       "      <td>0.001</td>\n",
       "      <td>0.001</td>\n",
       "      <td>0.001</td>\n",
       "      <td>...</td>\n",
       "      <td>0.0</td>\n",
       "      <td>0.0</td>\n",
       "      <td>0.0</td>\n",
       "      <td>0.0</td>\n",
       "      <td>0.0</td>\n",
       "      <td>0.0</td>\n",
       "      <td>0.0</td>\n",
       "      <td>100000.0</td>\n",
       "      <td>1000000000.0</td>\n",
       "      <td>0.0</td>\n",
       "    </tr>\n",
       "    <tr>\n",
       "      <th>param_svc__C</th>\n",
       "      <td>1000000000.0</td>\n",
       "      <td>100000000.0</td>\n",
       "      <td>1000000000.0</td>\n",
       "      <td>10000.0</td>\n",
       "      <td>1000000.0</td>\n",
       "      <td>10000000.0</td>\n",
       "      <td>100000.0</td>\n",
       "      <td>1000.0</td>\n",
       "      <td>10000000.0</td>\n",
       "      <td>100000000.0</td>\n",
       "      <td>...</td>\n",
       "      <td>0.0</td>\n",
       "      <td>0.0</td>\n",
       "      <td>0.0</td>\n",
       "      <td>0.0</td>\n",
       "      <td>0.0</td>\n",
       "      <td>0.0</td>\n",
       "      <td>0.0</td>\n",
       "      <td>0.0</td>\n",
       "      <td>1000000000.0</td>\n",
       "      <td>1000000000.0</td>\n",
       "    </tr>\n",
       "    <tr>\n",
       "      <th>mean_fit_time</th>\n",
       "      <td>0.004984</td>\n",
       "      <td>0.005324</td>\n",
       "      <td>0.003033</td>\n",
       "      <td>0.004387</td>\n",
       "      <td>0.005382</td>\n",
       "      <td>0.005167</td>\n",
       "      <td>0.004576</td>\n",
       "      <td>0.005384</td>\n",
       "      <td>0.005382</td>\n",
       "      <td>0.006108</td>\n",
       "      <td>...</td>\n",
       "      <td>0.004418</td>\n",
       "      <td>0.004838</td>\n",
       "      <td>0.005101</td>\n",
       "      <td>0.004858</td>\n",
       "      <td>0.004785</td>\n",
       "      <td>0.004858</td>\n",
       "      <td>0.004886</td>\n",
       "      <td>0.005182</td>\n",
       "      <td>0.005244</td>\n",
       "      <td>0.004423</td>\n",
       "    </tr>\n",
       "  </tbody>\n",
       "</table>\n",
       "<p>4 rows × 900 columns</p>\n",
       "</div>"
      ],
      "text/plain": [
       "rank_test_score            1            1             3         3    \\\n",
       "mean_test_score            0.8          0.8          0.75      0.75   \n",
       "param_svc__gamma           0.0          0.0         0.001     0.001   \n",
       "param_svc__C      1000000000.0  100000000.0  1000000000.0   10000.0   \n",
       "mean_fit_time         0.004984     0.005324      0.003033  0.004387   \n",
       "\n",
       "rank_test_score         3           3         3         3           3    \\\n",
       "mean_test_score        0.75        0.75      0.75      0.75        0.75   \n",
       "param_svc__gamma      0.001         0.0     0.001     0.001       0.001   \n",
       "param_svc__C      1000000.0  10000000.0  100000.0    1000.0  10000000.0   \n",
       "mean_fit_time      0.005382    0.005167  0.004576  0.005384    0.005382   \n",
       "\n",
       "rank_test_score           3    ...       20        20        20        20   \\\n",
       "mean_test_score          0.75  ...      0.65      0.65      0.65      0.65   \n",
       "param_svc__gamma        0.001  ...       0.0       0.0       0.0       0.0   \n",
       "param_svc__C      100000000.0  ...       0.0       0.0       0.0       0.0   \n",
       "mean_fit_time        0.006108  ...  0.004418  0.004838  0.005101  0.004858   \n",
       "\n",
       "rank_test_score        20        20        20        20            20   \\\n",
       "mean_test_score       0.65      0.65      0.65      0.65          0.65   \n",
       "param_svc__gamma       0.0       0.0       0.0  100000.0  1000000000.0   \n",
       "param_svc__C           0.0       0.0       0.0       0.0  1000000000.0   \n",
       "mean_fit_time     0.004785  0.004858  0.004886  0.005182      0.005244   \n",
       "\n",
       "rank_test_score            900  \n",
       "mean_test_score           0.55  \n",
       "param_svc__gamma           0.0  \n",
       "param_svc__C      1000000000.0  \n",
       "mean_fit_time         0.004423  \n",
       "\n",
       "[4 rows x 900 columns]"
      ]
     },
     "execution_count": 20,
     "metadata": {},
     "output_type": "execute_result"
    }
   ],
   "source": [
    "pd.DataFrame(random_search.cv_results_)[\n",
    "    [\n",
    "        \"mean_test_score\",\n",
    "        \"param_svc__gamma\",\n",
    "        \"param_svc__C\",\n",
    "        \"mean_fit_time\",\n",
    "        \"rank_test_score\",\n",
    "    ]\n",
    "].set_index(\"rank_test_score\").sort_index().T"
   ]
  },
  {
   "cell_type": "markdown",
   "metadata": {},
   "source": [
    "Given the results: one might claim that we found a model that performs with 0.8 accuracy on our dataset. "
   ]
  },
  {
   "cell_type": "markdown",
   "metadata": {
    "slideshow": {
     "slide_type": "slide"
    }
   },
   "source": [
    "- Do we really believe that 0.80 is a good estimate of our test data?\n",
    "- Do we really believe that `gamma`=0.0 and C=1_000_000_000 are the best hyperparameters? "
   ]
  },
  {
   "cell_type": "markdown",
   "metadata": {
    "slideshow": {
     "slide_type": "slide"
    }
   },
   "source": [
    "- Let's find out the test score with this best model. "
   ]
  },
  {
   "cell_type": "code",
   "execution_count": 21,
   "metadata": {
    "slideshow": {
     "slide_type": "-"
    }
   },
   "outputs": [
    {
     "data": {
      "text/plain": [
       "0.6163366336633663"
      ]
     },
     "execution_count": 21,
     "metadata": {},
     "output_type": "execute_result"
    }
   ],
   "source": [
    "random_search.score(X_test, y_test)"
   ]
  },
  {
   "cell_type": "markdown",
   "metadata": {
    "slideshow": {
     "slide_type": "slide"
    }
   },
   "source": [
    "- The results above are overly optimistic. \n",
    "    - because our training data is very small and so our validation splits in cross validation would be small. \n",
    "    - because of the small dataset and the fact that we hit the small validation set 900 times and it's possible that we got lucky on the validation set! "
   ]
  },
  {
   "cell_type": "markdown",
   "metadata": {
    "slideshow": {
     "slide_type": "slide"
    }
   },
   "source": [
    "- As we suspected, the best cross-validation score is not a good estimate of our test data; it is overly optimistic. \n",
    "- We can trust this test score because the test set is of good size."
   ]
  },
  {
   "cell_type": "code",
   "execution_count": 16,
   "metadata": {},
   "outputs": [
    {
     "data": {
      "text/plain": [
       "(1997, 13)"
      ]
     },
     "execution_count": 16,
     "metadata": {},
     "output_type": "execute_result"
    }
   ],
   "source": [
    "X_test_big.shape"
   ]
  },
  {
   "cell_type": "code",
   "execution_count": 18,
   "metadata": {},
   "outputs": [
    {
     "data": {
      "text/plain": [
       "0.599899849774662"
      ]
     },
     "execution_count": 18,
     "metadata": {},
     "output_type": "execute_result"
    }
   ],
   "source": [
    "random_search.score(X_test_big, y_test_big)"
   ]
  },
  {
   "cell_type": "markdown",
   "metadata": {
    "slideshow": {
     "slide_type": "slide"
    }
   },
   "source": [
    "### Overfitting of the validation data\n",
    "\n",
    "The following plot demonstrates what happens during overfitting of the validation data.  \n",
    "<center>\n",
    "<img src='./img/optimization-bias.png' width=\"600\">\n",
    "</center>\n",
    "\n",
    "\n",
    "[Source](https://amueller.github.io/COMS4995-s20/slides/aml-03-supervised-learning/#20)"
   ]
  },
  {
   "cell_type": "markdown",
   "metadata": {
    "slideshow": {
     "slide_type": "slide"
    }
   },
   "source": [
    "- Thus, not only can we not trust the cv scores, we also cannot trust cv's ability to choose of the best hyperparameters. \n"
   ]
  },
  {
   "cell_type": "markdown",
   "metadata": {
    "slideshow": {
     "slide_type": "slide"
    }
   },
   "source": [
    "### Why do we need a test set? \n",
    "- This is why we need a test set.\n",
    "- The frustrating part is that if our dataset is small then our test set is also small 😔. \n",
    "- But we don't have a lot of better alternatives, unfortunately, if we have a small dataset. "
   ]
  },
  {
   "cell_type": "markdown",
   "metadata": {
    "slideshow": {
     "slide_type": "slide"
    }
   },
   "source": [
    "### When test score is much lower than CV score\n",
    "- What to do if your test score is much lower than your cross-validation score:\n",
    "    - Try simpler models and use the test set a couple of times; it's not the end of the world.\n",
    "    - Communicate this clearly when you report the results. "
   ]
  },
  {
   "cell_type": "markdown",
   "metadata": {
    "slideshow": {
     "slide_type": "slide"
    }
   },
   "source": [
    "### Large datasets solve many of these problems\n",
    "- With infinite amounts of training data, overfitting would not be a problem and you could have your test score = your train score.\n",
    "    - Overfitting happens because you only see a bit of data and you learn patterns that are overly specific to your sample.\n",
    "    - If you saw \"all\" the data, then the notion of \"overly specific\" would not apply.\n",
    "- So, more data will make your test score better and robust. "
   ]
  },
  {
   "cell_type": "markdown",
   "metadata": {
    "slideshow": {
     "slide_type": "slide"
    }
   },
   "source": [
    "### ❓❓ Questions for you"
   ]
  },
  {
   "cell_type": "markdown",
   "metadata": {
    "slideshow": {
     "slide_type": "slide"
    }
   },
   "source": [
    "### Would you trust the model?  \n",
    "\n",
    "- You have a dataset and you give me half of it. I build a model using all the data you have given me and I tell you that the model accuracy is 0.99. Would it classify the rest of the data with similar accuracy? \n",
    "\n",
    "1. Probably \n",
    "2. Probably not "
   ]
  },
  {
   "cell_type": "markdown",
   "metadata": {
    "slideshow": {
     "slide_type": "slide"
    }
   },
   "source": [
    "### Would you trust the model?  \n",
    "\n",
    "- You have a dataset and you give me half of it. I build a model using 80% of the data given to me and report the accuracy of 0.95 on the remaining 20% of the data. Would it classify the rest of the data with similar accuracy? \n",
    "\n",
    "1. Probably \n",
    "2. Probably not "
   ]
  },
  {
   "cell_type": "markdown",
   "metadata": {
    "slideshow": {
     "slide_type": "slide"
    }
   },
   "source": [
    "### Would you trust the model?  \n",
    "\n",
    "- You have a dataset and you give me 1/10th of it. The dataset given to me is rather small and so I split it into 96% train and 4% validation split. I carry out hyperparameter optimization using a single 4% validation split and report validation accuracy of 0.97. Would it classify the rest of the data with similar accuracy? \n",
    "\n",
    "1. Probably \n",
    "2. Probably not "
   ]
  },
  {
   "cell_type": "markdown",
   "metadata": {},
   "source": [
    "## Final comments and summary"
   ]
  },
  {
   "cell_type": "markdown",
   "metadata": {},
   "source": [
    "#### Automated hyperparameter optimization\n",
    "\n",
    "- Advantages \n",
    "    - reduce human effort\n",
    "    - less prone to error and improve reproducibility\n",
    "    - data-driven approaches may be effective\n",
    "- Disadvantages\n",
    "    - may be hard to incorporate intuition\n",
    "    - be careful about overfitting on the validation set"
   ]
  },
  {
   "cell_type": "markdown",
   "metadata": {},
   "source": [
    "Often, especially on typical datasets, we get back `scikit-learn`'s default hyperparameter values. This means that the defaults are well chosen by `scikit-learn` developers!"
   ]
  },
  {
   "cell_type": "markdown",
   "metadata": {},
   "source": [
    "- The problem of finding the best values for the important hyperparameters is tricky because \n",
    "    - You may have a lot of them (e.g. deep learning). \n",
    "    - You may have multiple hyperparameters which may interact with each other in unexpected ways.    \n",
    "- The best settings depend on the specific data/problem."
   ]
  },
  {
   "cell_type": "markdown",
   "metadata": {},
   "source": [
    "## Optional readings and resources\n",
    "\n",
    "- [Preventing \"overfitting\" of cross-validation data](http://www.robotics.stanford.edu/~ang/papers/cv-final.pdf) by Andrew Ng"
   ]
  }
 ],
 "metadata": {
  "kernelspec": {
   "display_name": "Python 3 (ipykernel)",
   "language": "python",
   "name": "python3"
  },
  "language_info": {
   "codemirror_mode": {
    "name": "ipython",
    "version": 3
   },
   "file_extension": ".py",
   "mimetype": "text/x-python",
   "name": "python",
   "nbconvert_exporter": "python",
   "pygments_lexer": "ipython3",
   "version": "3.9.12"
  }
 },
 "nbformat": 4,
 "nbformat_minor": 4
}
