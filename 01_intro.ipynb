{
 "cells": [
  {
   "cell_type": "markdown",
   "id": "11e19500-5b1a-47d4-929f-a4e4db5fe3b6",
   "metadata": {},
   "source": [
    "# Lecture 1: Course Introduction \n"
   ]
  },
  {
   "cell_type": "markdown",
   "id": "f371b587-97b2-4fa1-8260-90458a91ee10",
   "metadata": {
    "slideshow": {
     "slide_type": "skip"
    }
   },
   "source": [
    "## Imports"
   ]
  },
  {
   "cell_type": "code",
   "execution_count": null,
   "id": "05be1ee9-5aa2-4b6c-9b20-ccb6d482a60a",
   "metadata": {
    "scrolled": true,
    "slideshow": {
     "slide_type": "skip"
    }
   },
   "outputs": [],
   "source": [
    "import glob\n",
    "import os\n",
    "import re\n",
    "import sys\n",
    "\n",
    "import matplotlib.pyplot as plt\n",
    "import numpy as np\n",
    "import pandas as pd\n",
    "\n",
    "sys.path.append(\"code/.\")\n",
    "#import graphviz\n",
    "import IPython\n",
    "#import mglearn\n",
    "from IPython.display import HTML, display\n",
    "# from plotting_functions import *\n",
    "from sklearn.dummy import DummyClassifier\n",
    "from sklearn.feature_extraction.text import CountVectorizer\n",
    "from sklearn.linear_model import LinearRegression, LogisticRegression\n",
    "from sklearn.model_selection import train_test_split\n",
    "from sklearn.pipeline import Pipeline, make_pipeline\n",
    "from sklearn.tree import DecisionTreeClassifier, DecisionTreeRegressor, export_graphviz\n",
    "#from utils import *\n",
    "\n",
    "plt.rcParams[\"font.size\"] = 16\n",
    "pd.set_option(\"display.max_colwidth\", 200)"
   ]
  },
  {
   "cell_type": "markdown",
   "id": "21fab386-d11d-4f52-8316-0fe7498dec04",
   "metadata": {
    "slideshow": {
     "slide_type": "skip"
    }
   },
   "source": [
    "## Learning outcomes \n",
    "From this lecture, you will be able to \n",
    "\n",
    "- explain the motivation to study machine learning;\n",
    "- explain supervised machine learning; \n",
    "- navigate through the course material;\n",
    "- be familiar with the policies and how the class is going to run; \n",
    "- set up your computer for the course. "
   ]
  },
  {
   "cell_type": "markdown",
   "id": "eff2184c-6a3e-45d6-9316-b9c4567052da",
   "metadata": {},
   "source": [
    "<br><br>"
   ]
  },
  {
   "cell_type": "markdown",
   "id": "e2188207-a544-4d29-acee-534686767b18",
   "metadata": {
    "slideshow": {
     "slide_type": "slide"
    }
   },
   "source": [
    "## Why machine learning (ML)? "
   ]
  },
  {
   "cell_type": "markdown",
   "id": "e3fd30e2-09cf-42a8-9fb9-c2162492ac10",
   "metadata": {
    "slideshow": {
     "slide_type": "slide"
    }
   },
   "source": [
    "### Prevalence of ML\n",
    "\n",
    "Let's look at some examples. \n",
    "\n",
    "<!-- <img src=\"img/ml-examples.png\" height=\"1000\" width=\"1000\">  -->\n",
    "![](img/ml-examples.png)\n"
   ]
  },
  {
   "cell_type": "markdown",
   "id": "3173c908-063f-42d1-9d5b-b8276b95dff0",
   "metadata": {
    "slideshow": {
     "slide_type": "slide"
    }
   },
   "source": [
    "- Image sources \n",
    "    - [Voice assistants](https://geeksfl.com/blog/best-voice-assistant/)\n",
    "    - [Google News](https://news.google.com)    \n",
    "    - [Recommendation systems](https://en.wikipedia.org/wiki/Recommender_system)\n",
    "    - [Face Recognition source](https://startupleague.online/blog/3dss-tech-facial-recognition-technology/)\n",
    "    - [Auto-completion](https://9to5google.com/2020/08/10/android-11-autofill-keyboard/)\n",
    "    - [Stock market prediction](https://hbr.org/2019/12/what-machine-learning-will-mean-for-asset-managers)    \n",
    "    - [Character recognition](https://en.wikipedia.org/wiki/Handwriting_recognition)    \n",
    "    - [AlphaGo](https://deepmind.com/alphago-china)\n",
    "    - [Self-driving cars](https://mc.ai/artificial-intelligence-in-self-driving-cars%E2%80%8A-%E2%80%8Ahow-far-have-we-gotten/)\n",
    "    - [Drug discovery](https://www.nature.com/articles/d41586-018-05267-x)\n",
    "    - [Cancer detection](https://venturebeat.com/2018/10/12/google-ai-claims-99-accuracy-in-metastatic-breast-cancer-detection/)"
   ]
  },
  {
   "cell_type": "markdown",
   "id": "0dc9c455-d58e-4168-bd21-3f2f160050f2",
   "metadata": {
    "slideshow": {
     "slide_type": "slide"
    }
   },
   "source": [
    "### Saving time and scaling products \n",
    "\n",
    "- Imagine writing a program for spam identification, i.e., whether an email is spam or non-spam. \n",
    "- Traditional programming \n",
    "    - Come up with rules using human understanding of spam messages. \n",
    "    - Time consuming and hard to come up with robust set of rules. \n",
    "- Machine learning\n",
    "    - Collect large amount of data of spam and non-spam emails and let the machine learning algorithm figure out rules. \n",
    "- With machine learning, you're likely to \n",
    "    - Save time \n",
    "    - Customize and scale products "
   ]
  },
  {
   "cell_type": "markdown",
   "id": "d6785fa9-4817-44ff-adc1-c3b78b811a54",
   "metadata": {
    "slideshow": {
     "slide_type": "skip"
    }
   },
   "source": [
    "<br><br>"
   ]
  },
  {
   "cell_type": "markdown",
   "id": "c9c7aae1-e956-4616-86d9-d5acec66de50",
   "metadata": {
    "slideshow": {
     "slide_type": "slide"
    }
   },
   "source": [
    "## Supervised machine learning "
   ]
  },
  {
   "cell_type": "markdown",
   "id": "813b1ccb-5a6b-428a-9fc3-d237d7786f4c",
   "metadata": {
    "slideshow": {
     "slide_type": "slide"
    }
   },
   "source": [
    "### Types of machine learning\n",
    "\n",
    "Here are some typical learning problems. \n",
    "\n",
    "- **Supervised learning** ([Gmail spam filtering](https://support.google.com/a/answer/2368132?hl=en))\n",
    "    - Training a model from input data and its corresponding targets to predict targets for new examples.     \n",
    "- Unsupervised learning ([Google News](https://news.google.com/))\n",
    "    - Training a model to find patterns in a dataset, typically an unlabeled dataset.\n",
    "- Reinforcement learning ([AlphaGo](https://deepmind.com/research/case-studies/alphago-the-story-so-far))\n",
    "    - A family of algorithms for finding suitable actions to take in a given situation in order to maximize a reward. \n",
    "- Recommendation systems ([Amazon item recommendation system](https://www.cs.umd.edu/~samir/498/Amazon-Recommendations.pdf))\n",
    "    - Predict the \"rating\" or \"preference\" a user would give to an item.    "
   ]
  },
  {
   "cell_type": "markdown",
   "id": "325190f1-78b3-46d5-9c08-27f534424811",
   "metadata": {
    "slideshow": {
     "slide_type": "slide"
    }
   },
   "source": [
    "### What is supervised machine learning (ML)? \n",
    "\n",
    "- Training data comprises a set of observations ($X$) and their corresponding targets ($y$). \n",
    "- We wish to find a model function $f$ that relates $X$ to $y$.\n",
    "- We use the model function to predict targets of new examples. \n",
    "\n",
    "![](img/sup-learning.png)\n",
    "<!-- <img src=\"img/sup-learning.png\" height=\"800\" width=\"800\">  -->\n"
   ]
  },
  {
   "cell_type": "markdown",
   "id": "654ed546-6135-40b8-ac7a-fc8b16980281",
   "metadata": {
    "slideshow": {
     "slide_type": "slide"
    }
   },
   "source": [
    "### Example: Predict whether a message is spam or not "
   ]
  },
  {
   "cell_type": "markdown",
   "id": "b7329c29-118e-4fae-b670-69091120258a",
   "metadata": {},
   "source": [
    "#### Input features $X$ and target $y$"
   ]
  },
  {
   "cell_type": "markdown",
   "id": "9e13ac7b-ebcb-4d39-b869-7b8131f087fb",
   "metadata": {},
   "source": [
    "```{note}\n",
    "Do not worry about the code and syntax for now. \n",
    "```"
   ]
  },
  {
   "cell_type": "markdown",
   "id": "ba48d1a2-425a-409e-adf6-1bde99e2fe8d",
   "metadata": {
    "slideshow": {
     "slide_type": "-"
    }
   },
   "source": [
    "```{note}\n",
    "Download SMS Spam Collection Dataset from [here](https://www.kaggle.com/uciml/sms-spam-collection-dataset). \n",
    "```"
   ]
  },
  {
   "cell_type": "code",
   "execution_count": null,
   "id": "f4511fed-6251-4301-9217-240723c2075e",
   "metadata": {
    "tags": [
     "hide-input"
    ]
   },
   "outputs": [],
   "source": [
    "sms_df = pd.read_csv(\"data/spam.csv\", encoding=\"latin-1\")\n",
    "sms_df = sms_df.drop(columns = [\"Unnamed: 2\", \"Unnamed: 3\", \"Unnamed: 4\"])\n",
    "sms_df = sms_df.rename(columns={\"v1\": \"target\", \"v2\": \"sms\"})\n",
    "train_df, test_df = train_test_split(sms_df, test_size=0.10, random_state=42)\n",
    "HTML(train_df.head().to_html(index=False))"
   ]
  },
  {
   "cell_type": "markdown",
   "id": "f8fa2de9-b37a-40f3-9189-b84f940903fd",
   "metadata": {
    "slideshow": {
     "slide_type": "slide"
    }
   },
   "source": [
    "#### Training a supervised machine learning model with $X$ and $y$"
   ]
  },
  {
   "cell_type": "code",
   "execution_count": null,
   "id": "6f38510c-ad87-4d48-b267-cfe7bf44aa83",
   "metadata": {
    "slideshow": {
     "slide_type": "-"
    }
   },
   "outputs": [],
   "source": [
    "X_train, y_train = train_df[\"sms\"], train_df[\"target\"]\n",
    "X_test, y_test = test_df[\"sms\"], test_df[\"target\"]\n",
    "\n",
    "clf = Pipeline(\n",
    "    [\n",
    "        (\"vect\", CountVectorizer(max_features=5000)),\n",
    "        (\"clf\", LogisticRegression(max_iter=5000)),\n",
    "    ]\n",
    ")\n",
    "clf.fit(X_train, y_train);"
   ]
  },
  {
   "cell_type": "markdown",
   "id": "77f1152c-5952-47a6-b8dd-30ddb444ac9c",
   "metadata": {
    "slideshow": {
     "slide_type": "slide"
    }
   },
   "source": [
    "#### Predicting on unseen data using the trained model"
   ]
  },
  {
   "cell_type": "code",
   "execution_count": null,
   "id": "e20d2921-a8d0-4b63-8756-3bb5fb5c869a",
   "metadata": {},
   "outputs": [],
   "source": [
    "pd.DataFrame(X_test[0:4])"
   ]
  },
  {
   "cell_type": "markdown",
   "id": "5d1e8469-e307-4136-a794-02b404de9756",
   "metadata": {},
   "source": [
    "```{note}\n",
    "Do not worry about the code and syntax for now. \n",
    "```"
   ]
  },
  {
   "cell_type": "code",
   "execution_count": null,
   "id": "ec41e07b-5c3b-4a44-ad64-519c9dc4bda7",
   "metadata": {
    "slideshow": {
     "slide_type": "slide"
    }
   },
   "outputs": [],
   "source": [
    "pred_dict = {\n",
    "    \"sms\": X_test[0:4],\n",
    "    \"spam_predictions\": clf.predict(X_test[0:4]),\n",
    "}\n",
    "pred_df = pd.DataFrame(pred_dict)\n",
    "pred_df.style.set_properties(**{\"text-align\": \"left\"})"
   ]
  },
  {
   "cell_type": "markdown",
   "id": "7a097504-cfaa-4ad1-9911-78a93ab4b3ba",
   "metadata": {},
   "source": [
    "**We have accurately predicted labels for the unseen text messages above!**"
   ]
  },
  {
   "cell_type": "markdown",
   "id": "f732497a-8cf9-40fc-8ee5-7f991bac314c",
   "metadata": {},
   "source": [
    "<br><br>"
   ]
  },
  {
   "cell_type": "markdown",
   "id": "212f3d9a-87d1-482a-87de-ef52974ecbbf",
   "metadata": {
    "slideshow": {
     "slide_type": "slide"
    }
   },
   "source": [
    "### (Supervised) machine learning: popular definition \n",
    "<blockquote>\n",
    "A field of study that gives computers the ability to learn without being explicitly programmed. <br> -- Arthur Samuel (1959)\n",
    "</blockquote>\n",
    "\n",
    "ML is a different way to think about problem solving.\n",
    "\n",
    "![](img/traditional-programming-vs-ML.png)\n",
    "<!-- <img src=\"img/traditional-programming-vs-ML.png\" height=\"700\" width=\"700\">  -->"
   ]
  },
  {
   "cell_type": "markdown",
   "id": "3ecf610e-1da9-4331-8884-7c7c0a70b85e",
   "metadata": {
    "slideshow": {
     "slide_type": "slide"
    }
   },
   "source": [
    "### Examples\n",
    "\n",
    "Let's look at some concrete examples of supervised machine learning. "
   ]
  },
  {
   "cell_type": "markdown",
   "id": "09ef1355-a85b-406a-9fcb-c730da77d28e",
   "metadata": {
    "slideshow": {
     "slide_type": "-"
    }
   },
   "source": [
    "```{note}\n",
    "Do not worry about the code at this point. Just focus on the input and output in each example.\n",
    "```"
   ]
  },
  {
   "cell_type": "markdown",
   "id": "9e6ba6a2-012a-445f-8787-abc1e9d7a800",
   "metadata": {
    "slideshow": {
     "slide_type": "slide"
    }
   },
   "source": [
    "#### Example 1: Predicting whether a patient has a liver disease or not"
   ]
  },
  {
   "cell_type": "markdown",
   "id": "928773b1-d9a0-4197-9933-6bc803e0a123",
   "metadata": {
    "slideshow": {
     "slide_type": "-"
    }
   },
   "source": [
    "##### Input data\n",
    "\n",
    "Suppose we are interested in predicting whether a patient has the disease or not. We are given some tabular data with inputs and outputs of liver patients, as shown below. The data contains a number of input features and a special column called \"Target\" which is the output we are interested in predicting. "
   ]
  },
  {
   "cell_type": "markdown",
   "id": "99bb7174-190b-4fbd-9f58-f66818a608ad",
   "metadata": {
    "slideshow": {
     "slide_type": "-"
    }
   },
   "source": [
    "```{note}\n",
    "Download the data from [here](https://www.kaggle.com/uciml/indian-liver-patient-records). \n",
    "```"
   ]
  },
  {
   "cell_type": "code",
   "execution_count": null,
   "id": "86996f4a-2365-40d7-b3d0-cb67f511ee31",
   "metadata": {
    "slideshow": {
     "slide_type": "slide"
    },
    "tags": [
     "hide-input"
    ]
   },
   "outputs": [],
   "source": [
    "df = pd.read_csv(\"data/indian_liver_patient.csv\")\n",
    "df = df.drop(columns = [\"Gender\"])\n",
    "df[\"Dataset\"] = df[\"Dataset\"].replace(1, \"Disease\")\n",
    "df[\"Dataset\"] = df[\"Dataset\"].replace(2, \"No Disease\")\n",
    "df.rename(columns={\"Dataset\": \"Target\"}, inplace=True)\n",
    "train_df, test_df = train_test_split(df, test_size=4, random_state=42)\n",
    "HTML(train_df.head().to_html(index=False))"
   ]
  },
  {
   "cell_type": "markdown",
   "id": "f4427867-3135-45ec-b850-526d3a502317",
   "metadata": {
    "slideshow": {
     "slide_type": "slide"
    }
   },
   "source": [
    "##### Building a supervise machine learning model\n",
    "\n",
    "Let's train a supervised machine learning model with the input and output above. "
   ]
  },
  {
   "cell_type": "code",
   "execution_count": null,
   "id": "3e387f68",
   "metadata": {},
   "outputs": [],
   "source": [
    "# !pip install lightgbm"
   ]
  },
  {
   "cell_type": "code",
   "execution_count": null,
   "id": "e82be94f-e169-41e7-93a4-124f692c82d3",
   "metadata": {},
   "outputs": [],
   "source": [
    "from lightgbm.sklearn import LGBMClassifier\n",
    "\n",
    "X_train = train_df.drop(columns=[\"Target\"])\n",
    "y_train = train_df[\"Target\"]\n",
    "X_test = test_df.drop(columns=[\"Target\"])\n",
    "y_test = test_df[\"Target\"]\n",
    "model = LGBMClassifier(random_state=123)\n",
    "model.fit(X_train, y_train)"
   ]
  },
  {
   "cell_type": "markdown",
   "id": "e68d5fa1-2c73-4a99-9fc4-51bec777bf2a",
   "metadata": {
    "slideshow": {
     "slide_type": "slide"
    }
   },
   "source": [
    "##### Model predictions on unseen data\n",
    "\n",
    "- Given features of new patients below we'll use this model to predict whether these patients have the liver disease or not. "
   ]
  },
  {
   "cell_type": "code",
   "execution_count": null,
   "id": "7b1496c4-4094-491a-8e0c-f76a8b4ce442",
   "metadata": {},
   "outputs": [],
   "source": [
    "HTML(X_test.reset_index(drop=True).to_html(index=False))"
   ]
  },
  {
   "cell_type": "code",
   "execution_count": null,
   "id": "df5916f4-c4c1-4a9d-b3ab-db7ca5b01f56",
   "metadata": {
    "slideshow": {
     "slide_type": "slide"
    }
   },
   "outputs": [],
   "source": [
    "pred_df = pd.DataFrame({\"Predicted_target\": model.predict(X_test).tolist()})\n",
    "\n",
    "df_concat = pd.concat([pred_df, X_test.reset_index(drop=True)], axis=1)\n",
    "HTML(df_concat.to_html(index=False))"
   ]
  },
  {
   "cell_type": "code",
   "execution_count": null,
   "id": "dad98de0",
   "metadata": {},
   "outputs": [],
   "source": [
    "y_test"
   ]
  },
  {
   "cell_type": "markdown",
   "id": "cc973f4b-00fa-4f35-a0c7-29d21cb97fed",
   "metadata": {},
   "source": [
    "<br><br>"
   ]
  },
  {
   "cell_type": "markdown",
   "id": "243bd5b3-2383-4426-a346-87dd5c61af42",
   "metadata": {
    "slideshow": {
     "slide_type": "slide"
    }
   },
   "source": [
    "#### Example 2: Predicting the label of a given image \n",
    "\n",
    "Suppose you want to predict the label of a given image using supervised machine learning. We are using a pre-trained model here to predict labels of new unseen images. "
   ]
  },
  {
   "cell_type": "code",
   "execution_count": null,
   "id": "61d0d419-54e3-4265-bcda-864dcb956bcb",
   "metadata": {
    "slideshow": {
     "slide_type": "slide"
    }
   },
   "outputs": [],
   "source": [
    "from PIL import Image\n",
    "\n",
    "# Predict labels with associated probabilities for unseen images\n",
    "images = glob.glob(\"data/test_images/*.*\")\n",
    "for image in images:\n",
    "    img = Image.open(image)\n",
    "    img.load()\n",
    "    plt.imshow(img)\n",
    "    plt.show()\n",
    "    df = classify_image(img)\n",
    "    print(df.to_string(index=False))\n",
    "    print(\"--------------------------------------------------------------\")\n"
   ]
  },
  {
   "cell_type": "markdown",
   "id": "0ef72ad4-d842-4cec-a2a9-fbf67fd0e8d5",
   "metadata": {},
   "source": [
    "<br><br>"
   ]
  },
  {
   "cell_type": "markdown",
   "id": "ecf75098-7c3e-45b9-8073-318baf500003",
   "metadata": {
    "slideshow": {
     "slide_type": "slide"
    }
   },
   "source": [
    "#### Example 3: Predicting sentiment expressed in a movie review\n",
    "\n",
    "Suppose you are interested in predicting whether a given movie review is positive or negative. You can do it using supervised machine learning. "
   ]
  },
  {
   "cell_type": "markdown",
   "id": "481fdad0-5006-4384-a0cb-0c5090b8133b",
   "metadata": {},
   "source": [
    "```{note}\n",
    "Download the data from [here](https://www.kaggle.com/utathya/imdb-review-dataset). \n",
    "```"
   ]
  },
  {
   "cell_type": "code",
   "execution_count": null,
   "id": "3bc2a175-d33f-4c36-9cb1-6effc877abad",
   "metadata": {
    "slideshow": {
     "slide_type": "slide"
    },
    "tags": [
     "hide-input"
    ]
   },
   "outputs": [],
   "source": [
    "imdb_df = pd.read_csv(\"data/imdb_master.csv\", encoding=\"ISO-8859-1\")\n",
    "imdb_df = imdb_df[imdb_df[\"label\"].str.startswith((\"pos\", \"neg\"))]\n",
    "imdb_df = imdb_df.drop(columns = [\"Unnamed: 0\", \"type\", \"file\"])\n",
    "imdb_df.rename(columns={\"label\": \"target\"}, inplace=True)\n",
    "train_df, test_df = train_test_split(imdb_df, test_size=0.10, random_state=123)\n",
    "HTML(train_df.head().to_html(index=False))"
   ]
  },
  {
   "cell_type": "code",
   "execution_count": null,
   "id": "fc98c6ce-0fa2-4645-94ae-5dd501a1d994",
   "metadata": {
    "slideshow": {
     "slide_type": "slide"
    }
   },
   "outputs": [],
   "source": [
    "# Build an ML model\n",
    "X_train, y_train = train_df[\"review\"], train_df[\"target\"]\n",
    "X_test, y_test = test_df[\"review\"], test_df[\"target\"]\n",
    "\n",
    "clf = Pipeline(\n",
    "    [\n",
    "        (\"vect\", CountVectorizer(max_features=5000)),\n",
    "        (\"clf\", LogisticRegression(max_iter=5000)),\n",
    "    ]\n",
    ")\n",
    "clf.fit(X_train, y_train);"
   ]
  },
  {
   "cell_type": "code",
   "execution_count": null,
   "id": "3f345969-880e-4453-a1bf-7ad78fe98755",
   "metadata": {
    "slideshow": {
     "slide_type": "slide"
    }
   },
   "outputs": [],
   "source": [
    "# Predict on unseen data using the built model\n",
    "pred_dict = {\n",
    "    \"reviews\": X_test[0:4],\n",
    "    \"sentiment_predictions\": clf.predict(X_test[0:4]),\n",
    "}\n",
    "pred_df = pd.DataFrame(pred_dict)\n",
    "pred_df.style.set_properties(**{\"text-align\": \"left\"})"
   ]
  },
  {
   "cell_type": "markdown",
   "id": "10dad017-ca73-4833-a4cb-f3daea9ea909",
   "metadata": {},
   "source": [
    "<br><br>"
   ]
  },
  {
   "cell_type": "markdown",
   "id": "6c0991b3-c911-4fb7-96bd-5214a488beac",
   "metadata": {
    "slideshow": {
     "slide_type": "slide"
    }
   },
   "source": [
    "#### Example 4: Predicting housing prices\n",
    "\n",
    "Suppose we want to predict housing prices given a number of attributes associated with houses. "
   ]
  },
  {
   "cell_type": "markdown",
   "id": "54f23833-3765-425a-ae91-b2153bd6ff88",
   "metadata": {},
   "source": [
    "```{note}\n",
    "Download the data from [here](https://www.kaggle.com/harlfoxem/housesalesprediction). \n",
    "```"
   ]
  },
  {
   "cell_type": "code",
   "execution_count": null,
   "id": "6b42804c-09df-4905-bab9-0ed09090cc32",
   "metadata": {
    "slideshow": {
     "slide_type": "slide"
    },
    "tags": [
     "hide-input"
    ]
   },
   "outputs": [],
   "source": [
    "df = pd.read_csv(\"data/kc_house_data.csv\")\n",
    "df = df.drop(columns = [\"id\", \"date\"])\n",
    "df.rename(columns={\"price\": \"target\"}, inplace=True)\n",
    "train_df, test_df = train_test_split(df, test_size=0.2, random_state=4)\n",
    "HTML(train_df.head().to_html(index=False))"
   ]
  },
  {
   "cell_type": "code",
   "execution_count": null,
   "id": "16faede6",
   "metadata": {},
   "outputs": [],
   "source": [
    "# !pip install xgboost"
   ]
  },
  {
   "cell_type": "code",
   "execution_count": null,
   "id": "3c7669ee-891e-40d3-9d47-7b4e9d9e25b4",
   "metadata": {
    "slideshow": {
     "slide_type": "slide"
    }
   },
   "outputs": [],
   "source": [
    "# Build a regression model\n",
    "import xgboost as xgb\n",
    "from xgboost import XGBRegressor\n",
    "\n",
    "X_train, y_train = train_df.drop(columns= [\"target\"]), train_df[\"target\"]\n",
    "X_test, y_test = test_df.drop(columns= [\"target\"]), train_df[\"target\"]\n",
    "\n",
    "model = XGBRegressor()\n",
    "model.fit(X_train, y_train);"
   ]
  },
  {
   "cell_type": "code",
   "execution_count": null,
   "id": "86257c76-3e64-4f1d-858b-3f9023f01773",
   "metadata": {
    "slideshow": {
     "slide_type": "slide"
    }
   },
   "outputs": [],
   "source": [
    "# Predict on unseen examples using the built model\n",
    "pred_df = pd.DataFrame(\n",
    "    # {\"Predicted target\": model.predict(X_test[0:4]).tolist(), \"Actual price\": y_test[0:4].tolist()}\n",
    "    {\"Predicted_target\": model.predict(X_test[0:4]).tolist()}\n",
    ")\n",
    "df_concat = pd.concat([pred_df, X_test[0:4].reset_index(drop=True)], axis=1)\n",
    "HTML(df_concat.to_html(index=False))"
   ]
  },
  {
   "cell_type": "markdown",
   "id": "c2105fe0-b32a-4c03-9eb4-e8f826cd2a55",
   "metadata": {},
   "source": [
    "To summarize, supervised machine learning can be used on a variety of problems and different kinds of data. "
   ]
  },
  {
   "cell_type": "markdown",
   "id": "a2c8abb4-ab28-497c-9eb3-e808519147ce",
   "metadata": {},
   "source": [
    "<br><br>"
   ]
  },
  {
   "cell_type": "markdown",
   "id": "e8ce1ea7-4ec6-4c25-ac5b-5f13ca1a3ef5",
   "metadata": {
    "slideshow": {
     "slide_type": "slide"
    }
   },
   "source": [
    "### 🤔 Eva's questions\n",
    "\n",
    "At this point, Eva is wondering about many questions. \n",
    "\n",
    "- How are we exactly \"learning\" whether a message is spam and ham? \n",
    "- What do you mean by \"learn without being explicitly programmed\"? The code has to be somewhere ... \n",
    "- Are we expected to get correct predictions for all possible messages? How does it predict the label for a message it has not seen before?  \n",
    "- What if the model mis-labels an unseen example? For instance, what if the model incorrectly predicts a non-spam as a spam? What would be the consequences? \n",
    "- How do we measure the success or failure of spam identification? \n",
    "- If you want to use this model in the wild, how do you know how reliable it is?  \n",
    "- Would it be useful to know how confident the model is about the predictions rather than just a yes or a no?\n",
    "\n",
    "It's great to think about these questions right now. But Eva has to be patient. By the end of this course you'll know answers to many of these questions!  \n",
    "\n",
    "![](img/eva-qm.png)"
   ]
  },
  {
   "cell_type": "markdown",
   "id": "2ee4d99f-76dc-41c4-967d-32344bab1344",
   "metadata": {
    "slideshow": {
     "slide_type": "skip"
    }
   },
   "source": [
    "### Machine learning workflow \n",
    "\n",
    "Supervised machine learning is quite flexible; it can be used on a variety of problems and different kinds of data. Here is a typical workflow of a supervised machine learning systems.  \n",
    "\n",
    "![](img/ml-workflow.png)\n",
    "\n",
    "<!-- <img src=\"img/ml-workflow.png\" height=\"800\" width=\"800\">  -->\n",
    "\n",
    "We will build machine learning pipelines in this course, focusing on some of the steps above. "
   ]
  },
  {
   "cell_type": "markdown",
   "id": "c72b1d04-3709-4dc9-8d6f-daea0b7a4224",
   "metadata": {},
   "source": [
    "<br><br>"
   ]
  },
  {
   "cell_type": "markdown",
   "id": "e2bb61ff-844a-445c-8aae-1db566218f6f",
   "metadata": {},
   "source": [
    "<br><br><br><br>"
   ]
  },
  {
   "cell_type": "markdown",
   "id": "2d19b3bc-2e6d-4c2a-a1e2-e421b0e8be1b",
   "metadata": {
    "slideshow": {
     "slide_type": "slide"
    }
   },
   "source": [
    "## About this course"
   ]
  },
  {
   "cell_type": "markdown",
   "id": "116b65cb-bbe4-45ca-99f3-a60189ae482d",
   "metadata": {},
   "source": [
    "### Python requirements/resources\n",
    "\n",
    "We will primarily use Python in this course.\n",
    "\n",
    "Here is the basic Python knowledge you'll need for the course: \n",
    "\n",
    "- Basic Python programming\n",
    "- Numpy\n",
    "- Pandas\n",
    "- Basic matplotlib\n",
    "- Sparse matrices\n",
    "\n",
    "Some of you will already know Python, others won't. Homework 1 is all about Python.\n"
   ]
  },
  {
   "cell_type": "markdown",
   "id": "eeba1ffa-7593-4bda-bb3f-849c8e518c3a",
   "metadata": {},
   "source": [
    "<br><br>"
   ]
  },
  {
   "cell_type": "markdown",
   "id": "8ccc0f47-fb09-4dbb-84aa-ba1469212f96",
   "metadata": {},
   "source": [
    "<br><br>"
   ]
  },
  {
   "cell_type": "markdown",
   "id": "a6271913-db05-4bc5-ae70-6af1bb628133",
   "metadata": {},
   "source": [
    "## Summary\n",
    "\n",
    "- Machine learning is a different paradigm for problem solving.    \n",
    "- Very often it reduces the time you spend programming and helps customizing and scaling your products. \n",
    "- In supervised learning we are given a set of observations ($X$) and their corresponding targets ($y$) and we wish to find a model function $f$ that relates $X$ to $y$.\n",
    "- You should be ready with the technology stack on your laptop now. If you were not able to do it during lecture time or you ran into trouble, post on Piazza or attend one of the tutorials or office hours. \n",
    "- Carefully read the course website. Make sure to complete the surveys. \n",
    "- **The teaching team is here to help you learn the material and succeed in the course!**\n",
    "- This semester can be particularly difficult with in-person transition after the pandemic. Please reach out if you are going through hard time. I'll try my best to be accommodative and empathetic. \n",
    "- Let's have fun learning this material together!\n"
   ]
  },
  {
   "cell_type": "markdown",
   "id": "9a5db5d1-c432-41f4-a96c-7b64433591ff",
   "metadata": {},
   "source": [
    "![](img/eva-seeyou.png)"
   ]
  }
 ],
 "metadata": {
  "kernelspec": {
   "display_name": "Python 3 (ipykernel)",
   "language": "python",
   "name": "python3"
  },
  "language_info": {
   "codemirror_mode": {
    "name": "ipython",
    "version": 3
   },
   "file_extension": ".py",
   "mimetype": "text/x-python",
   "name": "python",
   "nbconvert_exporter": "python",
   "pygments_lexer": "ipython3",
   "version": "3.9.12"
  }
 },
 "nbformat": 4,
 "nbformat_minor": 5
}
