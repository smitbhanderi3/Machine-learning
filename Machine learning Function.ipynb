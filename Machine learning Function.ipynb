{
 "cells": [
  {
   "cell_type": "code",
   "execution_count": 1,
   "id": "c4dc638a",
   "metadata": {},
   "outputs": [],
   "source": [
    "import numpy as np"
   ]
  },
  {
   "cell_type": "code",
   "execution_count": 10,
   "id": "1ae00181",
   "metadata": {},
   "outputs": [],
   "source": [
    "y_predicted = np.array([1,0,1,1,0,1])\n",
    "y_true = np.array([0.30,0.70,1,0,0.35,0.5])"
   ]
  },
  {
   "cell_type": "markdown",
   "id": "27687ae6",
   "metadata": {},
   "source": [
    "### Mean Absolute Error:"
   ]
  },
  {
   "cell_type": "code",
   "execution_count": 13,
   "id": "59853030",
   "metadata": {},
   "outputs": [],
   "source": [
    "def mae(y_predicted,y_true):\n",
    "    total_error = 0\n",
    "    for yt , yp in zip(y_true,y_predicted):\n",
    "        total_error += abs(yt - yp)\n",
    "    print(\"Total Error :\",total_error)\n",
    "    \n",
    "    mae = total_error / len(y_true)\n",
    "    print(\"MAE:\",mae)\n",
    "    return mae"
   ]
  },
  {
   "cell_type": "code",
   "execution_count": 14,
   "id": "510b731b",
   "metadata": {},
   "outputs": [
    {
     "name": "stdout",
     "output_type": "stream",
     "text": [
      "Total Error : 3.25\n",
      "MAE: 0.5416666666666666\n"
     ]
    },
    {
     "data": {
      "text/plain": [
       "0.5416666666666666"
      ]
     },
     "execution_count": 14,
     "metadata": {},
     "output_type": "execute_result"
    }
   ],
   "source": [
    "mae(y_true,y_predicted)"
   ]
  },
  {
   "cell_type": "code",
   "execution_count": null,
   "id": "ae83824d",
   "metadata": {},
   "outputs": [],
   "source": [
    "#using numpy:\n",
    "\n"
   ]
  },
  {
   "cell_type": "markdown",
   "id": "2a3026a9",
   "metadata": {},
   "source": [
    "## Long loss and binary crosstory"
   ]
  },
  {
   "cell_type": "code",
   "execution_count": 15,
   "id": "27ab11b7",
   "metadata": {},
   "outputs": [],
   "source": [
    "def log_loss(y_true,y_predicted):\n",
    "    epsilon = 1e-15\n",
    "    y_predicted_new = [max(i,epsilon) for i in y_predicted]\n",
    "    y_predicted_new = [min(i,1-epsilon) for i in y_predicted_new]\n",
    "    y_predicted_new = np.array(y_predicted_new)\n",
    "    return -np.mean(y_true*np.log(y_predicted_new)+(1-y_true)*np.log(1-y_predicted_new))"
   ]
  },
  {
   "cell_type": "code",
   "execution_count": 16,
   "id": "34ee6964",
   "metadata": {},
   "outputs": [
    {
     "data": {
      "text/plain": [
       "18.708797066301027"
      ]
     },
     "execution_count": 16,
     "metadata": {},
     "output_type": "execute_result"
    }
   ],
   "source": [
    "log_loss(y_true,y_predicted)"
   ]
  },
  {
   "cell_type": "markdown",
   "id": "a1ac57f5",
   "metadata": {},
   "source": [
    "## Mean squared error:"
   ]
  },
  {
   "cell_type": "code",
   "execution_count": null,
   "id": "152766db",
   "metadata": {},
   "outputs": [],
   "source": []
  },
  {
   "cell_type": "markdown",
   "id": "10275ae8",
   "metadata": {},
   "source": [
    "## sigmoid:"
   ]
  },
  {
   "cell_type": "code",
   "execution_count": 3,
   "id": "37933e5b",
   "metadata": {},
   "outputs": [
    {
     "data": {
      "text/plain": [
       "0.9999999847700205"
      ]
     },
     "execution_count": 3,
     "metadata": {},
     "output_type": "execute_result"
    }
   ],
   "source": [
    "def sigmoid(x):\n",
    "    import math\n",
    "    return 1 / (1 +  math.exp(-x))\n",
    "sigmoid(18)\n",
    "    "
   ]
  },
  {
   "cell_type": "code",
   "execution_count": 4,
   "id": "1eee9024",
   "metadata": {},
   "outputs": [],
   "source": [
    "def prediction_function(column1,column2):\n",
    "    weighted_sum = coef[0]*column1 + coef[1]*column2 + intercept\n",
    "    return sigmoid(weighted_sum)"
   ]
  },
  {
   "cell_type": "code",
   "execution_count": null,
   "id": "0d6fbcca",
   "metadata": {},
   "outputs": [],
   "source": []
  }
 ],
 "metadata": {
  "kernelspec": {
   "display_name": "Python 3 (ipykernel)",
   "language": "python",
   "name": "python3"
  },
  "language_info": {
   "codemirror_mode": {
    "name": "ipython",
    "version": 3
   },
   "file_extension": ".py",
   "mimetype": "text/x-python",
   "name": "python",
   "nbconvert_exporter": "python",
   "pygments_lexer": "ipython3",
   "version": "3.9.12"
  }
 },
 "nbformat": 4,
 "nbformat_minor": 5
}
